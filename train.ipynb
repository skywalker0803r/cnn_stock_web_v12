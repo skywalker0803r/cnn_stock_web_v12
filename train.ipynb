{
  "cells": [
    {
      "cell_type": "markdown",
      "metadata": {
        "id": "_eorxyS1d9cT"
      },
      "source": [
        "# 套件"
      ]
    },
    {
      "cell_type": "code",
      "execution_count": 1,
      "metadata": {
        "id": "RCG33QfteKJ4"
      },
      "outputs": [],
      "source": [
        "import random\n",
        "import numpy as np\n",
        "import pandas as pd\n",
        "import tensorflow as tf\n",
        "seed = 89\n",
        "random.seed(seed)\n",
        "np.random.seed(seed)\n",
        "tf.random.set_seed(seed)"
      ]
    },
    {
      "attachments": {},
      "cell_type": "markdown",
      "metadata": {
        "id": "7-2FDorBdxLK"
      },
      "source": [
        "# 參數(建議學員可以根據需求自行調整看看)"
      ]
    },
    {
      "cell_type": "code",
      "execution_count": 2,
      "metadata": {
        "id": "5HDK9MNFdxLN"
      },
      "outputs": [],
      "source": [
        "from datetime import datetime\n",
        "y_symbol = \"^TWII\" # 股票代碼 ^TWII 台灣加權指數 美股蘋果 AAPL 台股台積電 2330.TW\n",
        "startdate = datetime(2015,1,1) # 訓練起始日期\n",
        "enddate = datetime(2025,4,15) # 訓練結束日期\n",
        "漲幅  = 1.03 # 漲3%出場\n",
        "跌幅 = 0.97 # 跌3%出場\n",
        "持有時間 = 20 #預期要持有多長時間"
      ]
    },
    {
      "cell_type": "markdown",
      "metadata": {
        "id": "6vaRLIuvJlZ7"
      },
      "source": [
        "# 載入資料"
      ]
    },
    {
      "cell_type": "markdown",
      "metadata": {
        "id": "8jKPIH-tdxLP"
      },
      "source": [
        "https://sharegpt.com/c/nwqFGKt"
      ]
    },
    {
      "cell_type": "code",
      "execution_count": 3,
      "metadata": {
        "colab": {
          "base_uri": "https://localhost:8080/",
          "height": 473
        },
        "id": "6rjcBk4sWHYE",
        "outputId": "2104f15d-fed8-4a3d-d67d-83976a530557"
      },
      "outputs": [
        {
          "name": "stdout",
          "output_type": "stream",
          "text": [
            "YF.download() has changed argument auto_adjust default to True\n"
          ]
        },
        {
          "name": "stderr",
          "output_type": "stream",
          "text": [
            "[*********************100%***********************]  1 of 1 completed\n"
          ]
        },
        {
          "data": {
            "text/html": [
              "<div>\n",
              "<style scoped>\n",
              "    .dataframe tbody tr th:only-of-type {\n",
              "        vertical-align: middle;\n",
              "    }\n",
              "\n",
              "    .dataframe tbody tr th {\n",
              "        vertical-align: top;\n",
              "    }\n",
              "\n",
              "    .dataframe thead tr th {\n",
              "        text-align: left;\n",
              "    }\n",
              "\n",
              "    .dataframe thead tr:last-of-type th {\n",
              "        text-align: right;\n",
              "    }\n",
              "</style>\n",
              "<table border=\"1\" class=\"dataframe\">\n",
              "  <thead>\n",
              "    <tr>\n",
              "      <th>Price</th>\n",
              "      <th>Close</th>\n",
              "      <th>High</th>\n",
              "      <th>Low</th>\n",
              "      <th>Open</th>\n",
              "      <th>Volume</th>\n",
              "    </tr>\n",
              "    <tr>\n",
              "      <th>Ticker</th>\n",
              "      <th>^TWII</th>\n",
              "      <th>^TWII</th>\n",
              "      <th>^TWII</th>\n",
              "      <th>^TWII</th>\n",
              "      <th>^TWII</th>\n",
              "    </tr>\n",
              "    <tr>\n",
              "      <th>Date</th>\n",
              "      <th></th>\n",
              "      <th></th>\n",
              "      <th></th>\n",
              "      <th></th>\n",
              "      <th></th>\n",
              "    </tr>\n",
              "  </thead>\n",
              "  <tbody>\n",
              "    <tr>\n",
              "      <th>2015-01-05</th>\n",
              "      <td>9274.068359</td>\n",
              "      <td>9292.267496</td>\n",
              "      <td>9181.977956</td>\n",
              "      <td>9292.267496</td>\n",
              "      <td>2311000</td>\n",
              "    </tr>\n",
              "    <tr>\n",
              "      <th>2015-01-06</th>\n",
              "      <td>9048.298828</td>\n",
              "      <td>9209.887939</td>\n",
              "      <td>9043.399436</td>\n",
              "      <td>9209.887939</td>\n",
              "      <td>2725800</td>\n",
              "    </tr>\n",
              "    <tr>\n",
              "      <th>2015-01-07</th>\n",
              "      <td>9080.047852</td>\n",
              "      <td>9108.618032</td>\n",
              "      <td>9050.498184</td>\n",
              "      <td>9051.898568</td>\n",
              "      <td>2384100</td>\n",
              "    </tr>\n",
              "    <tr>\n",
              "      <th>2015-01-08</th>\n",
              "      <td>9237.988281</td>\n",
              "      <td>9246.578086</td>\n",
              "      <td>9153.988663</td>\n",
              "      <td>9153.988663</td>\n",
              "      <td>2657600</td>\n",
              "    </tr>\n",
              "    <tr>\n",
              "      <th>2015-01-09</th>\n",
              "      <td>9215.538086</td>\n",
              "      <td>9284.528006</td>\n",
              "      <td>9215.538086</td>\n",
              "      <td>9247.358253</td>\n",
              "      <td>2398800</td>\n",
              "    </tr>\n",
              "    <tr>\n",
              "      <th>...</th>\n",
              "      <td>...</td>\n",
              "      <td>...</td>\n",
              "      <td>...</td>\n",
              "      <td>...</td>\n",
              "      <td>...</td>\n",
              "    </tr>\n",
              "    <tr>\n",
              "      <th>2025-04-08</th>\n",
              "      <td>18459.949219</td>\n",
              "      <td>19064.470703</td>\n",
              "      <td>18180.480469</td>\n",
              "      <td>19064.470703</td>\n",
              "      <td>5839900</td>\n",
              "    </tr>\n",
              "    <tr>\n",
              "      <th>2025-04-09</th>\n",
              "      <td>17391.759766</td>\n",
              "      <td>18371.519531</td>\n",
              "      <td>17306.970703</td>\n",
              "      <td>18337.439453</td>\n",
              "      <td>6177900</td>\n",
              "    </tr>\n",
              "    <tr>\n",
              "      <th>2025-04-10</th>\n",
              "      <td>19000.029297</td>\n",
              "      <td>19024.470703</td>\n",
              "      <td>18256.470703</td>\n",
              "      <td>18256.470703</td>\n",
              "      <td>2659600</td>\n",
              "    </tr>\n",
              "    <tr>\n",
              "      <th>2025-04-11</th>\n",
              "      <td>19528.769531</td>\n",
              "      <td>19528.769531</td>\n",
              "      <td>18418.199219</td>\n",
              "      <td>18772.500000</td>\n",
              "      <td>4766500</td>\n",
              "    </tr>\n",
              "    <tr>\n",
              "      <th>2025-04-14</th>\n",
              "      <td>19513.089844</td>\n",
              "      <td>20023.630859</td>\n",
              "      <td>19508.929688</td>\n",
              "      <td>19686.679688</td>\n",
              "      <td>4176300</td>\n",
              "    </tr>\n",
              "  </tbody>\n",
              "</table>\n",
              "<p>2493 rows × 5 columns</p>\n",
              "</div>"
            ],
            "text/plain": [
              "Price              Close          High           Low          Open   Volume\n",
              "Ticker             ^TWII         ^TWII         ^TWII         ^TWII    ^TWII\n",
              "Date                                                                       \n",
              "2015-01-05   9274.068359   9292.267496   9181.977956   9292.267496  2311000\n",
              "2015-01-06   9048.298828   9209.887939   9043.399436   9209.887939  2725800\n",
              "2015-01-07   9080.047852   9108.618032   9050.498184   9051.898568  2384100\n",
              "2015-01-08   9237.988281   9246.578086   9153.988663   9153.988663  2657600\n",
              "2015-01-09   9215.538086   9284.528006   9215.538086   9247.358253  2398800\n",
              "...                  ...           ...           ...           ...      ...\n",
              "2025-04-08  18459.949219  19064.470703  18180.480469  19064.470703  5839900\n",
              "2025-04-09  17391.759766  18371.519531  17306.970703  18337.439453  6177900\n",
              "2025-04-10  19000.029297  19024.470703  18256.470703  18256.470703  2659600\n",
              "2025-04-11  19528.769531  19528.769531  18418.199219  18772.500000  4766500\n",
              "2025-04-14  19513.089844  20023.630859  19508.929688  19686.679688  4176300\n",
              "\n",
              "[2493 rows x 5 columns]"
            ]
          },
          "metadata": {},
          "output_type": "display_data"
        }
      ],
      "source": [
        "import yfinance as yf\n",
        "from datetime import datetime, timedelta\n",
        "\n",
        "df = yf.download(y_symbol, start = startdate,end = enddate)\n",
        "\n",
        "display(df)\n"
      ]
    },
    {
      "cell_type": "markdown",
      "metadata": {
        "id": "HegmuvBN0FKD"
      },
      "source": [
        "# Label triple_barrier"
      ]
    },
    {
      "cell_type": "markdown",
      "metadata": {
        "id": "DN2z5An5dxLT"
      },
      "source": [
        "https://sharegpt.com/c/Eir89kz"
      ]
    },
    {
      "cell_type": "markdown",
      "metadata": {
        "id": "GxGjXpHFvuNF"
      },
      "source": [
        "提示詞:\n",
        "我想請你幫忙做程式碼補全 \n",
        "#字元後面的描述代表我想做的事情 \n",
        "<you codeing here>代表請你輸入代碼,\n",
        "我會貼給你半完成的程式碼 \n",
        "請你幫我補全程式碼,\n",
        "我的第一個程式碼如下: \n",
        "def triple_barrier_signal(price,ub,lb,t): \n",
        "''' triple-barrier包含2個horizontal barrier，1個vertical barrier。 \n",
        "首先解釋一下這3个barrier： 根據3個barrier中第一個被touch的進行label barrier 1 \n",
        "(the upper barrier)首先達到，label 1 barrier 2（the lower barrier)首先達到，\n",
        "label -1 如果barrier 1和barrier 2都没有達到，\n",
        "则barrier 3達到，label 0 ''' \n",
        "signal = [] for i in range(len(price)-t): \n",
        "# 情況1.如果price[i:i+t+1]這段序列有任何元素的值大於price[i]*ub則signal[i] = 1 \n",
        "<you codeing here> \n",
        "# 情況2.如果price[i:i+t+1]這段序列有任何元素的值低於price[i]*lb則signal[i] = -1 \n",
        "<you codeing here> \n",
        "# 如果以上情況1和情況2都沒有發生則signal[i] = 0 \n",
        "<you codeing here> \n",
        "return signal\n",
        "\n"
      ]
    },
    {
      "cell_type": "code",
      "execution_count": 5,
      "metadata": {
        "colab": {
          "base_uri": "https://localhost:8080/"
        },
        "id": "k7-yJxJ7dxLU",
        "outputId": "a1f71e77-d0f7-490a-beab-73b544f2a214"
      },
      "outputs": [],
      "source": [
        "import numpy as np\n",
        "import math\n",
        "def triple_barrier_signal(price,ub,lb,t):\n",
        "  '''\n",
        "  triple-barrier包含2個horizontal barrier，1個vertical barrier。\n",
        "  首先解釋一下這3个barrier：\n",
        "  根據3个barrier中第一個被touch的進行label\n",
        "  barrier 1 (the upper barrier)首先達到，label 1\n",
        "  barrier 2（the lower barrier)首先達到，label -1\n",
        "  如果barrier 1和barrier 2都没有達到，则barrier 3達到，label 0\n",
        "  '''\n",
        "  signal = []\n",
        "  for i in range(len(price)-t):\n",
        "    # 情況1.如果price[i:i+t+1]這段序列有任何元素的值大於price[i]*ub則signal[i] = 1\n",
        "    if max(price[i:i+t+1]) > price[i] * ub:\n",
        "      signal.append(1)\n",
        "    # 情況2.如果price[i:i+t+1]這段序列有任何元素的值低於price[i]*lb則signal[i] = -1\n",
        "    elif min(price[i:i+t+1]) < price[i] * lb:\n",
        "      signal.append(-1)\n",
        "    # 如果以上情況1和情況2都沒有發生則signal[i] = 0\n",
        "    else:\n",
        "      signal.append(0)\n",
        "  return signal\n",
        "\n",
        "from itertools import chain\n",
        "ret = triple_barrier_signal(list(chain.from_iterable(df.Close.values.tolist())),漲幅,跌幅,持有時間)\n",
        "df = df.head(len(ret))\n",
        "df['triple_barrier_signal'] = ret"
      ]
    },
    {
      "cell_type": "markdown",
      "metadata": {
        "id": "DELsyrG_dxLV"
      },
      "source": [
        "# check 'triple_barrier_signal'"
      ]
    },
    {
      "cell_type": "code",
      "execution_count": 6,
      "metadata": {
        "colab": {
          "base_uri": "https://localhost:8080/",
          "height": 707
        },
        "id": "MHRZWGG40a3q",
        "outputId": "f055b042-81d4-4a9d-d8f0-b7b26a3d2eda"
      },
      "outputs": [
        {
          "data": {
            "text/html": [
              "<div>\n",
              "<style scoped>\n",
              "    .dataframe tbody tr th:only-of-type {\n",
              "        vertical-align: middle;\n",
              "    }\n",
              "\n",
              "    .dataframe tbody tr th {\n",
              "        vertical-align: top;\n",
              "    }\n",
              "\n",
              "    .dataframe thead tr th {\n",
              "        text-align: left;\n",
              "    }\n",
              "\n",
              "    .dataframe thead tr:last-of-type th {\n",
              "        text-align: right;\n",
              "    }\n",
              "</style>\n",
              "<table border=\"1\" class=\"dataframe\">\n",
              "  <thead>\n",
              "    <tr>\n",
              "      <th>Price</th>\n",
              "      <th>Close</th>\n",
              "      <th>High</th>\n",
              "      <th>Low</th>\n",
              "      <th>Open</th>\n",
              "      <th>Volume</th>\n",
              "      <th>triple_barrier_signal</th>\n",
              "    </tr>\n",
              "    <tr>\n",
              "      <th>Ticker</th>\n",
              "      <th>^TWII</th>\n",
              "      <th>^TWII</th>\n",
              "      <th>^TWII</th>\n",
              "      <th>^TWII</th>\n",
              "      <th>^TWII</th>\n",
              "      <th></th>\n",
              "    </tr>\n",
              "    <tr>\n",
              "      <th>Date</th>\n",
              "      <th></th>\n",
              "      <th></th>\n",
              "      <th></th>\n",
              "      <th></th>\n",
              "      <th></th>\n",
              "      <th></th>\n",
              "    </tr>\n",
              "  </thead>\n",
              "  <tbody>\n",
              "    <tr>\n",
              "      <th>2025-01-07</th>\n",
              "      <td>23651.269531</td>\n",
              "      <td>23943.949219</td>\n",
              "      <td>23651.269531</td>\n",
              "      <td>23824.720703</td>\n",
              "      <td>3207900</td>\n",
              "      <td>-1</td>\n",
              "    </tr>\n",
              "    <tr>\n",
              "      <th>2025-01-08</th>\n",
              "      <td>23407.330078</td>\n",
              "      <td>23671.279297</td>\n",
              "      <td>23388.630859</td>\n",
              "      <td>23522.289062</td>\n",
              "      <td>2606700</td>\n",
              "      <td>-1</td>\n",
              "    </tr>\n",
              "    <tr>\n",
              "      <th>2025-01-09</th>\n",
              "      <td>23081.130859</td>\n",
              "      <td>23463.960938</td>\n",
              "      <td>23081.130859</td>\n",
              "      <td>23406.720703</td>\n",
              "      <td>3399500</td>\n",
              "      <td>0</td>\n",
              "    </tr>\n",
              "    <tr>\n",
              "      <th>2025-01-10</th>\n",
              "      <td>23011.859375</td>\n",
              "      <td>23202.250000</td>\n",
              "      <td>22989.669922</td>\n",
              "      <td>23067.460938</td>\n",
              "      <td>2979400</td>\n",
              "      <td>0</td>\n",
              "    </tr>\n",
              "    <tr>\n",
              "      <th>2025-01-13</th>\n",
              "      <td>22488.330078</td>\n",
              "      <td>23070.320312</td>\n",
              "      <td>22458.220703</td>\n",
              "      <td>23070.320312</td>\n",
              "      <td>3544500</td>\n",
              "      <td>1</td>\n",
              "    </tr>\n",
              "    <tr>\n",
              "      <th>2025-01-14</th>\n",
              "      <td>22797.519531</td>\n",
              "      <td>22797.519531</td>\n",
              "      <td>22542.929688</td>\n",
              "      <td>22573.960938</td>\n",
              "      <td>2319000</td>\n",
              "      <td>1</td>\n",
              "    </tr>\n",
              "    <tr>\n",
              "      <th>2025-01-15</th>\n",
              "      <td>22514.570312</td>\n",
              "      <td>22777.339844</td>\n",
              "      <td>22509.650391</td>\n",
              "      <td>22757.460938</td>\n",
              "      <td>2359800</td>\n",
              "      <td>1</td>\n",
              "    </tr>\n",
              "    <tr>\n",
              "      <th>2025-01-16</th>\n",
              "      <td>23025.099609</td>\n",
              "      <td>23147.689453</td>\n",
              "      <td>22817.519531</td>\n",
              "      <td>22817.519531</td>\n",
              "      <td>2497000</td>\n",
              "      <td>1</td>\n",
              "    </tr>\n",
              "    <tr>\n",
              "      <th>2025-01-17</th>\n",
              "      <td>23148.080078</td>\n",
              "      <td>23209.880859</td>\n",
              "      <td>22905.529297</td>\n",
              "      <td>23190.119141</td>\n",
              "      <td>2465000</td>\n",
              "      <td>0</td>\n",
              "    </tr>\n",
              "    <tr>\n",
              "      <th>2025-01-20</th>\n",
              "      <td>23266.820312</td>\n",
              "      <td>23346.640625</td>\n",
              "      <td>23176.429688</td>\n",
              "      <td>23203.470703</td>\n",
              "      <td>2168200</td>\n",
              "      <td>0</td>\n",
              "    </tr>\n",
              "    <tr>\n",
              "      <th>2025-01-21</th>\n",
              "      <td>23300.009766</td>\n",
              "      <td>23377.640625</td>\n",
              "      <td>23174.019531</td>\n",
              "      <td>23266.820312</td>\n",
              "      <td>0</td>\n",
              "      <td>0</td>\n",
              "    </tr>\n",
              "    <tr>\n",
              "      <th>2025-01-22</th>\n",
              "      <td>23525.410156</td>\n",
              "      <td>23642.080078</td>\n",
              "      <td>23472.669922</td>\n",
              "      <td>23472.669922</td>\n",
              "      <td>2695000</td>\n",
              "      <td>-1</td>\n",
              "    </tr>\n",
              "    <tr>\n",
              "      <th>2025-02-03</th>\n",
              "      <td>22694.710938</td>\n",
              "      <td>22796.710938</td>\n",
              "      <td>22502.199219</td>\n",
              "      <td>22796.710938</td>\n",
              "      <td>3428900</td>\n",
              "      <td>1</td>\n",
              "    </tr>\n",
              "    <tr>\n",
              "      <th>2025-02-04</th>\n",
              "      <td>22793.960938</td>\n",
              "      <td>22934.310547</td>\n",
              "      <td>22720.619141</td>\n",
              "      <td>22836.269531</td>\n",
              "      <td>2990000</td>\n",
              "      <td>1</td>\n",
              "    </tr>\n",
              "    <tr>\n",
              "      <th>2025-02-05</th>\n",
              "      <td>23161.580078</td>\n",
              "      <td>23249.330078</td>\n",
              "      <td>22916.380859</td>\n",
              "      <td>22916.380859</td>\n",
              "      <td>2482200</td>\n",
              "      <td>0</td>\n",
              "    </tr>\n",
              "    <tr>\n",
              "      <th>2025-02-06</th>\n",
              "      <td>23316.599609</td>\n",
              "      <td>23348.419922</td>\n",
              "      <td>23216.650391</td>\n",
              "      <td>23226.500000</td>\n",
              "      <td>2400700</td>\n",
              "      <td>-1</td>\n",
              "    </tr>\n",
              "    <tr>\n",
              "      <th>2025-02-07</th>\n",
              "      <td>23478.269531</td>\n",
              "      <td>23478.269531</td>\n",
              "      <td>23254.169922</td>\n",
              "      <td>23289.970703</td>\n",
              "      <td>2672200</td>\n",
              "      <td>-1</td>\n",
              "    </tr>\n",
              "    <tr>\n",
              "      <th>2025-02-10</th>\n",
              "      <td>23252.140625</td>\n",
              "      <td>23448.160156</td>\n",
              "      <td>23163.849609</td>\n",
              "      <td>23421.769531</td>\n",
              "      <td>2706000</td>\n",
              "      <td>-1</td>\n",
              "    </tr>\n",
              "    <tr>\n",
              "      <th>2025-02-11</th>\n",
              "      <td>23384.050781</td>\n",
              "      <td>23485.509766</td>\n",
              "      <td>23289.759766</td>\n",
              "      <td>23321.919922</td>\n",
              "      <td>2956500</td>\n",
              "      <td>-1</td>\n",
              "    </tr>\n",
              "    <tr>\n",
              "      <th>2025-02-12</th>\n",
              "      <td>23289.750000</td>\n",
              "      <td>23528.609375</td>\n",
              "      <td>23289.750000</td>\n",
              "      <td>23449.310547</td>\n",
              "      <td>3159400</td>\n",
              "      <td>-1</td>\n",
              "    </tr>\n",
              "  </tbody>\n",
              "</table>\n",
              "</div>"
            ],
            "text/plain": [
              "Price              Close          High           Low          Open   Volume  \\\n",
              "Ticker             ^TWII         ^TWII         ^TWII         ^TWII    ^TWII   \n",
              "Date                                                                          \n",
              "2025-01-07  23651.269531  23943.949219  23651.269531  23824.720703  3207900   \n",
              "2025-01-08  23407.330078  23671.279297  23388.630859  23522.289062  2606700   \n",
              "2025-01-09  23081.130859  23463.960938  23081.130859  23406.720703  3399500   \n",
              "2025-01-10  23011.859375  23202.250000  22989.669922  23067.460938  2979400   \n",
              "2025-01-13  22488.330078  23070.320312  22458.220703  23070.320312  3544500   \n",
              "2025-01-14  22797.519531  22797.519531  22542.929688  22573.960938  2319000   \n",
              "2025-01-15  22514.570312  22777.339844  22509.650391  22757.460938  2359800   \n",
              "2025-01-16  23025.099609  23147.689453  22817.519531  22817.519531  2497000   \n",
              "2025-01-17  23148.080078  23209.880859  22905.529297  23190.119141  2465000   \n",
              "2025-01-20  23266.820312  23346.640625  23176.429688  23203.470703  2168200   \n",
              "2025-01-21  23300.009766  23377.640625  23174.019531  23266.820312        0   \n",
              "2025-01-22  23525.410156  23642.080078  23472.669922  23472.669922  2695000   \n",
              "2025-02-03  22694.710938  22796.710938  22502.199219  22796.710938  3428900   \n",
              "2025-02-04  22793.960938  22934.310547  22720.619141  22836.269531  2990000   \n",
              "2025-02-05  23161.580078  23249.330078  22916.380859  22916.380859  2482200   \n",
              "2025-02-06  23316.599609  23348.419922  23216.650391  23226.500000  2400700   \n",
              "2025-02-07  23478.269531  23478.269531  23254.169922  23289.970703  2672200   \n",
              "2025-02-10  23252.140625  23448.160156  23163.849609  23421.769531  2706000   \n",
              "2025-02-11  23384.050781  23485.509766  23289.759766  23321.919922  2956500   \n",
              "2025-02-12  23289.750000  23528.609375  23289.750000  23449.310547  3159400   \n",
              "\n",
              "Price      triple_barrier_signal  \n",
              "Ticker                            \n",
              "Date                              \n",
              "2025-01-07                    -1  \n",
              "2025-01-08                    -1  \n",
              "2025-01-09                     0  \n",
              "2025-01-10                     0  \n",
              "2025-01-13                     1  \n",
              "2025-01-14                     1  \n",
              "2025-01-15                     1  \n",
              "2025-01-16                     1  \n",
              "2025-01-17                     0  \n",
              "2025-01-20                     0  \n",
              "2025-01-21                     0  \n",
              "2025-01-22                    -1  \n",
              "2025-02-03                     1  \n",
              "2025-02-04                     1  \n",
              "2025-02-05                     0  \n",
              "2025-02-06                    -1  \n",
              "2025-02-07                    -1  \n",
              "2025-02-10                    -1  \n",
              "2025-02-11                    -1  \n",
              "2025-02-12                    -1  "
            ]
          },
          "execution_count": 6,
          "metadata": {},
          "output_type": "execute_result"
        }
      ],
      "source": [
        "df.tail(20)"
      ]
    },
    {
      "cell_type": "code",
      "execution_count": 7,
      "metadata": {
        "colab": {
          "base_uri": "https://localhost:8080/"
        },
        "id": "tK_VXl2R1Osh",
        "outputId": "83daab44-72a4-4668-a317-ee7198e04a3a"
      },
      "outputs": [
        {
          "name": "stdout",
          "output_type": "stream",
          "text": [
            "triple_barrier_signal\n",
            " 1    1079\n",
            "-1     752\n",
            " 0     622\n",
            "Name: count, dtype: int64\n"
          ]
        }
      ],
      "source": [
        "import seaborn as sns\n",
        "print(df['triple_barrier_signal'].value_counts())\n",
        "#sns.countplot(df['triple_barrier_signal'])"
      ]
    },
    {
      "cell_type": "markdown",
      "metadata": {
        "id": "8KZo6Kl5dxLY"
      },
      "source": [
        "# plot buy price and sell price"
      ]
    },
    {
      "cell_type": "code",
      "execution_count": 8,
      "metadata": {
        "colab": {
          "base_uri": "https://localhost:8080/",
          "height": 277
        },
        "id": "Qti5Zd4-jOrH",
        "outputId": "17c7b364-98e1-4ba6-d983-aaad420c1479"
      },
      "outputs": [
        {
          "data": {
            "image/png": "[encoded data removed]",
            "text/plain": [
              "<Figure size 640x480 with 1 Axes>"
            ]
          },
          "metadata": {},
          "output_type": "display_data"
        }
      ],
      "source": [
        "import matplotlib.pyplot as plt\n",
        "\n",
        "df_recent = df.tail(100)\n",
        "buy = df_recent[df_recent['triple_barrier_signal']==1]['Close']\n",
        "sell = df_recent[df_recent['triple_barrier_signal']==-1]['Close']\n",
        "df_recent['Close'].plot()\n",
        "plt.scatter(buy.index,buy.values,color='red',marker='^')\n",
        "plt.scatter(sell.index,sell.values,color='green',marker='v')\n",
        "plt.show()"
      ]
    },
    {
      "cell_type": "markdown",
      "metadata": {
        "id": "HUtEilqGfIJl"
      },
      "source": [
        "# 建立ohlcv"
      ]
    },
    {
      "cell_type": "code",
      "execution_count": 9,
      "metadata": {
        "id": "FdFhLZkYfKpN"
      },
      "outputs": [],
      "source": [
        "from finta import TA\n",
        "ohlcv = df[['Open','High','Low','Close','Volume']]\n",
        "ohlcv.columns = ['open','high','low','close','volume']"
      ]
    },
    {
      "cell_type": "markdown",
      "metadata": {
        "id": "9K9RepGQwbQQ"
      },
      "source": [
        "# 計算技術指標RSI"
      ]
    },
    {
      "cell_type": "markdown",
      "metadata": {
        "id": "DuSRU2lbdxLa"
      },
      "source": [
        "https://sharegpt.com/c/lXPO7as"
      ]
    },
    {
      "cell_type": "code",
      "execution_count": 10,
      "metadata": {
        "colab": {
          "base_uri": "https://localhost:8080/",
          "height": 970
        },
        "id": "ZZkpnqk9e0Rw",
        "outputId": "2452260a-7d4e-4f77-8240-fe064d312d31"
      },
      "outputs": [
        {
          "name": "stdout",
          "output_type": "stream",
          "text": [
            "count    2452.000000\n",
            "mean       54.065397\n",
            "std        12.582423\n",
            "min         0.000000\n",
            "25%        45.751166\n",
            "50%        55.015825\n",
            "75%        62.909796\n",
            "max        84.230153\n",
            "Name: RSI, dtype: float64\n"
          ]
        },
        {
          "name": "stderr",
          "output_type": "stream",
          "text": [
            "C:\\Users\\TMP-214\\AppData\\Local\\Temp\\ipykernel_45112\\80940770.py:3: UserWarning: \n",
            "\n",
            "`distplot` is a deprecated function and will be removed in seaborn v0.14.0.\n",
            "\n",
            "Please adapt your code to use either `displot` (a figure-level function with\n",
            "similar flexibility) or `histplot` (an axes-level function for histograms).\n",
            "\n",
            "For a guide to updating your code to use the new functions, please see\n",
            "https://gist.github.com/mwaskom/de44147ed2974457ad6372750bbe5751\n",
            "\n",
            "  sns.distplot(df['RSI'].dropna())\n"
          ]
        },
        {
          "data": {
            "text/html": [
              "<div>\n",
              "<style scoped>\n",
              "    .dataframe tbody tr th:only-of-type {\n",
              "        vertical-align: middle;\n",
              "    }\n",
              "\n",
              "    .dataframe tbody tr th {\n",
              "        vertical-align: top;\n",
              "    }\n",
              "\n",
              "    .dataframe thead tr th {\n",
              "        text-align: left;\n",
              "    }\n",
              "\n",
              "    .dataframe thead tr:last-of-type th {\n",
              "        text-align: right;\n",
              "    }\n",
              "</style>\n",
              "<table border=\"1\" class=\"dataframe\">\n",
              "  <thead>\n",
              "    <tr>\n",
              "      <th>Price</th>\n",
              "      <th>Close</th>\n",
              "      <th>High</th>\n",
              "      <th>Low</th>\n",
              "      <th>Open</th>\n",
              "      <th>Volume</th>\n",
              "      <th>triple_barrier_signal</th>\n",
              "      <th>RSI</th>\n",
              "    </tr>\n",
              "    <tr>\n",
              "      <th>Ticker</th>\n",
              "      <th>^TWII</th>\n",
              "      <th>^TWII</th>\n",
              "      <th>^TWII</th>\n",
              "      <th>^TWII</th>\n",
              "      <th>^TWII</th>\n",
              "      <th></th>\n",
              "      <th></th>\n",
              "    </tr>\n",
              "    <tr>\n",
              "      <th>Date</th>\n",
              "      <th></th>\n",
              "      <th></th>\n",
              "      <th></th>\n",
              "      <th></th>\n",
              "      <th></th>\n",
              "      <th></th>\n",
              "      <th></th>\n",
              "    </tr>\n",
              "  </thead>\n",
              "  <tbody>\n",
              "    <tr>\n",
              "      <th>2025-02-06</th>\n",
              "      <td>23316.599609</td>\n",
              "      <td>23348.419922</td>\n",
              "      <td>23216.650391</td>\n",
              "      <td>23226.500000</td>\n",
              "      <td>2400700</td>\n",
              "      <td>-1</td>\n",
              "      <td>53.898353</td>\n",
              "    </tr>\n",
              "    <tr>\n",
              "      <th>2025-02-07</th>\n",
              "      <td>23478.269531</td>\n",
              "      <td>23478.269531</td>\n",
              "      <td>23254.169922</td>\n",
              "      <td>23289.970703</td>\n",
              "      <td>2672200</td>\n",
              "      <td>-1</td>\n",
              "      <td>56.103083</td>\n",
              "    </tr>\n",
              "    <tr>\n",
              "      <th>2025-02-10</th>\n",
              "      <td>23252.140625</td>\n",
              "      <td>23448.160156</td>\n",
              "      <td>23163.849609</td>\n",
              "      <td>23421.769531</td>\n",
              "      <td>2706000</td>\n",
              "      <td>-1</td>\n",
              "      <td>52.333201</td>\n",
              "    </tr>\n",
              "    <tr>\n",
              "      <th>2025-02-11</th>\n",
              "      <td>23384.050781</td>\n",
              "      <td>23485.509766</td>\n",
              "      <td>23289.759766</td>\n",
              "      <td>23321.919922</td>\n",
              "      <td>2956500</td>\n",
              "      <td>-1</td>\n",
              "      <td>54.263868</td>\n",
              "    </tr>\n",
              "    <tr>\n",
              "      <th>2025-02-12</th>\n",
              "      <td>23289.750000</td>\n",
              "      <td>23528.609375</td>\n",
              "      <td>23289.750000</td>\n",
              "      <td>23449.310547</td>\n",
              "      <td>3159400</td>\n",
              "      <td>-1</td>\n",
              "      <td>52.622945</td>\n",
              "    </tr>\n",
              "  </tbody>\n",
              "</table>\n",
              "</div>"
            ],
            "text/plain": [
              "Price              Close          High           Low          Open   Volume  \\\n",
              "Ticker             ^TWII         ^TWII         ^TWII         ^TWII    ^TWII   \n",
              "Date                                                                          \n",
              "2025-02-06  23316.599609  23348.419922  23216.650391  23226.500000  2400700   \n",
              "2025-02-07  23478.269531  23478.269531  23254.169922  23289.970703  2672200   \n",
              "2025-02-10  23252.140625  23448.160156  23163.849609  23421.769531  2706000   \n",
              "2025-02-11  23384.050781  23485.509766  23289.759766  23321.919922  2956500   \n",
              "2025-02-12  23289.750000  23528.609375  23289.750000  23449.310547  3159400   \n",
              "\n",
              "Price      triple_barrier_signal        RSI  \n",
              "Ticker                                       \n",
              "Date                                         \n",
              "2025-02-06                    -1  53.898353  \n",
              "2025-02-07                    -1  56.103083  \n",
              "2025-02-10                    -1  52.333201  \n",
              "2025-02-11                    -1  54.263868  \n",
              "2025-02-12                    -1  52.622945  "
            ]
          },
          "execution_count": 10,
          "metadata": {},
          "output_type": "execute_result"
        },
        {
          "data": {
            "image/png": "[encoded data removed]",
            "text/plain": [
              "<Figure size 640x480 with 1 Axes>"
            ]
          },
          "metadata": {},
          "output_type": "display_data"
        }
      ],
      "source": [
        "df['RSI'] = TA.RSI(ohlcv)\n",
        "print(df['RSI'].describe())\n",
        "sns.distplot(df['RSI'].dropna())\n",
        "df.tail()"
      ]
    },
    {
      "cell_type": "markdown",
      "metadata": {
        "id": "fZXZuQe93pJE"
      },
      "source": [
        "# 計算威廉指標"
      ]
    },
    {
      "cell_type": "code",
      "execution_count": 11,
      "metadata": {
        "colab": {
          "base_uri": "https://localhost:8080/",
          "height": 970
        },
        "id": "Q8_qx-dnfPJa",
        "outputId": "cab50daf-9829-4a40-b38b-89667c07e7f8"
      },
      "outputs": [
        {
          "name": "stdout",
          "output_type": "stream",
          "text": [
            "count    2440.000000\n",
            "mean      -39.718935\n",
            "std        31.422425\n",
            "min      -100.000000\n",
            "25%       -67.208638\n",
            "50%       -32.352929\n",
            "75%       -11.494845\n",
            "max        -0.000000\n",
            "Name: Williams %R, dtype: float64\n"
          ]
        },
        {
          "name": "stderr",
          "output_type": "stream",
          "text": [
            "C:\\Users\\TMP-214\\AppData\\Local\\Temp\\ipykernel_45112\\4271450618.py:3: UserWarning: \n",
            "\n",
            "`distplot` is a deprecated function and will be removed in seaborn v0.14.0.\n",
            "\n",
            "Please adapt your code to use either `displot` (a figure-level function with\n",
            "similar flexibility) or `histplot` (an axes-level function for histograms).\n",
            "\n",
            "For a guide to updating your code to use the new functions, please see\n",
            "https://gist.github.com/mwaskom/de44147ed2974457ad6372750bbe5751\n",
            "\n",
            "  sns.distplot(df['Williams %R'].dropna())\n"
          ]
        },
        {
          "data": {
            "text/html": [
              "<div>\n",
              "<style scoped>\n",
              "    .dataframe tbody tr th:only-of-type {\n",
              "        vertical-align: middle;\n",
              "    }\n",
              "\n",
              "    .dataframe tbody tr th {\n",
              "        vertical-align: top;\n",
              "    }\n",
              "\n",
              "    .dataframe thead tr th {\n",
              "        text-align: left;\n",
              "    }\n",
              "\n",
              "    .dataframe thead tr:last-of-type th {\n",
              "        text-align: right;\n",
              "    }\n",
              "</style>\n",
              "<table border=\"1\" class=\"dataframe\">\n",
              "  <thead>\n",
              "    <tr>\n",
              "      <th>Price</th>\n",
              "      <th>Close</th>\n",
              "      <th>High</th>\n",
              "      <th>Low</th>\n",
              "      <th>Open</th>\n",
              "      <th>Volume</th>\n",
              "      <th>triple_barrier_signal</th>\n",
              "      <th>RSI</th>\n",
              "      <th>Williams %R</th>\n",
              "    </tr>\n",
              "    <tr>\n",
              "      <th>Ticker</th>\n",
              "      <th>^TWII</th>\n",
              "      <th>^TWII</th>\n",
              "      <th>^TWII</th>\n",
              "      <th>^TWII</th>\n",
              "      <th>^TWII</th>\n",
              "      <th></th>\n",
              "      <th></th>\n",
              "      <th></th>\n",
              "    </tr>\n",
              "    <tr>\n",
              "      <th>Date</th>\n",
              "      <th></th>\n",
              "      <th></th>\n",
              "      <th></th>\n",
              "      <th></th>\n",
              "      <th></th>\n",
              "      <th></th>\n",
              "      <th></th>\n",
              "      <th></th>\n",
              "    </tr>\n",
              "  </thead>\n",
              "  <tbody>\n",
              "    <tr>\n",
              "      <th>2025-02-06</th>\n",
              "      <td>23316.599609</td>\n",
              "      <td>23348.419922</td>\n",
              "      <td>23216.650391</td>\n",
              "      <td>23226.500000</td>\n",
              "      <td>2400700</td>\n",
              "      <td>-1</td>\n",
              "      <td>53.898353</td>\n",
              "      <td>-27.493170</td>\n",
              "    </tr>\n",
              "    <tr>\n",
              "      <th>2025-02-07</th>\n",
              "      <td>23478.269531</td>\n",
              "      <td>23478.269531</td>\n",
              "      <td>23254.169922</td>\n",
              "      <td>23289.970703</td>\n",
              "      <td>2672200</td>\n",
              "      <td>-1</td>\n",
              "      <td>56.103083</td>\n",
              "      <td>-13.836994</td>\n",
              "    </tr>\n",
              "    <tr>\n",
              "      <th>2025-02-10</th>\n",
              "      <td>23252.140625</td>\n",
              "      <td>23448.160156</td>\n",
              "      <td>23163.849609</td>\n",
              "      <td>23421.769531</td>\n",
              "      <td>2706000</td>\n",
              "      <td>-1</td>\n",
              "      <td>52.333201</td>\n",
              "      <td>-32.937988</td>\n",
              "    </tr>\n",
              "    <tr>\n",
              "      <th>2025-02-11</th>\n",
              "      <td>23384.050781</td>\n",
              "      <td>23485.509766</td>\n",
              "      <td>23289.759766</td>\n",
              "      <td>23321.919922</td>\n",
              "      <td>2956500</td>\n",
              "      <td>-1</td>\n",
              "      <td>54.263868</td>\n",
              "      <td>-22.636515</td>\n",
              "    </tr>\n",
              "    <tr>\n",
              "      <th>2025-02-12</th>\n",
              "      <td>23289.750000</td>\n",
              "      <td>23528.609375</td>\n",
              "      <td>23289.750000</td>\n",
              "      <td>23449.310547</td>\n",
              "      <td>3159400</td>\n",
              "      <td>-1</td>\n",
              "      <td>52.622945</td>\n",
              "      <td>-30.909378</td>\n",
              "    </tr>\n",
              "  </tbody>\n",
              "</table>\n",
              "</div>"
            ],
            "text/plain": [
              "Price              Close          High           Low          Open   Volume  \\\n",
              "Ticker             ^TWII         ^TWII         ^TWII         ^TWII    ^TWII   \n",
              "Date                                                                          \n",
              "2025-02-06  23316.599609  23348.419922  23216.650391  23226.500000  2400700   \n",
              "2025-02-07  23478.269531  23478.269531  23254.169922  23289.970703  2672200   \n",
              "2025-02-10  23252.140625  23448.160156  23163.849609  23421.769531  2706000   \n",
              "2025-02-11  23384.050781  23485.509766  23289.759766  23321.919922  2956500   \n",
              "2025-02-12  23289.750000  23528.609375  23289.750000  23449.310547  3159400   \n",
              "\n",
              "Price      triple_barrier_signal        RSI Williams %R  \n",
              "Ticker                                                   \n",
              "Date                                                     \n",
              "2025-02-06                    -1  53.898353  -27.493170  \n",
              "2025-02-07                    -1  56.103083  -13.836994  \n",
              "2025-02-10                    -1  52.333201  -32.937988  \n",
              "2025-02-11                    -1  54.263868  -22.636515  \n",
              "2025-02-12                    -1  52.622945  -30.909378  "
            ]
          },
          "execution_count": 11,
          "metadata": {},
          "output_type": "execute_result"
        },
        {
          "data": {
            "image/png": "[encoded data removed]",
            "text/plain": [
              "<Figure size 640x480 with 1 Axes>"
            ]
          },
          "metadata": {},
          "output_type": "display_data"
        }
      ],
      "source": [
        "df['Williams %R'] = TA.WILLIAMS(ohlcv)\n",
        "print(df['Williams %R'].describe())\n",
        "sns.distplot(df['Williams %R'].dropna())\n",
        "df.tail()"
      ]
    },
    {
      "cell_type": "markdown",
      "metadata": {
        "id": "xK4jb6KTDdGa"
      },
      "source": [
        "# SMA"
      ]
    },
    {
      "cell_type": "code",
      "execution_count": 12,
      "metadata": {
        "colab": {
          "base_uri": "https://localhost:8080/",
          "height": 970
        },
        "id": "osETw-NkfgfL",
        "outputId": "03ea24d7-cade-4672-d993-69affcb908e4"
      },
      "outputs": [
        {
          "name": "stdout",
          "output_type": "stream",
          "text": [
            "count     2413.000000\n",
            "mean     13212.873647\n",
            "std       4081.461048\n",
            "min       8044.833020\n",
            "25%       9931.433641\n",
            "50%      11159.941716\n",
            "75%      16648.447218\n",
            "max      23104.902058\n",
            "Name: SMA, dtype: float64\n"
          ]
        },
        {
          "name": "stderr",
          "output_type": "stream",
          "text": [
            "C:\\Users\\TMP-214\\AppData\\Local\\Temp\\ipykernel_45112\\1878676325.py:3: UserWarning: \n",
            "\n",
            "`distplot` is a deprecated function and will be removed in seaborn v0.14.0.\n",
            "\n",
            "Please adapt your code to use either `displot` (a figure-level function with\n",
            "similar flexibility) or `histplot` (an axes-level function for histograms).\n",
            "\n",
            "For a guide to updating your code to use the new functions, please see\n",
            "https://gist.github.com/mwaskom/de44147ed2974457ad6372750bbe5751\n",
            "\n",
            "  sns.distplot(df['SMA'].dropna())\n"
          ]
        },
        {
          "data": {
            "text/html": [
              "<div>\n",
              "<style scoped>\n",
              "    .dataframe tbody tr th:only-of-type {\n",
              "        vertical-align: middle;\n",
              "    }\n",
              "\n",
              "    .dataframe tbody tr th {\n",
              "        vertical-align: top;\n",
              "    }\n",
              "\n",
              "    .dataframe thead tr th {\n",
              "        text-align: left;\n",
              "    }\n",
              "\n",
              "    .dataframe thead tr:last-of-type th {\n",
              "        text-align: right;\n",
              "    }\n",
              "</style>\n",
              "<table border=\"1\" class=\"dataframe\">\n",
              "  <thead>\n",
              "    <tr>\n",
              "      <th>Price</th>\n",
              "      <th>Close</th>\n",
              "      <th>High</th>\n",
              "      <th>Low</th>\n",
              "      <th>Open</th>\n",
              "      <th>Volume</th>\n",
              "      <th>triple_barrier_signal</th>\n",
              "      <th>RSI</th>\n",
              "      <th>Williams %R</th>\n",
              "      <th>SMA</th>\n",
              "    </tr>\n",
              "    <tr>\n",
              "      <th>Ticker</th>\n",
              "      <th>^TWII</th>\n",
              "      <th>^TWII</th>\n",
              "      <th>^TWII</th>\n",
              "      <th>^TWII</th>\n",
              "      <th>^TWII</th>\n",
              "      <th></th>\n",
              "      <th></th>\n",
              "      <th></th>\n",
              "      <th></th>\n",
              "    </tr>\n",
              "    <tr>\n",
              "      <th>Date</th>\n",
              "      <th></th>\n",
              "      <th></th>\n",
              "      <th></th>\n",
              "      <th></th>\n",
              "      <th></th>\n",
              "      <th></th>\n",
              "      <th></th>\n",
              "      <th></th>\n",
              "      <th></th>\n",
              "    </tr>\n",
              "  </thead>\n",
              "  <tbody>\n",
              "    <tr>\n",
              "      <th>2025-02-06</th>\n",
              "      <td>23316.599609</td>\n",
              "      <td>23348.419922</td>\n",
              "      <td>23216.650391</td>\n",
              "      <td>23226.500000</td>\n",
              "      <td>2400700</td>\n",
              "      <td>-1</td>\n",
              "      <td>53.898353</td>\n",
              "      <td>-27.493170</td>\n",
              "      <td>23077.669112</td>\n",
              "    </tr>\n",
              "    <tr>\n",
              "      <th>2025-02-07</th>\n",
              "      <td>23478.269531</td>\n",
              "      <td>23478.269531</td>\n",
              "      <td>23254.169922</td>\n",
              "      <td>23289.970703</td>\n",
              "      <td>2672200</td>\n",
              "      <td>-1</td>\n",
              "      <td>56.103083</td>\n",
              "      <td>-13.836994</td>\n",
              "      <td>23095.750572</td>\n",
              "    </tr>\n",
              "    <tr>\n",
              "      <th>2025-02-10</th>\n",
              "      <td>23252.140625</td>\n",
              "      <td>23448.160156</td>\n",
              "      <td>23163.849609</td>\n",
              "      <td>23421.769531</td>\n",
              "      <td>2706000</td>\n",
              "      <td>-1</td>\n",
              "      <td>52.333201</td>\n",
              "      <td>-32.937988</td>\n",
              "      <td>23101.230564</td>\n",
              "    </tr>\n",
              "    <tr>\n",
              "      <th>2025-02-11</th>\n",
              "      <td>23384.050781</td>\n",
              "      <td>23485.509766</td>\n",
              "      <td>23289.759766</td>\n",
              "      <td>23321.919922</td>\n",
              "      <td>2956500</td>\n",
              "      <td>-1</td>\n",
              "      <td>54.263868</td>\n",
              "      <td>-22.636515</td>\n",
              "      <td>23104.370093</td>\n",
              "    </tr>\n",
              "    <tr>\n",
              "      <th>2025-02-12</th>\n",
              "      <td>23289.750000</td>\n",
              "      <td>23528.609375</td>\n",
              "      <td>23289.750000</td>\n",
              "      <td>23449.310547</td>\n",
              "      <td>3159400</td>\n",
              "      <td>-1</td>\n",
              "      <td>52.622945</td>\n",
              "      <td>-30.909378</td>\n",
              "      <td>23104.902058</td>\n",
              "    </tr>\n",
              "  </tbody>\n",
              "</table>\n",
              "</div>"
            ],
            "text/plain": [
              "Price              Close          High           Low          Open   Volume  \\\n",
              "Ticker             ^TWII         ^TWII         ^TWII         ^TWII    ^TWII   \n",
              "Date                                                                          \n",
              "2025-02-06  23316.599609  23348.419922  23216.650391  23226.500000  2400700   \n",
              "2025-02-07  23478.269531  23478.269531  23254.169922  23289.970703  2672200   \n",
              "2025-02-10  23252.140625  23448.160156  23163.849609  23421.769531  2706000   \n",
              "2025-02-11  23384.050781  23485.509766  23289.759766  23321.919922  2956500   \n",
              "2025-02-12  23289.750000  23528.609375  23289.750000  23449.310547  3159400   \n",
              "\n",
              "Price      triple_barrier_signal        RSI Williams %R           SMA  \n",
              "Ticker                                                                 \n",
              "Date                                                                   \n",
              "2025-02-06                    -1  53.898353  -27.493170  23077.669112  \n",
              "2025-02-07                    -1  56.103083  -13.836994  23095.750572  \n",
              "2025-02-10                    -1  52.333201  -32.937988  23101.230564  \n",
              "2025-02-11                    -1  54.263868  -22.636515  23104.370093  \n",
              "2025-02-12                    -1  52.622945  -30.909378  23104.902058  "
            ]
          },
          "execution_count": 12,
          "metadata": {},
          "output_type": "execute_result"
        },
        {
          "data": {
            "image/png": "[encoded data removed]",
            "text/plain": [
              "<Figure size 640x480 with 1 Axes>"
            ]
          },
          "metadata": {},
          "output_type": "display_data"
        }
      ],
      "source": [
        "df['SMA'] = TA.SMA(ohlcv)\n",
        "print(df['SMA'].describe())\n",
        "sns.distplot(df['SMA'].dropna())\n",
        "df.tail()"
      ]
    },
    {
      "cell_type": "markdown",
      "metadata": {
        "id": "a2Mf0ckEoHC_"
      },
      "source": [
        "# EMA"
      ]
    },
    {
      "cell_type": "code",
      "execution_count": 13,
      "metadata": {
        "colab": {
          "base_uri": "https://localhost:8080/",
          "height": 970
        },
        "id": "EQlFyJLeh4WA",
        "outputId": "507e8757-4d5a-4c03-9e2c-82aaf5dfaedf"
      },
      "outputs": [
        {
          "name": "stdout",
          "output_type": "stream",
          "text": [
            "count     2453.000000\n",
            "mean     13239.101196\n",
            "std       4156.070757\n",
            "min       7786.421896\n",
            "25%       9842.623847\n",
            "50%      11194.577139\n",
            "75%      16602.548282\n",
            "max      23822.811210\n",
            "Name: EMA, dtype: float64\n"
          ]
        },
        {
          "name": "stderr",
          "output_type": "stream",
          "text": [
            "C:\\Users\\TMP-214\\AppData\\Local\\Temp\\ipykernel_45112\\3115164127.py:3: UserWarning: \n",
            "\n",
            "`distplot` is a deprecated function and will be removed in seaborn v0.14.0.\n",
            "\n",
            "Please adapt your code to use either `displot` (a figure-level function with\n",
            "similar flexibility) or `histplot` (an axes-level function for histograms).\n",
            "\n",
            "For a guide to updating your code to use the new functions, please see\n",
            "https://gist.github.com/mwaskom/de44147ed2974457ad6372750bbe5751\n",
            "\n",
            "  sns.distplot(df['EMA'])\n"
          ]
        },
        {
          "data": {
            "text/html": [
              "<div>\n",
              "<style scoped>\n",
              "    .dataframe tbody tr th:only-of-type {\n",
              "        vertical-align: middle;\n",
              "    }\n",
              "\n",
              "    .dataframe tbody tr th {\n",
              "        vertical-align: top;\n",
              "    }\n",
              "\n",
              "    .dataframe thead tr th {\n",
              "        text-align: left;\n",
              "    }\n",
              "\n",
              "    .dataframe thead tr:last-of-type th {\n",
              "        text-align: right;\n",
              "    }\n",
              "</style>\n",
              "<table border=\"1\" class=\"dataframe\">\n",
              "  <thead>\n",
              "    <tr>\n",
              "      <th>Price</th>\n",
              "      <th>Close</th>\n",
              "      <th>High</th>\n",
              "      <th>Low</th>\n",
              "      <th>Open</th>\n",
              "      <th>Volume</th>\n",
              "      <th>triple_barrier_signal</th>\n",
              "      <th>RSI</th>\n",
              "      <th>Williams %R</th>\n",
              "      <th>SMA</th>\n",
              "      <th>EMA</th>\n",
              "    </tr>\n",
              "    <tr>\n",
              "      <th>Ticker</th>\n",
              "      <th>^TWII</th>\n",
              "      <th>^TWII</th>\n",
              "      <th>^TWII</th>\n",
              "      <th>^TWII</th>\n",
              "      <th>^TWII</th>\n",
              "      <th></th>\n",
              "      <th></th>\n",
              "      <th></th>\n",
              "      <th></th>\n",
              "      <th></th>\n",
              "    </tr>\n",
              "    <tr>\n",
              "      <th>Date</th>\n",
              "      <th></th>\n",
              "      <th></th>\n",
              "      <th></th>\n",
              "      <th></th>\n",
              "      <th></th>\n",
              "      <th></th>\n",
              "      <th></th>\n",
              "      <th></th>\n",
              "      <th></th>\n",
              "      <th></th>\n",
              "    </tr>\n",
              "  </thead>\n",
              "  <tbody>\n",
              "    <tr>\n",
              "      <th>2025-02-06</th>\n",
              "      <td>23316.599609</td>\n",
              "      <td>23348.419922</td>\n",
              "      <td>23216.650391</td>\n",
              "      <td>23226.500000</td>\n",
              "      <td>2400700</td>\n",
              "      <td>-1</td>\n",
              "      <td>53.898353</td>\n",
              "      <td>-27.493170</td>\n",
              "      <td>23077.669112</td>\n",
              "      <td>23102.035358</td>\n",
              "    </tr>\n",
              "    <tr>\n",
              "      <th>2025-02-07</th>\n",
              "      <td>23478.269531</td>\n",
              "      <td>23478.269531</td>\n",
              "      <td>23254.169922</td>\n",
              "      <td>23289.970703</td>\n",
              "      <td>2672200</td>\n",
              "      <td>-1</td>\n",
              "      <td>56.103083</td>\n",
              "      <td>-13.836994</td>\n",
              "      <td>23095.750572</td>\n",
              "      <td>23177.282192</td>\n",
              "    </tr>\n",
              "    <tr>\n",
              "      <th>2025-02-10</th>\n",
              "      <td>23252.140625</td>\n",
              "      <td>23448.160156</td>\n",
              "      <td>23163.849609</td>\n",
              "      <td>23421.769531</td>\n",
              "      <td>2706000</td>\n",
              "      <td>-1</td>\n",
              "      <td>52.333201</td>\n",
              "      <td>-32.937988</td>\n",
              "      <td>23101.230564</td>\n",
              "      <td>23192.253879</td>\n",
              "    </tr>\n",
              "    <tr>\n",
              "      <th>2025-02-11</th>\n",
              "      <td>23384.050781</td>\n",
              "      <td>23485.509766</td>\n",
              "      <td>23289.759766</td>\n",
              "      <td>23321.919922</td>\n",
              "      <td>2956500</td>\n",
              "      <td>-1</td>\n",
              "      <td>54.263868</td>\n",
              "      <td>-22.636515</td>\n",
              "      <td>23104.370093</td>\n",
              "      <td>23230.613259</td>\n",
              "    </tr>\n",
              "    <tr>\n",
              "      <th>2025-02-12</th>\n",
              "      <td>23289.750000</td>\n",
              "      <td>23528.609375</td>\n",
              "      <td>23289.750000</td>\n",
              "      <td>23449.310547</td>\n",
              "      <td>3159400</td>\n",
              "      <td>-1</td>\n",
              "      <td>52.622945</td>\n",
              "      <td>-30.909378</td>\n",
              "      <td>23104.902058</td>\n",
              "      <td>23242.440608</td>\n",
              "    </tr>\n",
              "  </tbody>\n",
              "</table>\n",
              "</div>"
            ],
            "text/plain": [
              "Price              Close          High           Low          Open   Volume  \\\n",
              "Ticker             ^TWII         ^TWII         ^TWII         ^TWII    ^TWII   \n",
              "Date                                                                          \n",
              "2025-02-06  23316.599609  23348.419922  23216.650391  23226.500000  2400700   \n",
              "2025-02-07  23478.269531  23478.269531  23254.169922  23289.970703  2672200   \n",
              "2025-02-10  23252.140625  23448.160156  23163.849609  23421.769531  2706000   \n",
              "2025-02-11  23384.050781  23485.509766  23289.759766  23321.919922  2956500   \n",
              "2025-02-12  23289.750000  23528.609375  23289.750000  23449.310547  3159400   \n",
              "\n",
              "Price      triple_barrier_signal        RSI Williams %R           SMA  \\\n",
              "Ticker                                                                  \n",
              "Date                                                                    \n",
              "2025-02-06                    -1  53.898353  -27.493170  23077.669112   \n",
              "2025-02-07                    -1  56.103083  -13.836994  23095.750572   \n",
              "2025-02-10                    -1  52.333201  -32.937988  23101.230564   \n",
              "2025-02-11                    -1  54.263868  -22.636515  23104.370093   \n",
              "2025-02-12                    -1  52.622945  -30.909378  23104.902058   \n",
              "\n",
              "Price                EMA  \n",
              "Ticker                    \n",
              "Date                      \n",
              "2025-02-06  23102.035358  \n",
              "2025-02-07  23177.282192  \n",
              "2025-02-10  23192.253879  \n",
              "2025-02-11  23230.613259  \n",
              "2025-02-12  23242.440608  "
            ]
          },
          "execution_count": 13,
          "metadata": {},
          "output_type": "execute_result"
        },
        {
          "data": {
            "image/png": "[encoded data removed]",
            "text/plain": [
              "<Figure size 640x480 with 1 Axes>"
            ]
          },
          "metadata": {},
          "output_type": "display_data"
        }
      ],
      "source": [
        "df['EMA'] = TA.EMA(ohlcv)\n",
        "print(df['EMA'].describe())\n",
        "sns.distplot(df['EMA'])\n",
        "df.tail()"
      ]
    },
    {
      "cell_type": "markdown",
      "metadata": {
        "id": "wqkaWfQryV3W"
      },
      "source": [
        "# WMA"
      ]
    },
    {
      "cell_type": "code",
      "execution_count": 14,
      "metadata": {
        "colab": {
          "base_uri": "https://localhost:8080/",
          "height": 1000
        },
        "id": "9Dw9scCSieLI",
        "outputId": "33032c1e-e1cb-4720-ea48-7cdfcd31ed71"
      },
      "outputs": [
        {
          "name": "stdout",
          "output_type": "stream",
          "text": [
            "count     2445.000000\n",
            "mean     13259.969271\n",
            "std       4164.276256\n",
            "min       7753.099240\n",
            "25%       9868.460243\n",
            "50%      11286.706359\n",
            "75%      16601.440972\n",
            "max      23970.548655\n",
            "Name: WMA, dtype: float64\n"
          ]
        },
        {
          "name": "stderr",
          "output_type": "stream",
          "text": [
            "C:\\Users\\TMP-214\\AppData\\Local\\Temp\\ipykernel_45112\\1037319935.py:3: UserWarning: \n",
            "\n",
            "`distplot` is a deprecated function and will be removed in seaborn v0.14.0.\n",
            "\n",
            "Please adapt your code to use either `displot` (a figure-level function with\n",
            "similar flexibility) or `histplot` (an axes-level function for histograms).\n",
            "\n",
            "For a guide to updating your code to use the new functions, please see\n",
            "https://gist.github.com/mwaskom/de44147ed2974457ad6372750bbe5751\n",
            "\n",
            "  sns.distplot(df['WMA'].dropna())\n"
          ]
        },
        {
          "data": {
            "text/html": [
              "<div>\n",
              "<style scoped>\n",
              "    .dataframe tbody tr th:only-of-type {\n",
              "        vertical-align: middle;\n",
              "    }\n",
              "\n",
              "    .dataframe tbody tr th {\n",
              "        vertical-align: top;\n",
              "    }\n",
              "\n",
              "    .dataframe thead tr th {\n",
              "        text-align: left;\n",
              "    }\n",
              "\n",
              "    .dataframe thead tr:last-of-type th {\n",
              "        text-align: right;\n",
              "    }\n",
              "</style>\n",
              "<table border=\"1\" class=\"dataframe\">\n",
              "  <thead>\n",
              "    <tr>\n",
              "      <th>Price</th>\n",
              "      <th>Close</th>\n",
              "      <th>High</th>\n",
              "      <th>Low</th>\n",
              "      <th>Open</th>\n",
              "      <th>Volume</th>\n",
              "      <th>triple_barrier_signal</th>\n",
              "      <th>RSI</th>\n",
              "      <th>Williams %R</th>\n",
              "      <th>SMA</th>\n",
              "      <th>EMA</th>\n",
              "      <th>WMA</th>\n",
              "    </tr>\n",
              "    <tr>\n",
              "      <th>Ticker</th>\n",
              "      <th>^TWII</th>\n",
              "      <th>^TWII</th>\n",
              "      <th>^TWII</th>\n",
              "      <th>^TWII</th>\n",
              "      <th>^TWII</th>\n",
              "      <th></th>\n",
              "      <th></th>\n",
              "      <th></th>\n",
              "      <th></th>\n",
              "      <th></th>\n",
              "      <th></th>\n",
              "    </tr>\n",
              "    <tr>\n",
              "      <th>Date</th>\n",
              "      <th></th>\n",
              "      <th></th>\n",
              "      <th></th>\n",
              "      <th></th>\n",
              "      <th></th>\n",
              "      <th></th>\n",
              "      <th></th>\n",
              "      <th></th>\n",
              "      <th></th>\n",
              "      <th></th>\n",
              "      <th></th>\n",
              "    </tr>\n",
              "  </thead>\n",
              "  <tbody>\n",
              "    <tr>\n",
              "      <th>2025-02-06</th>\n",
              "      <td>23316.599609</td>\n",
              "      <td>23348.419922</td>\n",
              "      <td>23216.650391</td>\n",
              "      <td>23226.500000</td>\n",
              "      <td>2400700</td>\n",
              "      <td>-1</td>\n",
              "      <td>53.898353</td>\n",
              "      <td>-27.493170</td>\n",
              "      <td>23077.669112</td>\n",
              "      <td>23102.035358</td>\n",
              "      <td>23129.263108</td>\n",
              "    </tr>\n",
              "    <tr>\n",
              "      <th>2025-02-07</th>\n",
              "      <td>23478.269531</td>\n",
              "      <td>23478.269531</td>\n",
              "      <td>23254.169922</td>\n",
              "      <td>23289.970703</td>\n",
              "      <td>2672200</td>\n",
              "      <td>-1</td>\n",
              "      <td>56.103083</td>\n",
              "      <td>-13.836994</td>\n",
              "      <td>23095.750572</td>\n",
              "      <td>23177.282192</td>\n",
              "      <td>23197.533203</td>\n",
              "    </tr>\n",
              "    <tr>\n",
              "      <th>2025-02-10</th>\n",
              "      <td>23252.140625</td>\n",
              "      <td>23448.160156</td>\n",
              "      <td>23163.849609</td>\n",
              "      <td>23421.769531</td>\n",
              "      <td>2706000</td>\n",
              "      <td>-1</td>\n",
              "      <td>52.333201</td>\n",
              "      <td>-32.937988</td>\n",
              "      <td>23101.230564</td>\n",
              "      <td>23192.253879</td>\n",
              "      <td>23210.507075</td>\n",
              "    </tr>\n",
              "    <tr>\n",
              "      <th>2025-02-11</th>\n",
              "      <td>23384.050781</td>\n",
              "      <td>23485.509766</td>\n",
              "      <td>23289.759766</td>\n",
              "      <td>23321.919922</td>\n",
              "      <td>2956500</td>\n",
              "      <td>-1</td>\n",
              "      <td>54.263868</td>\n",
              "      <td>-22.636515</td>\n",
              "      <td>23104.370093</td>\n",
              "      <td>23230.613259</td>\n",
              "      <td>23247.550521</td>\n",
              "    </tr>\n",
              "    <tr>\n",
              "      <th>2025-02-12</th>\n",
              "      <td>23289.750000</td>\n",
              "      <td>23528.609375</td>\n",
              "      <td>23289.750000</td>\n",
              "      <td>23449.310547</td>\n",
              "      <td>3159400</td>\n",
              "      <td>-1</td>\n",
              "      <td>52.622945</td>\n",
              "      <td>-30.909378</td>\n",
              "      <td>23104.902058</td>\n",
              "      <td>23242.440608</td>\n",
              "      <td>23263.128689</td>\n",
              "    </tr>\n",
              "  </tbody>\n",
              "</table>\n",
              "</div>"
            ],
            "text/plain": [
              "Price              Close          High           Low          Open   Volume  \\\n",
              "Ticker             ^TWII         ^TWII         ^TWII         ^TWII    ^TWII   \n",
              "Date                                                                          \n",
              "2025-02-06  23316.599609  23348.419922  23216.650391  23226.500000  2400700   \n",
              "2025-02-07  23478.269531  23478.269531  23254.169922  23289.970703  2672200   \n",
              "2025-02-10  23252.140625  23448.160156  23163.849609  23421.769531  2706000   \n",
              "2025-02-11  23384.050781  23485.509766  23289.759766  23321.919922  2956500   \n",
              "2025-02-12  23289.750000  23528.609375  23289.750000  23449.310547  3159400   \n",
              "\n",
              "Price      triple_barrier_signal        RSI Williams %R           SMA  \\\n",
              "Ticker                                                                  \n",
              "Date                                                                    \n",
              "2025-02-06                    -1  53.898353  -27.493170  23077.669112   \n",
              "2025-02-07                    -1  56.103083  -13.836994  23095.750572   \n",
              "2025-02-10                    -1  52.333201  -32.937988  23101.230564   \n",
              "2025-02-11                    -1  54.263868  -22.636515  23104.370093   \n",
              "2025-02-12                    -1  52.622945  -30.909378  23104.902058   \n",
              "\n",
              "Price                EMA           WMA  \n",
              "Ticker                                  \n",
              "Date                                    \n",
              "2025-02-06  23102.035358  23129.263108  \n",
              "2025-02-07  23177.282192  23197.533203  \n",
              "2025-02-10  23192.253879  23210.507075  \n",
              "2025-02-11  23230.613259  23247.550521  \n",
              "2025-02-12  23242.440608  23263.128689  "
            ]
          },
          "execution_count": 14,
          "metadata": {},
          "output_type": "execute_result"
        },
        {
          "data": {
            "image/png": "[encoded data removed]",
            "text/plain": [
              "<Figure size 640x480 with 1 Axes>"
            ]
          },
          "metadata": {},
          "output_type": "display_data"
        }
      ],
      "source": [
        "df['WMA'] = TA.WMA(ohlcv)\n",
        "print(df['WMA'].describe())\n",
        "sns.distplot(df['WMA'].dropna())\n",
        "df.tail()"
      ]
    },
    {
      "cell_type": "markdown",
      "metadata": {
        "id": "HNC131ghyrF1"
      },
      "source": [
        "# HMA"
      ]
    },
    {
      "cell_type": "code",
      "execution_count": 15,
      "metadata": {
        "colab": {
          "base_uri": "https://localhost:8080/",
          "height": 1000
        },
        "id": "b02O6Yevi6mN",
        "outputId": "6fb6fe13-ce26-4e88-b892-09b3917bccee"
      },
      "outputs": [
        {
          "name": "stdout",
          "output_type": "stream",
          "text": [
            "count     2435.000000\n",
            "mean     13287.773330\n",
            "std       4178.867277\n",
            "min       7586.372645\n",
            "25%       9909.216920\n",
            "50%      11348.941353\n",
            "75%      16632.100246\n",
            "max      24251.328573\n",
            "Name: HMA, dtype: float64\n"
          ]
        },
        {
          "name": "stderr",
          "output_type": "stream",
          "text": [
            "C:\\Users\\TMP-214\\AppData\\Local\\Temp\\ipykernel_45112\\1554131951.py:3: UserWarning: \n",
            "\n",
            "`distplot` is a deprecated function and will be removed in seaborn v0.14.0.\n",
            "\n",
            "Please adapt your code to use either `displot` (a figure-level function with\n",
            "similar flexibility) or `histplot` (an axes-level function for histograms).\n",
            "\n",
            "For a guide to updating your code to use the new functions, please see\n",
            "https://gist.github.com/mwaskom/de44147ed2974457ad6372750bbe5751\n",
            "\n",
            "  sns.distplot(df['HMA'].dropna())\n"
          ]
        },
        {
          "data": {
            "text/html": [
              "<div>\n",
              "<style scoped>\n",
              "    .dataframe tbody tr th:only-of-type {\n",
              "        vertical-align: middle;\n",
              "    }\n",
              "\n",
              "    .dataframe tbody tr th {\n",
              "        vertical-align: top;\n",
              "    }\n",
              "\n",
              "    .dataframe thead tr th {\n",
              "        text-align: left;\n",
              "    }\n",
              "\n",
              "    .dataframe thead tr:last-of-type th {\n",
              "        text-align: right;\n",
              "    }\n",
              "</style>\n",
              "<table border=\"1\" class=\"dataframe\">\n",
              "  <thead>\n",
              "    <tr>\n",
              "      <th>Price</th>\n",
              "      <th>Close</th>\n",
              "      <th>High</th>\n",
              "      <th>Low</th>\n",
              "      <th>Open</th>\n",
              "      <th>Volume</th>\n",
              "      <th>triple_barrier_signal</th>\n",
              "      <th>RSI</th>\n",
              "      <th>Williams %R</th>\n",
              "      <th>SMA</th>\n",
              "      <th>EMA</th>\n",
              "      <th>WMA</th>\n",
              "      <th>HMA</th>\n",
              "    </tr>\n",
              "    <tr>\n",
              "      <th>Ticker</th>\n",
              "      <th>^TWII</th>\n",
              "      <th>^TWII</th>\n",
              "      <th>^TWII</th>\n",
              "      <th>^TWII</th>\n",
              "      <th>^TWII</th>\n",
              "      <th></th>\n",
              "      <th></th>\n",
              "      <th></th>\n",
              "      <th></th>\n",
              "      <th></th>\n",
              "      <th></th>\n",
              "      <th></th>\n",
              "    </tr>\n",
              "    <tr>\n",
              "      <th>Date</th>\n",
              "      <th></th>\n",
              "      <th></th>\n",
              "      <th></th>\n",
              "      <th></th>\n",
              "      <th></th>\n",
              "      <th></th>\n",
              "      <th></th>\n",
              "      <th></th>\n",
              "      <th></th>\n",
              "      <th></th>\n",
              "      <th></th>\n",
              "      <th></th>\n",
              "    </tr>\n",
              "  </thead>\n",
              "  <tbody>\n",
              "    <tr>\n",
              "      <th>2025-02-06</th>\n",
              "      <td>23316.599609</td>\n",
              "      <td>23348.419922</td>\n",
              "      <td>23216.650391</td>\n",
              "      <td>23226.500000</td>\n",
              "      <td>2400700</td>\n",
              "      <td>-1</td>\n",
              "      <td>53.898353</td>\n",
              "      <td>-27.493170</td>\n",
              "      <td>23077.669112</td>\n",
              "      <td>23102.035358</td>\n",
              "      <td>23129.263108</td>\n",
              "      <td>23143.949804</td>\n",
              "    </tr>\n",
              "    <tr>\n",
              "      <th>2025-02-07</th>\n",
              "      <td>23478.269531</td>\n",
              "      <td>23478.269531</td>\n",
              "      <td>23254.169922</td>\n",
              "      <td>23289.970703</td>\n",
              "      <td>2672200</td>\n",
              "      <td>-1</td>\n",
              "      <td>56.103083</td>\n",
              "      <td>-13.836994</td>\n",
              "      <td>23095.750572</td>\n",
              "      <td>23177.282192</td>\n",
              "      <td>23197.533203</td>\n",
              "      <td>23203.947519</td>\n",
              "    </tr>\n",
              "    <tr>\n",
              "      <th>2025-02-10</th>\n",
              "      <td>23252.140625</td>\n",
              "      <td>23448.160156</td>\n",
              "      <td>23163.849609</td>\n",
              "      <td>23421.769531</td>\n",
              "      <td>2706000</td>\n",
              "      <td>-1</td>\n",
              "      <td>52.333201</td>\n",
              "      <td>-32.937988</td>\n",
              "      <td>23101.230564</td>\n",
              "      <td>23192.253879</td>\n",
              "      <td>23210.507075</td>\n",
              "      <td>23252.342308</td>\n",
              "    </tr>\n",
              "    <tr>\n",
              "      <th>2025-02-11</th>\n",
              "      <td>23384.050781</td>\n",
              "      <td>23485.509766</td>\n",
              "      <td>23289.759766</td>\n",
              "      <td>23321.919922</td>\n",
              "      <td>2956500</td>\n",
              "      <td>-1</td>\n",
              "      <td>54.263868</td>\n",
              "      <td>-22.636515</td>\n",
              "      <td>23104.370093</td>\n",
              "      <td>23230.613259</td>\n",
              "      <td>23247.550521</td>\n",
              "      <td>23298.441392</td>\n",
              "    </tr>\n",
              "    <tr>\n",
              "      <th>2025-02-12</th>\n",
              "      <td>23289.750000</td>\n",
              "      <td>23528.609375</td>\n",
              "      <td>23289.750000</td>\n",
              "      <td>23449.310547</td>\n",
              "      <td>3159400</td>\n",
              "      <td>-1</td>\n",
              "      <td>52.622945</td>\n",
              "      <td>-30.909378</td>\n",
              "      <td>23104.902058</td>\n",
              "      <td>23242.440608</td>\n",
              "      <td>23263.128689</td>\n",
              "      <td>23328.862740</td>\n",
              "    </tr>\n",
              "  </tbody>\n",
              "</table>\n",
              "</div>"
            ],
            "text/plain": [
              "Price              Close          High           Low          Open   Volume  \\\n",
              "Ticker             ^TWII         ^TWII         ^TWII         ^TWII    ^TWII   \n",
              "Date                                                                          \n",
              "2025-02-06  23316.599609  23348.419922  23216.650391  23226.500000  2400700   \n",
              "2025-02-07  23478.269531  23478.269531  23254.169922  23289.970703  2672200   \n",
              "2025-02-10  23252.140625  23448.160156  23163.849609  23421.769531  2706000   \n",
              "2025-02-11  23384.050781  23485.509766  23289.759766  23321.919922  2956500   \n",
              "2025-02-12  23289.750000  23528.609375  23289.750000  23449.310547  3159400   \n",
              "\n",
              "Price      triple_barrier_signal        RSI Williams %R           SMA  \\\n",
              "Ticker                                                                  \n",
              "Date                                                                    \n",
              "2025-02-06                    -1  53.898353  -27.493170  23077.669112   \n",
              "2025-02-07                    -1  56.103083  -13.836994  23095.750572   \n",
              "2025-02-10                    -1  52.333201  -32.937988  23101.230564   \n",
              "2025-02-11                    -1  54.263868  -22.636515  23104.370093   \n",
              "2025-02-12                    -1  52.622945  -30.909378  23104.902058   \n",
              "\n",
              "Price                EMA           WMA           HMA  \n",
              "Ticker                                                \n",
              "Date                                                  \n",
              "2025-02-06  23102.035358  23129.263108  23143.949804  \n",
              "2025-02-07  23177.282192  23197.533203  23203.947519  \n",
              "2025-02-10  23192.253879  23210.507075  23252.342308  \n",
              "2025-02-11  23230.613259  23247.550521  23298.441392  \n",
              "2025-02-12  23242.440608  23263.128689  23328.862740  "
            ]
          },
          "execution_count": 15,
          "metadata": {},
          "output_type": "execute_result"
        },
        {
          "data": {
            "image/png": "[encoded data removed]",
            "text/plain": [
              "<Figure size 640x480 with 1 Axes>"
            ]
          },
          "metadata": {},
          "output_type": "display_data"
        }
      ],
      "source": [
        "df['HMA'] = TA.HMA(ohlcv)\n",
        "print(df['HMA'].describe())\n",
        "sns.distplot(df['HMA'].dropna())\n",
        "df.tail()"
      ]
    },
    {
      "cell_type": "markdown",
      "metadata": {
        "id": "ch7SZ7aFjCit"
      },
      "source": [
        "# TEMA"
      ]
    },
    {
      "cell_type": "code",
      "execution_count": 16,
      "metadata": {
        "colab": {
          "base_uri": "https://localhost:8080/",
          "height": 1000
        },
        "id": "GeS0aHxZjFtA",
        "outputId": "ed7c0b00-863e-4128-b14b-f4899e46fa6f"
      },
      "outputs": [
        {
          "name": "stdout",
          "output_type": "stream",
          "text": [
            "count     2453.000000\n",
            "mean     13261.960120\n",
            "std       4179.377040\n",
            "min       7579.969193\n",
            "25%       9874.250703\n",
            "50%      11257.316248\n",
            "75%      16618.177871\n",
            "max      24254.656706\n",
            "Name: TEMA, dtype: float64\n"
          ]
        },
        {
          "name": "stderr",
          "output_type": "stream",
          "text": [
            "C:\\Users\\TMP-214\\AppData\\Local\\Temp\\ipykernel_45112\\348095914.py:3: UserWarning: \n",
            "\n",
            "`distplot` is a deprecated function and will be removed in seaborn v0.14.0.\n",
            "\n",
            "Please adapt your code to use either `displot` (a figure-level function with\n",
            "similar flexibility) or `histplot` (an axes-level function for histograms).\n",
            "\n",
            "For a guide to updating your code to use the new functions, please see\n",
            "https://gist.github.com/mwaskom/de44147ed2974457ad6372750bbe5751\n",
            "\n",
            "  sns.distplot(df['TEMA'].dropna())\n"
          ]
        },
        {
          "data": {
            "text/html": [
              "<div>\n",
              "<style scoped>\n",
              "    .dataframe tbody tr th:only-of-type {\n",
              "        vertical-align: middle;\n",
              "    }\n",
              "\n",
              "    .dataframe tbody tr th {\n",
              "        vertical-align: top;\n",
              "    }\n",
              "\n",
              "    .dataframe thead tr th {\n",
              "        text-align: left;\n",
              "    }\n",
              "\n",
              "    .dataframe thead tr:last-of-type th {\n",
              "        text-align: right;\n",
              "    }\n",
              "</style>\n",
              "<table border=\"1\" class=\"dataframe\">\n",
              "  <thead>\n",
              "    <tr>\n",
              "      <th>Price</th>\n",
              "      <th>Close</th>\n",
              "      <th>High</th>\n",
              "      <th>Low</th>\n",
              "      <th>Open</th>\n",
              "      <th>Volume</th>\n",
              "      <th>triple_barrier_signal</th>\n",
              "      <th>RSI</th>\n",
              "      <th>Williams %R</th>\n",
              "      <th>SMA</th>\n",
              "      <th>EMA</th>\n",
              "      <th>WMA</th>\n",
              "      <th>HMA</th>\n",
              "      <th>TEMA</th>\n",
              "    </tr>\n",
              "    <tr>\n",
              "      <th>Ticker</th>\n",
              "      <th>^TWII</th>\n",
              "      <th>^TWII</th>\n",
              "      <th>^TWII</th>\n",
              "      <th>^TWII</th>\n",
              "      <th>^TWII</th>\n",
              "      <th></th>\n",
              "      <th></th>\n",
              "      <th></th>\n",
              "      <th></th>\n",
              "      <th></th>\n",
              "      <th></th>\n",
              "      <th></th>\n",
              "      <th></th>\n",
              "    </tr>\n",
              "    <tr>\n",
              "      <th>Date</th>\n",
              "      <th></th>\n",
              "      <th></th>\n",
              "      <th></th>\n",
              "      <th></th>\n",
              "      <th></th>\n",
              "      <th></th>\n",
              "      <th></th>\n",
              "      <th></th>\n",
              "      <th></th>\n",
              "      <th></th>\n",
              "      <th></th>\n",
              "      <th></th>\n",
              "      <th></th>\n",
              "    </tr>\n",
              "  </thead>\n",
              "  <tbody>\n",
              "    <tr>\n",
              "      <th>2025-02-06</th>\n",
              "      <td>23316.599609</td>\n",
              "      <td>23348.419922</td>\n",
              "      <td>23216.650391</td>\n",
              "      <td>23226.500000</td>\n",
              "      <td>2400700</td>\n",
              "      <td>-1</td>\n",
              "      <td>53.898353</td>\n",
              "      <td>-27.493170</td>\n",
              "      <td>23077.669112</td>\n",
              "      <td>23102.035358</td>\n",
              "      <td>23129.263108</td>\n",
              "      <td>23143.949804</td>\n",
              "      <td>23171.962396</td>\n",
              "    </tr>\n",
              "    <tr>\n",
              "      <th>2025-02-07</th>\n",
              "      <td>23478.269531</td>\n",
              "      <td>23478.269531</td>\n",
              "      <td>23254.169922</td>\n",
              "      <td>23289.970703</td>\n",
              "      <td>2672200</td>\n",
              "      <td>-1</td>\n",
              "      <td>56.103083</td>\n",
              "      <td>-13.836994</td>\n",
              "      <td>23095.750572</td>\n",
              "      <td>23177.282192</td>\n",
              "      <td>23197.533203</td>\n",
              "      <td>23203.947519</td>\n",
              "      <td>23335.700409</td>\n",
              "    </tr>\n",
              "    <tr>\n",
              "      <th>2025-02-10</th>\n",
              "      <td>23252.140625</td>\n",
              "      <td>23448.160156</td>\n",
              "      <td>23163.849609</td>\n",
              "      <td>23421.769531</td>\n",
              "      <td>2706000</td>\n",
              "      <td>-1</td>\n",
              "      <td>52.333201</td>\n",
              "      <td>-32.937988</td>\n",
              "      <td>23101.230564</td>\n",
              "      <td>23192.253879</td>\n",
              "      <td>23210.507075</td>\n",
              "      <td>23252.342308</td>\n",
              "      <td>23326.213002</td>\n",
              "    </tr>\n",
              "    <tr>\n",
              "      <th>2025-02-11</th>\n",
              "      <td>23384.050781</td>\n",
              "      <td>23485.509766</td>\n",
              "      <td>23289.759766</td>\n",
              "      <td>23321.919922</td>\n",
              "      <td>2956500</td>\n",
              "      <td>-1</td>\n",
              "      <td>54.263868</td>\n",
              "      <td>-22.636515</td>\n",
              "      <td>23104.370093</td>\n",
              "      <td>23230.613259</td>\n",
              "      <td>23247.550521</td>\n",
              "      <td>23298.441392</td>\n",
              "      <td>23379.633946</td>\n",
              "    </tr>\n",
              "    <tr>\n",
              "      <th>2025-02-12</th>\n",
              "      <td>23289.750000</td>\n",
              "      <td>23528.609375</td>\n",
              "      <td>23289.750000</td>\n",
              "      <td>23449.310547</td>\n",
              "      <td>3159400</td>\n",
              "      <td>-1</td>\n",
              "      <td>52.622945</td>\n",
              "      <td>-30.909378</td>\n",
              "      <td>23104.902058</td>\n",
              "      <td>23242.440608</td>\n",
              "      <td>23263.128689</td>\n",
              "      <td>23328.862740</td>\n",
              "      <td>23363.071242</td>\n",
              "    </tr>\n",
              "  </tbody>\n",
              "</table>\n",
              "</div>"
            ],
            "text/plain": [
              "Price              Close          High           Low          Open   Volume  \\\n",
              "Ticker             ^TWII         ^TWII         ^TWII         ^TWII    ^TWII   \n",
              "Date                                                                          \n",
              "2025-02-06  23316.599609  23348.419922  23216.650391  23226.500000  2400700   \n",
              "2025-02-07  23478.269531  23478.269531  23254.169922  23289.970703  2672200   \n",
              "2025-02-10  23252.140625  23448.160156  23163.849609  23421.769531  2706000   \n",
              "2025-02-11  23384.050781  23485.509766  23289.759766  23321.919922  2956500   \n",
              "2025-02-12  23289.750000  23528.609375  23289.750000  23449.310547  3159400   \n",
              "\n",
              "Price      triple_barrier_signal        RSI Williams %R           SMA  \\\n",
              "Ticker                                                                  \n",
              "Date                                                                    \n",
              "2025-02-06                    -1  53.898353  -27.493170  23077.669112   \n",
              "2025-02-07                    -1  56.103083  -13.836994  23095.750572   \n",
              "2025-02-10                    -1  52.333201  -32.937988  23101.230564   \n",
              "2025-02-11                    -1  54.263868  -22.636515  23104.370093   \n",
              "2025-02-12                    -1  52.622945  -30.909378  23104.902058   \n",
              "\n",
              "Price                EMA           WMA           HMA          TEMA  \n",
              "Ticker                                                              \n",
              "Date                                                                \n",
              "2025-02-06  23102.035358  23129.263108  23143.949804  23171.962396  \n",
              "2025-02-07  23177.282192  23197.533203  23203.947519  23335.700409  \n",
              "2025-02-10  23192.253879  23210.507075  23252.342308  23326.213002  \n",
              "2025-02-11  23230.613259  23247.550521  23298.441392  23379.633946  \n",
              "2025-02-12  23242.440608  23263.128689  23328.862740  23363.071242  "
            ]
          },
          "execution_count": 16,
          "metadata": {},
          "output_type": "execute_result"
        },
        {
          "data": {
            "image/png": "[encoded data removed]",
            "text/plain": [
              "<Figure size 640x480 with 1 Axes>"
            ]
          },
          "metadata": {},
          "output_type": "display_data"
        }
      ],
      "source": [
        "df['TEMA'] = TA.TEMA(ohlcv)\n",
        "print(df['TEMA'].describe())\n",
        "sns.distplot(df['TEMA'].dropna())\n",
        "df.tail()"
      ]
    },
    {
      "cell_type": "markdown",
      "metadata": {
        "id": "EbMrqw5jjZaa"
      },
      "source": [
        "# CCI"
      ]
    },
    {
      "cell_type": "code",
      "execution_count": 17,
      "metadata": {
        "colab": {
          "base_uri": "https://localhost:8080/",
          "height": 1000
        },
        "id": "WBfeDdkUjZiP",
        "outputId": "1ba6d862-246a-4f38-c7df-d2fa5c852220"
      },
      "outputs": [
        {
          "name": "stdout",
          "output_type": "stream",
          "text": [
            "count    2452.000000\n",
            "mean       23.577938\n",
            "std       111.229745\n",
            "min      -342.035040\n",
            "25%       -58.523240\n",
            "50%        46.460472\n",
            "75%       103.800166\n",
            "max       347.439744\n",
            "Name: CCI, dtype: float64\n"
          ]
        },
        {
          "name": "stderr",
          "output_type": "stream",
          "text": [
            "C:\\Users\\TMP-214\\AppData\\Local\\Temp\\ipykernel_45112\\4109371288.py:3: UserWarning: \n",
            "\n",
            "`distplot` is a deprecated function and will be removed in seaborn v0.14.0.\n",
            "\n",
            "Please adapt your code to use either `displot` (a figure-level function with\n",
            "similar flexibility) or `histplot` (an axes-level function for histograms).\n",
            "\n",
            "For a guide to updating your code to use the new functions, please see\n",
            "https://gist.github.com/mwaskom/de44147ed2974457ad6372750bbe5751\n",
            "\n",
            "  sns.distplot(df['CCI'].dropna())\n"
          ]
        },
        {
          "data": {
            "text/html": [
              "<div>\n",
              "<style scoped>\n",
              "    .dataframe tbody tr th:only-of-type {\n",
              "        vertical-align: middle;\n",
              "    }\n",
              "\n",
              "    .dataframe tbody tr th {\n",
              "        vertical-align: top;\n",
              "    }\n",
              "\n",
              "    .dataframe thead tr th {\n",
              "        text-align: left;\n",
              "    }\n",
              "\n",
              "    .dataframe thead tr:last-of-type th {\n",
              "        text-align: right;\n",
              "    }\n",
              "</style>\n",
              "<table border=\"1\" class=\"dataframe\">\n",
              "  <thead>\n",
              "    <tr>\n",
              "      <th>Price</th>\n",
              "      <th>Close</th>\n",
              "      <th>High</th>\n",
              "      <th>Low</th>\n",
              "      <th>Open</th>\n",
              "      <th>Volume</th>\n",
              "      <th>triple_barrier_signal</th>\n",
              "      <th>RSI</th>\n",
              "      <th>Williams %R</th>\n",
              "      <th>SMA</th>\n",
              "      <th>EMA</th>\n",
              "      <th>WMA</th>\n",
              "      <th>HMA</th>\n",
              "      <th>TEMA</th>\n",
              "      <th>CCI</th>\n",
              "    </tr>\n",
              "    <tr>\n",
              "      <th>Ticker</th>\n",
              "      <th>^TWII</th>\n",
              "      <th>^TWII</th>\n",
              "      <th>^TWII</th>\n",
              "      <th>^TWII</th>\n",
              "      <th>^TWII</th>\n",
              "      <th></th>\n",
              "      <th></th>\n",
              "      <th></th>\n",
              "      <th></th>\n",
              "      <th></th>\n",
              "      <th></th>\n",
              "      <th></th>\n",
              "      <th></th>\n",
              "      <th></th>\n",
              "    </tr>\n",
              "    <tr>\n",
              "      <th>Date</th>\n",
              "      <th></th>\n",
              "      <th></th>\n",
              "      <th></th>\n",
              "      <th></th>\n",
              "      <th></th>\n",
              "      <th></th>\n",
              "      <th></th>\n",
              "      <th></th>\n",
              "      <th></th>\n",
              "      <th></th>\n",
              "      <th></th>\n",
              "      <th></th>\n",
              "      <th></th>\n",
              "      <th></th>\n",
              "    </tr>\n",
              "  </thead>\n",
              "  <tbody>\n",
              "    <tr>\n",
              "      <th>2025-02-06</th>\n",
              "      <td>23316.599609</td>\n",
              "      <td>23348.419922</td>\n",
              "      <td>23216.650391</td>\n",
              "      <td>23226.500000</td>\n",
              "      <td>2400700</td>\n",
              "      <td>-1</td>\n",
              "      <td>53.898353</td>\n",
              "      <td>-27.493170</td>\n",
              "      <td>23077.669112</td>\n",
              "      <td>23102.035358</td>\n",
              "      <td>23129.263108</td>\n",
              "      <td>23143.949804</td>\n",
              "      <td>23171.962396</td>\n",
              "      <td>53.246592</td>\n",
              "    </tr>\n",
              "    <tr>\n",
              "      <th>2025-02-07</th>\n",
              "      <td>23478.269531</td>\n",
              "      <td>23478.269531</td>\n",
              "      <td>23254.169922</td>\n",
              "      <td>23289.970703</td>\n",
              "      <td>2672200</td>\n",
              "      <td>-1</td>\n",
              "      <td>56.103083</td>\n",
              "      <td>-13.836994</td>\n",
              "      <td>23095.750572</td>\n",
              "      <td>23177.282192</td>\n",
              "      <td>23197.533203</td>\n",
              "      <td>23203.947519</td>\n",
              "      <td>23335.700409</td>\n",
              "      <td>73.604971</td>\n",
              "    </tr>\n",
              "    <tr>\n",
              "      <th>2025-02-10</th>\n",
              "      <td>23252.140625</td>\n",
              "      <td>23448.160156</td>\n",
              "      <td>23163.849609</td>\n",
              "      <td>23421.769531</td>\n",
              "      <td>2706000</td>\n",
              "      <td>-1</td>\n",
              "      <td>52.333201</td>\n",
              "      <td>-32.937988</td>\n",
              "      <td>23101.230564</td>\n",
              "      <td>23192.253879</td>\n",
              "      <td>23210.507075</td>\n",
              "      <td>23252.342308</td>\n",
              "      <td>23326.213002</td>\n",
              "      <td>39.786289</td>\n",
              "    </tr>\n",
              "    <tr>\n",
              "      <th>2025-02-11</th>\n",
              "      <td>23384.050781</td>\n",
              "      <td>23485.509766</td>\n",
              "      <td>23289.759766</td>\n",
              "      <td>23321.919922</td>\n",
              "      <td>2956500</td>\n",
              "      <td>-1</td>\n",
              "      <td>54.263868</td>\n",
              "      <td>-22.636515</td>\n",
              "      <td>23104.370093</td>\n",
              "      <td>23230.613259</td>\n",
              "      <td>23247.550521</td>\n",
              "      <td>23298.441392</td>\n",
              "      <td>23379.633946</td>\n",
              "      <td>58.942760</td>\n",
              "    </tr>\n",
              "    <tr>\n",
              "      <th>2025-02-12</th>\n",
              "      <td>23289.750000</td>\n",
              "      <td>23528.609375</td>\n",
              "      <td>23289.750000</td>\n",
              "      <td>23449.310547</td>\n",
              "      <td>3159400</td>\n",
              "      <td>-1</td>\n",
              "      <td>52.622945</td>\n",
              "      <td>-30.909378</td>\n",
              "      <td>23104.902058</td>\n",
              "      <td>23242.440608</td>\n",
              "      <td>23263.128689</td>\n",
              "      <td>23328.862740</td>\n",
              "      <td>23363.071242</td>\n",
              "      <td>55.557043</td>\n",
              "    </tr>\n",
              "  </tbody>\n",
              "</table>\n",
              "</div>"
            ],
            "text/plain": [
              "Price              Close          High           Low          Open   Volume  \\\n",
              "Ticker             ^TWII         ^TWII         ^TWII         ^TWII    ^TWII   \n",
              "Date                                                                          \n",
              "2025-02-06  23316.599609  23348.419922  23216.650391  23226.500000  2400700   \n",
              "2025-02-07  23478.269531  23478.269531  23254.169922  23289.970703  2672200   \n",
              "2025-02-10  23252.140625  23448.160156  23163.849609  23421.769531  2706000   \n",
              "2025-02-11  23384.050781  23485.509766  23289.759766  23321.919922  2956500   \n",
              "2025-02-12  23289.750000  23528.609375  23289.750000  23449.310547  3159400   \n",
              "\n",
              "Price      triple_barrier_signal        RSI Williams %R           SMA  \\\n",
              "Ticker                                                                  \n",
              "Date                                                                    \n",
              "2025-02-06                    -1  53.898353  -27.493170  23077.669112   \n",
              "2025-02-07                    -1  56.103083  -13.836994  23095.750572   \n",
              "2025-02-10                    -1  52.333201  -32.937988  23101.230564   \n",
              "2025-02-11                    -1  54.263868  -22.636515  23104.370093   \n",
              "2025-02-12                    -1  52.622945  -30.909378  23104.902058   \n",
              "\n",
              "Price                EMA           WMA           HMA          TEMA        CCI  \n",
              "Ticker                                                                         \n",
              "Date                                                                           \n",
              "2025-02-06  23102.035358  23129.263108  23143.949804  23171.962396  53.246592  \n",
              "2025-02-07  23177.282192  23197.533203  23203.947519  23335.700409  73.604971  \n",
              "2025-02-10  23192.253879  23210.507075  23252.342308  23326.213002  39.786289  \n",
              "2025-02-11  23230.613259  23247.550521  23298.441392  23379.633946  58.942760  \n",
              "2025-02-12  23242.440608  23263.128689  23328.862740  23363.071242  55.557043  "
            ]
          },
          "execution_count": 17,
          "metadata": {},
          "output_type": "execute_result"
        },
        {
          "data": {
            "image/png": "[encoded data removed]",
            "text/plain": [
              "<Figure size 640x480 with 1 Axes>"
            ]
          },
          "metadata": {},
          "output_type": "display_data"
        }
      ],
      "source": [
        "df['CCI'] = TA.CCI(ohlcv)\n",
        "print(df['CCI'].describe())\n",
        "sns.distplot(df['CCI'].dropna())\n",
        "df.tail()"
      ]
    },
    {
      "cell_type": "markdown",
      "metadata": {
        "id": "G8rAJ61cjkJ4"
      },
      "source": [
        "# CMO"
      ]
    },
    {
      "cell_type": "code",
      "execution_count": 18,
      "metadata": {
        "colab": {
          "base_uri": "https://localhost:8080/",
          "height": 1000
        },
        "id": "P9EispJmjkj_",
        "outputId": "8110c61b-94af-41e5-d406-0cd338a48174"
      },
      "outputs": [
        {
          "name": "stdout",
          "output_type": "stream",
          "text": [
            "count    2452.000000\n",
            "mean        8.675639\n",
            "std        29.536891\n",
            "min      -100.000000\n",
            "25%       -11.286517\n",
            "50%        11.056466\n",
            "75%        30.127898\n",
            "max        76.380951\n",
            "Name: CMO, dtype: float64\n"
          ]
        },
        {
          "name": "stderr",
          "output_type": "stream",
          "text": [
            "C:\\Users\\TMP-214\\AppData\\Local\\Temp\\ipykernel_45112\\2048488867.py:3: UserWarning: \n",
            "\n",
            "`distplot` is a deprecated function and will be removed in seaborn v0.14.0.\n",
            "\n",
            "Please adapt your code to use either `displot` (a figure-level function with\n",
            "similar flexibility) or `histplot` (an axes-level function for histograms).\n",
            "\n",
            "For a guide to updating your code to use the new functions, please see\n",
            "https://gist.github.com/mwaskom/de44147ed2974457ad6372750bbe5751\n",
            "\n",
            "  sns.distplot(df['CMO'].dropna())\n"
          ]
        },
        {
          "data": {
            "text/html": [
              "<div>\n",
              "<style scoped>\n",
              "    .dataframe tbody tr th:only-of-type {\n",
              "        vertical-align: middle;\n",
              "    }\n",
              "\n",
              "    .dataframe tbody tr th {\n",
              "        vertical-align: top;\n",
              "    }\n",
              "\n",
              "    .dataframe thead tr th {\n",
              "        text-align: left;\n",
              "    }\n",
              "\n",
              "    .dataframe thead tr:last-of-type th {\n",
              "        text-align: right;\n",
              "    }\n",
              "</style>\n",
              "<table border=\"1\" class=\"dataframe\">\n",
              "  <thead>\n",
              "    <tr>\n",
              "      <th>Price</th>\n",
              "      <th>Close</th>\n",
              "      <th>High</th>\n",
              "      <th>Low</th>\n",
              "      <th>Open</th>\n",
              "      <th>Volume</th>\n",
              "      <th>triple_barrier_signal</th>\n",
              "      <th>RSI</th>\n",
              "      <th>Williams %R</th>\n",
              "      <th>SMA</th>\n",
              "      <th>EMA</th>\n",
              "      <th>WMA</th>\n",
              "      <th>HMA</th>\n",
              "      <th>TEMA</th>\n",
              "      <th>CCI</th>\n",
              "      <th>CMO</th>\n",
              "    </tr>\n",
              "    <tr>\n",
              "      <th>Ticker</th>\n",
              "      <th>^TWII</th>\n",
              "      <th>^TWII</th>\n",
              "      <th>^TWII</th>\n",
              "      <th>^TWII</th>\n",
              "      <th>^TWII</th>\n",
              "      <th></th>\n",
              "      <th></th>\n",
              "      <th></th>\n",
              "      <th></th>\n",
              "      <th></th>\n",
              "      <th></th>\n",
              "      <th></th>\n",
              "      <th></th>\n",
              "      <th></th>\n",
              "      <th></th>\n",
              "    </tr>\n",
              "    <tr>\n",
              "      <th>Date</th>\n",
              "      <th></th>\n",
              "      <th></th>\n",
              "      <th></th>\n",
              "      <th></th>\n",
              "      <th></th>\n",
              "      <th></th>\n",
              "      <th></th>\n",
              "      <th></th>\n",
              "      <th></th>\n",
              "      <th></th>\n",
              "      <th></th>\n",
              "      <th></th>\n",
              "      <th></th>\n",
              "      <th></th>\n",
              "      <th></th>\n",
              "    </tr>\n",
              "  </thead>\n",
              "  <tbody>\n",
              "    <tr>\n",
              "      <th>2025-02-06</th>\n",
              "      <td>23316.599609</td>\n",
              "      <td>23348.419922</td>\n",
              "      <td>23216.650391</td>\n",
              "      <td>23226.500000</td>\n",
              "      <td>2400700</td>\n",
              "      <td>-1</td>\n",
              "      <td>53.898353</td>\n",
              "      <td>-27.493170</td>\n",
              "      <td>23077.669112</td>\n",
              "      <td>23102.035358</td>\n",
              "      <td>23129.263108</td>\n",
              "      <td>23143.949804</td>\n",
              "      <td>23171.962396</td>\n",
              "      <td>53.246592</td>\n",
              "      <td>10.140697</td>\n",
              "    </tr>\n",
              "    <tr>\n",
              "      <th>2025-02-07</th>\n",
              "      <td>23478.269531</td>\n",
              "      <td>23478.269531</td>\n",
              "      <td>23254.169922</td>\n",
              "      <td>23289.970703</td>\n",
              "      <td>2672200</td>\n",
              "      <td>-1</td>\n",
              "      <td>56.103083</td>\n",
              "      <td>-13.836994</td>\n",
              "      <td>23095.750572</td>\n",
              "      <td>23177.282192</td>\n",
              "      <td>23197.533203</td>\n",
              "      <td>23203.947519</td>\n",
              "      <td>23335.700409</td>\n",
              "      <td>73.604971</td>\n",
              "      <td>15.939536</td>\n",
              "    </tr>\n",
              "    <tr>\n",
              "      <th>2025-02-10</th>\n",
              "      <td>23252.140625</td>\n",
              "      <td>23448.160156</td>\n",
              "      <td>23163.849609</td>\n",
              "      <td>23421.769531</td>\n",
              "      <td>2706000</td>\n",
              "      <td>-1</td>\n",
              "      <td>52.333201</td>\n",
              "      <td>-32.937988</td>\n",
              "      <td>23101.230564</td>\n",
              "      <td>23192.253879</td>\n",
              "      <td>23210.507075</td>\n",
              "      <td>23252.342308</td>\n",
              "      <td>23326.213002</td>\n",
              "      <td>39.786289</td>\n",
              "      <td>5.371694</td>\n",
              "    </tr>\n",
              "    <tr>\n",
              "      <th>2025-02-11</th>\n",
              "      <td>23384.050781</td>\n",
              "      <td>23485.509766</td>\n",
              "      <td>23289.759766</td>\n",
              "      <td>23321.919922</td>\n",
              "      <td>2956500</td>\n",
              "      <td>-1</td>\n",
              "      <td>54.263868</td>\n",
              "      <td>-22.636515</td>\n",
              "      <td>23104.370093</td>\n",
              "      <td>23230.613259</td>\n",
              "      <td>23247.550521</td>\n",
              "      <td>23298.441392</td>\n",
              "      <td>23379.633946</td>\n",
              "      <td>58.942760</td>\n",
              "      <td>10.650395</td>\n",
              "    </tr>\n",
              "    <tr>\n",
              "      <th>2025-02-12</th>\n",
              "      <td>23289.750000</td>\n",
              "      <td>23528.609375</td>\n",
              "      <td>23289.750000</td>\n",
              "      <td>23449.310547</td>\n",
              "      <td>3159400</td>\n",
              "      <td>-1</td>\n",
              "      <td>52.622945</td>\n",
              "      <td>-30.909378</td>\n",
              "      <td>23104.902058</td>\n",
              "      <td>23242.440608</td>\n",
              "      <td>23263.128689</td>\n",
              "      <td>23328.862740</td>\n",
              "      <td>23363.071242</td>\n",
              "      <td>55.557043</td>\n",
              "      <td>5.955519</td>\n",
              "    </tr>\n",
              "  </tbody>\n",
              "</table>\n",
              "</div>"
            ],
            "text/plain": [
              "Price              Close          High           Low          Open   Volume  \\\n",
              "Ticker             ^TWII         ^TWII         ^TWII         ^TWII    ^TWII   \n",
              "Date                                                                          \n",
              "2025-02-06  23316.599609  23348.419922  23216.650391  23226.500000  2400700   \n",
              "2025-02-07  23478.269531  23478.269531  23254.169922  23289.970703  2672200   \n",
              "2025-02-10  23252.140625  23448.160156  23163.849609  23421.769531  2706000   \n",
              "2025-02-11  23384.050781  23485.509766  23289.759766  23321.919922  2956500   \n",
              "2025-02-12  23289.750000  23528.609375  23289.750000  23449.310547  3159400   \n",
              "\n",
              "Price      triple_barrier_signal        RSI Williams %R           SMA  \\\n",
              "Ticker                                                                  \n",
              "Date                                                                    \n",
              "2025-02-06                    -1  53.898353  -27.493170  23077.669112   \n",
              "2025-02-07                    -1  56.103083  -13.836994  23095.750572   \n",
              "2025-02-10                    -1  52.333201  -32.937988  23101.230564   \n",
              "2025-02-11                    -1  54.263868  -22.636515  23104.370093   \n",
              "2025-02-12                    -1  52.622945  -30.909378  23104.902058   \n",
              "\n",
              "Price                EMA           WMA           HMA          TEMA        CCI  \\\n",
              "Ticker                                                                          \n",
              "Date                                                                            \n",
              "2025-02-06  23102.035358  23129.263108  23143.949804  23171.962396  53.246592   \n",
              "2025-02-07  23177.282192  23197.533203  23203.947519  23335.700409  73.604971   \n",
              "2025-02-10  23192.253879  23210.507075  23252.342308  23326.213002  39.786289   \n",
              "2025-02-11  23230.613259  23247.550521  23298.441392  23379.633946  58.942760   \n",
              "2025-02-12  23242.440608  23263.128689  23328.862740  23363.071242  55.557043   \n",
              "\n",
              "Price             CMO  \n",
              "Ticker                 \n",
              "Date                   \n",
              "2025-02-06  10.140697  \n",
              "2025-02-07  15.939536  \n",
              "2025-02-10   5.371694  \n",
              "2025-02-11  10.650395  \n",
              "2025-02-12   5.955519  "
            ]
          },
          "execution_count": 18,
          "metadata": {},
          "output_type": "execute_result"
        },
        {
          "data": {
            "image/png": "[encoded data removed]",
            "text/plain": [
              "<Figure size 640x480 with 1 Axes>"
            ]
          },
          "metadata": {},
          "output_type": "display_data"
        }
      ],
      "source": [
        "df['CMO'] = TA.CMO(ohlcv)\n",
        "print(df['CMO'].describe())\n",
        "sns.distplot(df['CMO'].dropna())\n",
        "df.tail()"
      ]
    },
    {
      "cell_type": "markdown",
      "metadata": {
        "id": "35qI_9gZjsR0"
      },
      "source": [
        "# MACD"
      ]
    },
    {
      "cell_type": "code",
      "execution_count": 19,
      "metadata": {
        "colab": {
          "base_uri": "https://localhost:8080/",
          "height": 1000
        },
        "id": "5QG4lBEfjsZb",
        "outputId": "a10f73e4-1c08-4d3f-fb6f-4285fe6c303a"
      },
      "outputs": [
        {
          "name": "stdout",
          "output_type": "stream",
          "text": [
            "count    2453.000000\n",
            "mean        0.071472\n",
            "std        50.512813\n",
            "min      -346.978047\n",
            "25%       -22.770881\n",
            "50%         0.502384\n",
            "75%        26.593622\n",
            "max       214.802204\n",
            "Name: MACD, dtype: float64\n"
          ]
        },
        {
          "name": "stderr",
          "output_type": "stream",
          "text": [
            "C:\\Users\\TMP-214\\AppData\\Local\\Temp\\ipykernel_45112\\2662787808.py:3: UserWarning: \n",
            "\n",
            "`distplot` is a deprecated function and will be removed in seaborn v0.14.0.\n",
            "\n",
            "Please adapt your code to use either `displot` (a figure-level function with\n",
            "similar flexibility) or `histplot` (an axes-level function for histograms).\n",
            "\n",
            "For a guide to updating your code to use the new functions, please see\n",
            "https://gist.github.com/mwaskom/de44147ed2974457ad6372750bbe5751\n",
            "\n",
            "  sns.distplot(df['MACD'].dropna())\n"
          ]
        },
        {
          "data": {
            "text/html": [
              "<div>\n",
              "<style scoped>\n",
              "    .dataframe tbody tr th:only-of-type {\n",
              "        vertical-align: middle;\n",
              "    }\n",
              "\n",
              "    .dataframe tbody tr th {\n",
              "        vertical-align: top;\n",
              "    }\n",
              "\n",
              "    .dataframe thead tr th {\n",
              "        text-align: left;\n",
              "    }\n",
              "\n",
              "    .dataframe thead tr:last-of-type th {\n",
              "        text-align: right;\n",
              "    }\n",
              "</style>\n",
              "<table border=\"1\" class=\"dataframe\">\n",
              "  <thead>\n",
              "    <tr>\n",
              "      <th>Price</th>\n",
              "      <th>Close</th>\n",
              "      <th>High</th>\n",
              "      <th>Low</th>\n",
              "      <th>Open</th>\n",
              "      <th>Volume</th>\n",
              "      <th>triple_barrier_signal</th>\n",
              "      <th>RSI</th>\n",
              "      <th>Williams %R</th>\n",
              "      <th>SMA</th>\n",
              "      <th>EMA</th>\n",
              "      <th>WMA</th>\n",
              "      <th>HMA</th>\n",
              "      <th>TEMA</th>\n",
              "      <th>CCI</th>\n",
              "      <th>CMO</th>\n",
              "      <th>MACD</th>\n",
              "    </tr>\n",
              "    <tr>\n",
              "      <th>Ticker</th>\n",
              "      <th>^TWII</th>\n",
              "      <th>^TWII</th>\n",
              "      <th>^TWII</th>\n",
              "      <th>^TWII</th>\n",
              "      <th>^TWII</th>\n",
              "      <th></th>\n",
              "      <th></th>\n",
              "      <th></th>\n",
              "      <th></th>\n",
              "      <th></th>\n",
              "      <th></th>\n",
              "      <th></th>\n",
              "      <th></th>\n",
              "      <th></th>\n",
              "      <th></th>\n",
              "      <th></th>\n",
              "    </tr>\n",
              "    <tr>\n",
              "      <th>Date</th>\n",
              "      <th></th>\n",
              "      <th></th>\n",
              "      <th></th>\n",
              "      <th></th>\n",
              "      <th></th>\n",
              "      <th></th>\n",
              "      <th></th>\n",
              "      <th></th>\n",
              "      <th></th>\n",
              "      <th></th>\n",
              "      <th></th>\n",
              "      <th></th>\n",
              "      <th></th>\n",
              "      <th></th>\n",
              "      <th></th>\n",
              "      <th></th>\n",
              "    </tr>\n",
              "  </thead>\n",
              "  <tbody>\n",
              "    <tr>\n",
              "      <th>2025-02-06</th>\n",
              "      <td>23316.599609</td>\n",
              "      <td>23348.419922</td>\n",
              "      <td>23216.650391</td>\n",
              "      <td>23226.500000</td>\n",
              "      <td>2400700</td>\n",
              "      <td>-1</td>\n",
              "      <td>53.898353</td>\n",
              "      <td>-27.493170</td>\n",
              "      <td>23077.669112</td>\n",
              "      <td>23102.035358</td>\n",
              "      <td>23129.263108</td>\n",
              "      <td>23143.949804</td>\n",
              "      <td>23171.962396</td>\n",
              "      <td>53.246592</td>\n",
              "      <td>10.140697</td>\n",
              "      <td>11.038551</td>\n",
              "    </tr>\n",
              "    <tr>\n",
              "      <th>2025-02-07</th>\n",
              "      <td>23478.269531</td>\n",
              "      <td>23478.269531</td>\n",
              "      <td>23254.169922</td>\n",
              "      <td>23289.970703</td>\n",
              "      <td>2672200</td>\n",
              "      <td>-1</td>\n",
              "      <td>56.103083</td>\n",
              "      <td>-13.836994</td>\n",
              "      <td>23095.750572</td>\n",
              "      <td>23177.282192</td>\n",
              "      <td>23197.533203</td>\n",
              "      <td>23203.947519</td>\n",
              "      <td>23335.700409</td>\n",
              "      <td>73.604971</td>\n",
              "      <td>15.939536</td>\n",
              "      <td>32.052133</td>\n",
              "    </tr>\n",
              "    <tr>\n",
              "      <th>2025-02-10</th>\n",
              "      <td>23252.140625</td>\n",
              "      <td>23448.160156</td>\n",
              "      <td>23163.849609</td>\n",
              "      <td>23421.769531</td>\n",
              "      <td>2706000</td>\n",
              "      <td>-1</td>\n",
              "      <td>52.333201</td>\n",
              "      <td>-32.937988</td>\n",
              "      <td>23101.230564</td>\n",
              "      <td>23192.253879</td>\n",
              "      <td>23210.507075</td>\n",
              "      <td>23252.342308</td>\n",
              "      <td>23326.213002</td>\n",
              "      <td>39.786289</td>\n",
              "      <td>5.371694</td>\n",
              "      <td>28.917404</td>\n",
              "    </tr>\n",
              "    <tr>\n",
              "      <th>2025-02-11</th>\n",
              "      <td>23384.050781</td>\n",
              "      <td>23485.509766</td>\n",
              "      <td>23289.759766</td>\n",
              "      <td>23321.919922</td>\n",
              "      <td>2956500</td>\n",
              "      <td>-1</td>\n",
              "      <td>54.263868</td>\n",
              "      <td>-22.636515</td>\n",
              "      <td>23104.370093</td>\n",
              "      <td>23230.613259</td>\n",
              "      <td>23247.550521</td>\n",
              "      <td>23298.441392</td>\n",
              "      <td>23379.633946</td>\n",
              "      <td>58.942760</td>\n",
              "      <td>10.650395</td>\n",
              "      <td>33.594617</td>\n",
              "    </tr>\n",
              "    <tr>\n",
              "      <th>2025-02-12</th>\n",
              "      <td>23289.750000</td>\n",
              "      <td>23528.609375</td>\n",
              "      <td>23289.750000</td>\n",
              "      <td>23449.310547</td>\n",
              "      <td>3159400</td>\n",
              "      <td>-1</td>\n",
              "      <td>52.622945</td>\n",
              "      <td>-30.909378</td>\n",
              "      <td>23104.902058</td>\n",
              "      <td>23242.440608</td>\n",
              "      <td>23263.128689</td>\n",
              "      <td>23328.862740</td>\n",
              "      <td>23363.071242</td>\n",
              "      <td>55.557043</td>\n",
              "      <td>5.955519</td>\n",
              "      <td>28.410194</td>\n",
              "    </tr>\n",
              "  </tbody>\n",
              "</table>\n",
              "</div>"
            ],
            "text/plain": [
              "Price              Close          High           Low          Open   Volume  \\\n",
              "Ticker             ^TWII         ^TWII         ^TWII         ^TWII    ^TWII   \n",
              "Date                                                                          \n",
              "2025-02-06  23316.599609  23348.419922  23216.650391  23226.500000  2400700   \n",
              "2025-02-07  23478.269531  23478.269531  23254.169922  23289.970703  2672200   \n",
              "2025-02-10  23252.140625  23448.160156  23163.849609  23421.769531  2706000   \n",
              "2025-02-11  23384.050781  23485.509766  23289.759766  23321.919922  2956500   \n",
              "2025-02-12  23289.750000  23528.609375  23289.750000  23449.310547  3159400   \n",
              "\n",
              "Price      triple_barrier_signal        RSI Williams %R           SMA  \\\n",
              "Ticker                                                                  \n",
              "Date                                                                    \n",
              "2025-02-06                    -1  53.898353  -27.493170  23077.669112   \n",
              "2025-02-07                    -1  56.103083  -13.836994  23095.750572   \n",
              "2025-02-10                    -1  52.333201  -32.937988  23101.230564   \n",
              "2025-02-11                    -1  54.263868  -22.636515  23104.370093   \n",
              "2025-02-12                    -1  52.622945  -30.909378  23104.902058   \n",
              "\n",
              "Price                EMA           WMA           HMA          TEMA        CCI  \\\n",
              "Ticker                                                                          \n",
              "Date                                                                            \n",
              "2025-02-06  23102.035358  23129.263108  23143.949804  23171.962396  53.246592   \n",
              "2025-02-07  23177.282192  23197.533203  23203.947519  23335.700409  73.604971   \n",
              "2025-02-10  23192.253879  23210.507075  23252.342308  23326.213002  39.786289   \n",
              "2025-02-11  23230.613259  23247.550521  23298.441392  23379.633946  58.942760   \n",
              "2025-02-12  23242.440608  23263.128689  23328.862740  23363.071242  55.557043   \n",
              "\n",
              "Price             CMO       MACD  \n",
              "Ticker                            \n",
              "Date                              \n",
              "2025-02-06  10.140697  11.038551  \n",
              "2025-02-07  15.939536  32.052133  \n",
              "2025-02-10   5.371694  28.917404  \n",
              "2025-02-11  10.650395  33.594617  \n",
              "2025-02-12   5.955519  28.410194  "
            ]
          },
          "execution_count": 19,
          "metadata": {},
          "output_type": "execute_result"
        },
        {
          "data": {
            "image/png": "[encoded data removed]",
            "text/plain": [
              "<Figure size 640x480 with 1 Axes>"
            ]
          },
          "metadata": {},
          "output_type": "display_data"
        }
      ],
      "source": [
        "df['MACD'] = TA.MACD(ohlcv)['MACD'] - TA.MACD(ohlcv)['SIGNAL']\n",
        "print(df['MACD'].describe())\n",
        "sns.distplot(df['MACD'].dropna())\n",
        "df.tail()"
      ]
    },
    {
      "cell_type": "markdown",
      "metadata": {
        "id": "roEAzvV7liUA"
      },
      "source": [
        "# PPO"
      ]
    },
    {
      "cell_type": "code",
      "execution_count": 20,
      "metadata": {
        "colab": {
          "base_uri": "https://localhost:8080/",
          "height": 1000
        },
        "id": "ovCLHYPXli73",
        "outputId": "6f2ad69d-004b-4e2a-8ec4-4dae9b280be0"
      },
      "outputs": [
        {
          "name": "stdout",
          "output_type": "stream",
          "text": [
            "count    2453.000000\n",
            "mean        0.000307\n",
            "std         0.359900\n",
            "min        -2.355901\n",
            "25%        -0.200620\n",
            "50%         0.000051\n",
            "75%         0.210485\n",
            "max         1.592874\n",
            "Name: PPO, dtype: float64\n"
          ]
        },
        {
          "name": "stderr",
          "output_type": "stream",
          "text": [
            "C:\\Users\\TMP-214\\AppData\\Local\\Temp\\ipykernel_45112\\3095035729.py:3: UserWarning: \n",
            "\n",
            "`distplot` is a deprecated function and will be removed in seaborn v0.14.0.\n",
            "\n",
            "Please adapt your code to use either `displot` (a figure-level function with\n",
            "similar flexibility) or `histplot` (an axes-level function for histograms).\n",
            "\n",
            "For a guide to updating your code to use the new functions, please see\n",
            "https://gist.github.com/mwaskom/de44147ed2974457ad6372750bbe5751\n",
            "\n",
            "  sns.distplot(df['PPO'].dropna())\n"
          ]
        },
        {
          "data": {
            "text/html": [
              "<div>\n",
              "<style scoped>\n",
              "    .dataframe tbody tr th:only-of-type {\n",
              "        vertical-align: middle;\n",
              "    }\n",
              "\n",
              "    .dataframe tbody tr th {\n",
              "        vertical-align: top;\n",
              "    }\n",
              "\n",
              "    .dataframe thead tr th {\n",
              "        text-align: left;\n",
              "    }\n",
              "\n",
              "    .dataframe thead tr:last-of-type th {\n",
              "        text-align: right;\n",
              "    }\n",
              "</style>\n",
              "<table border=\"1\" class=\"dataframe\">\n",
              "  <thead>\n",
              "    <tr>\n",
              "      <th>Price</th>\n",
              "      <th>Close</th>\n",
              "      <th>High</th>\n",
              "      <th>Low</th>\n",
              "      <th>Open</th>\n",
              "      <th>Volume</th>\n",
              "      <th>triple_barrier_signal</th>\n",
              "      <th>RSI</th>\n",
              "      <th>Williams %R</th>\n",
              "      <th>SMA</th>\n",
              "      <th>EMA</th>\n",
              "      <th>WMA</th>\n",
              "      <th>HMA</th>\n",
              "      <th>TEMA</th>\n",
              "      <th>CCI</th>\n",
              "      <th>CMO</th>\n",
              "      <th>MACD</th>\n",
              "      <th>PPO</th>\n",
              "    </tr>\n",
              "    <tr>\n",
              "      <th>Ticker</th>\n",
              "      <th>^TWII</th>\n",
              "      <th>^TWII</th>\n",
              "      <th>^TWII</th>\n",
              "      <th>^TWII</th>\n",
              "      <th>^TWII</th>\n",
              "      <th></th>\n",
              "      <th></th>\n",
              "      <th></th>\n",
              "      <th></th>\n",
              "      <th></th>\n",
              "      <th></th>\n",
              "      <th></th>\n",
              "      <th></th>\n",
              "      <th></th>\n",
              "      <th></th>\n",
              "      <th></th>\n",
              "      <th></th>\n",
              "    </tr>\n",
              "    <tr>\n",
              "      <th>Date</th>\n",
              "      <th></th>\n",
              "      <th></th>\n",
              "      <th></th>\n",
              "      <th></th>\n",
              "      <th></th>\n",
              "      <th></th>\n",
              "      <th></th>\n",
              "      <th></th>\n",
              "      <th></th>\n",
              "      <th></th>\n",
              "      <th></th>\n",
              "      <th></th>\n",
              "      <th></th>\n",
              "      <th></th>\n",
              "      <th></th>\n",
              "      <th></th>\n",
              "      <th></th>\n",
              "    </tr>\n",
              "  </thead>\n",
              "  <tbody>\n",
              "    <tr>\n",
              "      <th>2025-02-06</th>\n",
              "      <td>23316.599609</td>\n",
              "      <td>23348.419922</td>\n",
              "      <td>23216.650391</td>\n",
              "      <td>23226.500000</td>\n",
              "      <td>2400700</td>\n",
              "      <td>-1</td>\n",
              "      <td>53.898353</td>\n",
              "      <td>-27.493170</td>\n",
              "      <td>23077.669112</td>\n",
              "      <td>23102.035358</td>\n",
              "      <td>23129.263108</td>\n",
              "      <td>23143.949804</td>\n",
              "      <td>23171.962396</td>\n",
              "      <td>53.246592</td>\n",
              "      <td>10.140697</td>\n",
              "      <td>11.038551</td>\n",
              "      <td>0.047926</td>\n",
              "    </tr>\n",
              "    <tr>\n",
              "      <th>2025-02-07</th>\n",
              "      <td>23478.269531</td>\n",
              "      <td>23478.269531</td>\n",
              "      <td>23254.169922</td>\n",
              "      <td>23289.970703</td>\n",
              "      <td>2672200</td>\n",
              "      <td>-1</td>\n",
              "      <td>56.103083</td>\n",
              "      <td>-13.836994</td>\n",
              "      <td>23095.750572</td>\n",
              "      <td>23177.282192</td>\n",
              "      <td>23197.533203</td>\n",
              "      <td>23203.947519</td>\n",
              "      <td>23335.700409</td>\n",
              "      <td>73.604971</td>\n",
              "      <td>15.939536</td>\n",
              "      <td>32.052133</td>\n",
              "      <td>0.138764</td>\n",
              "    </tr>\n",
              "    <tr>\n",
              "      <th>2025-02-10</th>\n",
              "      <td>23252.140625</td>\n",
              "      <td>23448.160156</td>\n",
              "      <td>23163.849609</td>\n",
              "      <td>23421.769531</td>\n",
              "      <td>2706000</td>\n",
              "      <td>-1</td>\n",
              "      <td>52.333201</td>\n",
              "      <td>-32.937988</td>\n",
              "      <td>23101.230564</td>\n",
              "      <td>23192.253879</td>\n",
              "      <td>23210.507075</td>\n",
              "      <td>23252.342308</td>\n",
              "      <td>23326.213002</td>\n",
              "      <td>39.786289</td>\n",
              "      <td>5.371694</td>\n",
              "      <td>28.917404</td>\n",
              "      <td>0.125094</td>\n",
              "    </tr>\n",
              "    <tr>\n",
              "      <th>2025-02-11</th>\n",
              "      <td>23384.050781</td>\n",
              "      <td>23485.509766</td>\n",
              "      <td>23289.759766</td>\n",
              "      <td>23321.919922</td>\n",
              "      <td>2956500</td>\n",
              "      <td>-1</td>\n",
              "      <td>54.263868</td>\n",
              "      <td>-22.636515</td>\n",
              "      <td>23104.370093</td>\n",
              "      <td>23230.613259</td>\n",
              "      <td>23247.550521</td>\n",
              "      <td>23298.441392</td>\n",
              "      <td>23379.633946</td>\n",
              "      <td>58.942760</td>\n",
              "      <td>10.650395</td>\n",
              "      <td>33.594617</td>\n",
              "      <td>0.145127</td>\n",
              "    </tr>\n",
              "    <tr>\n",
              "      <th>2025-02-12</th>\n",
              "      <td>23289.750000</td>\n",
              "      <td>23528.609375</td>\n",
              "      <td>23289.750000</td>\n",
              "      <td>23449.310547</td>\n",
              "      <td>3159400</td>\n",
              "      <td>-1</td>\n",
              "      <td>52.622945</td>\n",
              "      <td>-30.909378</td>\n",
              "      <td>23104.902058</td>\n",
              "      <td>23242.440608</td>\n",
              "      <td>23263.128689</td>\n",
              "      <td>23328.862740</td>\n",
              "      <td>23363.071242</td>\n",
              "      <td>55.557043</td>\n",
              "      <td>5.955519</td>\n",
              "      <td>28.410194</td>\n",
              "      <td>0.122607</td>\n",
              "    </tr>\n",
              "  </tbody>\n",
              "</table>\n",
              "</div>"
            ],
            "text/plain": [
              "Price              Close          High           Low          Open   Volume  \\\n",
              "Ticker             ^TWII         ^TWII         ^TWII         ^TWII    ^TWII   \n",
              "Date                                                                          \n",
              "2025-02-06  23316.599609  23348.419922  23216.650391  23226.500000  2400700   \n",
              "2025-02-07  23478.269531  23478.269531  23254.169922  23289.970703  2672200   \n",
              "2025-02-10  23252.140625  23448.160156  23163.849609  23421.769531  2706000   \n",
              "2025-02-11  23384.050781  23485.509766  23289.759766  23321.919922  2956500   \n",
              "2025-02-12  23289.750000  23528.609375  23289.750000  23449.310547  3159400   \n",
              "\n",
              "Price      triple_barrier_signal        RSI Williams %R           SMA  \\\n",
              "Ticker                                                                  \n",
              "Date                                                                    \n",
              "2025-02-06                    -1  53.898353  -27.493170  23077.669112   \n",
              "2025-02-07                    -1  56.103083  -13.836994  23095.750572   \n",
              "2025-02-10                    -1  52.333201  -32.937988  23101.230564   \n",
              "2025-02-11                    -1  54.263868  -22.636515  23104.370093   \n",
              "2025-02-12                    -1  52.622945  -30.909378  23104.902058   \n",
              "\n",
              "Price                EMA           WMA           HMA          TEMA        CCI  \\\n",
              "Ticker                                                                          \n",
              "Date                                                                            \n",
              "2025-02-06  23102.035358  23129.263108  23143.949804  23171.962396  53.246592   \n",
              "2025-02-07  23177.282192  23197.533203  23203.947519  23335.700409  73.604971   \n",
              "2025-02-10  23192.253879  23210.507075  23252.342308  23326.213002  39.786289   \n",
              "2025-02-11  23230.613259  23247.550521  23298.441392  23379.633946  58.942760   \n",
              "2025-02-12  23242.440608  23263.128689  23328.862740  23363.071242  55.557043   \n",
              "\n",
              "Price             CMO       MACD       PPO  \n",
              "Ticker                                      \n",
              "Date                                        \n",
              "2025-02-06  10.140697  11.038551  0.047926  \n",
              "2025-02-07  15.939536  32.052133  0.138764  \n",
              "2025-02-10   5.371694  28.917404  0.125094  \n",
              "2025-02-11  10.650395  33.594617  0.145127  \n",
              "2025-02-12   5.955519  28.410194  0.122607  "
            ]
          },
          "execution_count": 20,
          "metadata": {},
          "output_type": "execute_result"
        },
        {
          "data": {
            "image/png": "[encoded data removed]",
            "text/plain": [
              "<Figure size 640x480 with 1 Axes>"
            ]
          },
          "metadata": {},
          "output_type": "display_data"
        }
      ],
      "source": [
        "df['PPO'] = TA.PPO(ohlcv)['PPO'] - TA.PPO(ohlcv)['SIGNAL']\n",
        "print(df['PPO'].describe())\n",
        "sns.distplot(df['PPO'].dropna())\n",
        "df.tail()"
      ]
    },
    {
      "cell_type": "markdown",
      "metadata": {
        "id": "5BBE8vaWmdGN"
      },
      "source": [
        "# ROC"
      ]
    },
    {
      "cell_type": "code",
      "execution_count": 21,
      "metadata": {
        "colab": {
          "base_uri": "https://localhost:8080/",
          "height": 1000
        },
        "id": "OKI3MqwhmdOj",
        "outputId": "870b499e-9b74-4973-fd68-60c37e63b6ea"
      },
      "outputs": [
        {
          "name": "stdout",
          "output_type": "stream",
          "text": [
            "count    2441.000000\n",
            "mean        0.524185\n",
            "std         3.635468\n",
            "min       -23.361982\n",
            "25%        -1.427090\n",
            "50%         0.829138\n",
            "75%         2.822654\n",
            "max        16.773101\n",
            "Name: ROC, dtype: float64\n"
          ]
        },
        {
          "name": "stderr",
          "output_type": "stream",
          "text": [
            "C:\\Users\\TMP-214\\AppData\\Local\\Temp\\ipykernel_45112\\1860037326.py:3: UserWarning: \n",
            "\n",
            "`distplot` is a deprecated function and will be removed in seaborn v0.14.0.\n",
            "\n",
            "Please adapt your code to use either `displot` (a figure-level function with\n",
            "similar flexibility) or `histplot` (an axes-level function for histograms).\n",
            "\n",
            "For a guide to updating your code to use the new functions, please see\n",
            "https://gist.github.com/mwaskom/de44147ed2974457ad6372750bbe5751\n",
            "\n",
            "  sns.distplot(df['ROC'].dropna())\n"
          ]
        },
        {
          "data": {
            "text/html": [
              "<div>\n",
              "<style scoped>\n",
              "    .dataframe tbody tr th:only-of-type {\n",
              "        vertical-align: middle;\n",
              "    }\n",
              "\n",
              "    .dataframe tbody tr th {\n",
              "        vertical-align: top;\n",
              "    }\n",
              "\n",
              "    .dataframe thead tr th {\n",
              "        text-align: left;\n",
              "    }\n",
              "\n",
              "    .dataframe thead tr:last-of-type th {\n",
              "        text-align: right;\n",
              "    }\n",
              "</style>\n",
              "<table border=\"1\" class=\"dataframe\">\n",
              "  <thead>\n",
              "    <tr>\n",
              "      <th>Price</th>\n",
              "      <th>Close</th>\n",
              "      <th>High</th>\n",
              "      <th>Low</th>\n",
              "      <th>Open</th>\n",
              "      <th>Volume</th>\n",
              "      <th>triple_barrier_signal</th>\n",
              "      <th>RSI</th>\n",
              "      <th>Williams %R</th>\n",
              "      <th>SMA</th>\n",
              "      <th>EMA</th>\n",
              "      <th>WMA</th>\n",
              "      <th>HMA</th>\n",
              "      <th>TEMA</th>\n",
              "      <th>CCI</th>\n",
              "      <th>CMO</th>\n",
              "      <th>MACD</th>\n",
              "      <th>PPO</th>\n",
              "      <th>ROC</th>\n",
              "    </tr>\n",
              "    <tr>\n",
              "      <th>Ticker</th>\n",
              "      <th>^TWII</th>\n",
              "      <th>^TWII</th>\n",
              "      <th>^TWII</th>\n",
              "      <th>^TWII</th>\n",
              "      <th>^TWII</th>\n",
              "      <th></th>\n",
              "      <th></th>\n",
              "      <th></th>\n",
              "      <th></th>\n",
              "      <th></th>\n",
              "      <th></th>\n",
              "      <th></th>\n",
              "      <th></th>\n",
              "      <th></th>\n",
              "      <th></th>\n",
              "      <th></th>\n",
              "      <th></th>\n",
              "      <th></th>\n",
              "    </tr>\n",
              "    <tr>\n",
              "      <th>Date</th>\n",
              "      <th></th>\n",
              "      <th></th>\n",
              "      <th></th>\n",
              "      <th></th>\n",
              "      <th></th>\n",
              "      <th></th>\n",
              "      <th></th>\n",
              "      <th></th>\n",
              "      <th></th>\n",
              "      <th></th>\n",
              "      <th></th>\n",
              "      <th></th>\n",
              "      <th></th>\n",
              "      <th></th>\n",
              "      <th></th>\n",
              "      <th></th>\n",
              "      <th></th>\n",
              "      <th></th>\n",
              "    </tr>\n",
              "  </thead>\n",
              "  <tbody>\n",
              "    <tr>\n",
              "      <th>2025-02-06</th>\n",
              "      <td>23316.599609</td>\n",
              "      <td>23348.419922</td>\n",
              "      <td>23216.650391</td>\n",
              "      <td>23226.500000</td>\n",
              "      <td>2400700</td>\n",
              "      <td>-1</td>\n",
              "      <td>53.898353</td>\n",
              "      <td>-27.493170</td>\n",
              "      <td>23077.669112</td>\n",
              "      <td>23102.035358</td>\n",
              "      <td>23129.263108</td>\n",
              "      <td>23143.949804</td>\n",
              "      <td>23171.962396</td>\n",
              "      <td>53.246592</td>\n",
              "      <td>10.140697</td>\n",
              "      <td>11.038551</td>\n",
              "      <td>0.047926</td>\n",
              "      <td>1.324275</td>\n",
              "    </tr>\n",
              "    <tr>\n",
              "      <th>2025-02-07</th>\n",
              "      <td>23478.269531</td>\n",
              "      <td>23478.269531</td>\n",
              "      <td>23254.169922</td>\n",
              "      <td>23289.970703</td>\n",
              "      <td>2672200</td>\n",
              "      <td>-1</td>\n",
              "      <td>56.103083</td>\n",
              "      <td>-13.836994</td>\n",
              "      <td>23095.750572</td>\n",
              "      <td>23177.282192</td>\n",
              "      <td>23197.533203</td>\n",
              "      <td>23203.947519</td>\n",
              "      <td>23335.700409</td>\n",
              "      <td>73.604971</td>\n",
              "      <td>15.939536</td>\n",
              "      <td>32.052133</td>\n",
              "      <td>0.138764</td>\n",
              "      <td>4.402014</td>\n",
              "    </tr>\n",
              "    <tr>\n",
              "      <th>2025-02-10</th>\n",
              "      <td>23252.140625</td>\n",
              "      <td>23448.160156</td>\n",
              "      <td>23163.849609</td>\n",
              "      <td>23421.769531</td>\n",
              "      <td>2706000</td>\n",
              "      <td>-1</td>\n",
              "      <td>52.333201</td>\n",
              "      <td>-32.937988</td>\n",
              "      <td>23101.230564</td>\n",
              "      <td>23192.253879</td>\n",
              "      <td>23210.507075</td>\n",
              "      <td>23252.342308</td>\n",
              "      <td>23326.213002</td>\n",
              "      <td>39.786289</td>\n",
              "      <td>5.371694</td>\n",
              "      <td>28.917404</td>\n",
              "      <td>0.125094</td>\n",
              "      <td>1.994169</td>\n",
              "    </tr>\n",
              "    <tr>\n",
              "      <th>2025-02-11</th>\n",
              "      <td>23384.050781</td>\n",
              "      <td>23485.509766</td>\n",
              "      <td>23289.759766</td>\n",
              "      <td>23321.919922</td>\n",
              "      <td>2956500</td>\n",
              "      <td>-1</td>\n",
              "      <td>54.263868</td>\n",
              "      <td>-22.636515</td>\n",
              "      <td>23104.370093</td>\n",
              "      <td>23230.613259</td>\n",
              "      <td>23247.550521</td>\n",
              "      <td>23298.441392</td>\n",
              "      <td>23379.633946</td>\n",
              "      <td>58.942760</td>\n",
              "      <td>10.650395</td>\n",
              "      <td>33.594617</td>\n",
              "      <td>0.145127</td>\n",
              "      <td>3.861857</td>\n",
              "    </tr>\n",
              "    <tr>\n",
              "      <th>2025-02-12</th>\n",
              "      <td>23289.750000</td>\n",
              "      <td>23528.609375</td>\n",
              "      <td>23289.750000</td>\n",
              "      <td>23449.310547</td>\n",
              "      <td>3159400</td>\n",
              "      <td>-1</td>\n",
              "      <td>52.622945</td>\n",
              "      <td>-30.909378</td>\n",
              "      <td>23104.902058</td>\n",
              "      <td>23242.440608</td>\n",
              "      <td>23263.128689</td>\n",
              "      <td>23328.862740</td>\n",
              "      <td>23363.071242</td>\n",
              "      <td>55.557043</td>\n",
              "      <td>5.955519</td>\n",
              "      <td>28.410194</td>\n",
              "      <td>0.122607</td>\n",
              "      <td>1.149400</td>\n",
              "    </tr>\n",
              "  </tbody>\n",
              "</table>\n",
              "</div>"
            ],
            "text/plain": [
              "Price              Close          High           Low          Open   Volume  \\\n",
              "Ticker             ^TWII         ^TWII         ^TWII         ^TWII    ^TWII   \n",
              "Date                                                                          \n",
              "2025-02-06  23316.599609  23348.419922  23216.650391  23226.500000  2400700   \n",
              "2025-02-07  23478.269531  23478.269531  23254.169922  23289.970703  2672200   \n",
              "2025-02-10  23252.140625  23448.160156  23163.849609  23421.769531  2706000   \n",
              "2025-02-11  23384.050781  23485.509766  23289.759766  23321.919922  2956500   \n",
              "2025-02-12  23289.750000  23528.609375  23289.750000  23449.310547  3159400   \n",
              "\n",
              "Price      triple_barrier_signal        RSI Williams %R           SMA  \\\n",
              "Ticker                                                                  \n",
              "Date                                                                    \n",
              "2025-02-06                    -1  53.898353  -27.493170  23077.669112   \n",
              "2025-02-07                    -1  56.103083  -13.836994  23095.750572   \n",
              "2025-02-10                    -1  52.333201  -32.937988  23101.230564   \n",
              "2025-02-11                    -1  54.263868  -22.636515  23104.370093   \n",
              "2025-02-12                    -1  52.622945  -30.909378  23104.902058   \n",
              "\n",
              "Price                EMA           WMA           HMA          TEMA        CCI  \\\n",
              "Ticker                                                                          \n",
              "Date                                                                            \n",
              "2025-02-06  23102.035358  23129.263108  23143.949804  23171.962396  53.246592   \n",
              "2025-02-07  23177.282192  23197.533203  23203.947519  23335.700409  73.604971   \n",
              "2025-02-10  23192.253879  23210.507075  23252.342308  23326.213002  39.786289   \n",
              "2025-02-11  23230.613259  23247.550521  23298.441392  23379.633946  58.942760   \n",
              "2025-02-12  23242.440608  23263.128689  23328.862740  23363.071242  55.557043   \n",
              "\n",
              "Price             CMO       MACD       PPO       ROC  \n",
              "Ticker                                                \n",
              "Date                                                  \n",
              "2025-02-06  10.140697  11.038551  0.047926  1.324275  \n",
              "2025-02-07  15.939536  32.052133  0.138764  4.402014  \n",
              "2025-02-10   5.371694  28.917404  0.125094  1.994169  \n",
              "2025-02-11  10.650395  33.594617  0.145127  3.861857  \n",
              "2025-02-12   5.955519  28.410194  0.122607  1.149400  "
            ]
          },
          "execution_count": 21,
          "metadata": {},
          "output_type": "execute_result"
        },
        {
          "data": {
            "image/png": "[encoded data removed]",
            "text/plain": [
              "<Figure size 640x480 with 1 Axes>"
            ]
          },
          "metadata": {},
          "output_type": "display_data"
        }
      ],
      "source": [
        "df['ROC'] = TA.ROC(ohlcv)\n",
        "print(df['ROC'].describe())\n",
        "sns.distplot(df['ROC'].dropna())\n",
        "df.tail()"
      ]
    },
    {
      "cell_type": "markdown",
      "metadata": {
        "id": "b9LTKsyvmuSd"
      },
      "source": [
        "# CMFI"
      ]
    },
    {
      "cell_type": "code",
      "execution_count": 22,
      "metadata": {
        "colab": {
          "base_uri": "https://localhost:8080/",
          "height": 1000
        },
        "id": "somnlSTOmvjJ",
        "outputId": "363c1e51-6e47-4998-e82a-96fad1a76e63"
      },
      "outputs": [
        {
          "name": "stdout",
          "output_type": "stream",
          "text": [
            "count    2.444000e+03\n",
            "mean     4.430967e+09\n",
            "std      7.345526e+09\n",
            "min     -8.254754e+09\n",
            "25%     -2.667106e+08\n",
            "50%      1.643904e+09\n",
            "75%      7.114890e+09\n",
            "max      3.176329e+10\n",
            "Name: CFI, dtype: float64\n"
          ]
        },
        {
          "name": "stderr",
          "output_type": "stream",
          "text": [
            "C:\\Users\\TMP-214\\AppData\\Local\\Temp\\ipykernel_45112\\3380674280.py:3: UserWarning: \n",
            "\n",
            "`distplot` is a deprecated function and will be removed in seaborn v0.14.0.\n",
            "\n",
            "Please adapt your code to use either `displot` (a figure-level function with\n",
            "similar flexibility) or `histplot` (an axes-level function for histograms).\n",
            "\n",
            "For a guide to updating your code to use the new functions, please see\n",
            "https://gist.github.com/mwaskom/de44147ed2974457ad6372750bbe5751\n",
            "\n",
            "  sns.distplot(df['CFI'].dropna())\n"
          ]
        },
        {
          "data": {
            "text/html": [
              "<div>\n",
              "<style scoped>\n",
              "    .dataframe tbody tr th:only-of-type {\n",
              "        vertical-align: middle;\n",
              "    }\n",
              "\n",
              "    .dataframe tbody tr th {\n",
              "        vertical-align: top;\n",
              "    }\n",
              "\n",
              "    .dataframe thead tr th {\n",
              "        text-align: left;\n",
              "    }\n",
              "\n",
              "    .dataframe thead tr:last-of-type th {\n",
              "        text-align: right;\n",
              "    }\n",
              "</style>\n",
              "<table border=\"1\" class=\"dataframe\">\n",
              "  <thead>\n",
              "    <tr>\n",
              "      <th>Price</th>\n",
              "      <th>Close</th>\n",
              "      <th>High</th>\n",
              "      <th>Low</th>\n",
              "      <th>Open</th>\n",
              "      <th>Volume</th>\n",
              "      <th>triple_barrier_signal</th>\n",
              "      <th>RSI</th>\n",
              "      <th>Williams %R</th>\n",
              "      <th>SMA</th>\n",
              "      <th>EMA</th>\n",
              "      <th>WMA</th>\n",
              "      <th>HMA</th>\n",
              "      <th>TEMA</th>\n",
              "      <th>CCI</th>\n",
              "      <th>CMO</th>\n",
              "      <th>MACD</th>\n",
              "      <th>PPO</th>\n",
              "      <th>ROC</th>\n",
              "      <th>CFI</th>\n",
              "    </tr>\n",
              "    <tr>\n",
              "      <th>Ticker</th>\n",
              "      <th>^TWII</th>\n",
              "      <th>^TWII</th>\n",
              "      <th>^TWII</th>\n",
              "      <th>^TWII</th>\n",
              "      <th>^TWII</th>\n",
              "      <th></th>\n",
              "      <th></th>\n",
              "      <th></th>\n",
              "      <th></th>\n",
              "      <th></th>\n",
              "      <th></th>\n",
              "      <th></th>\n",
              "      <th></th>\n",
              "      <th></th>\n",
              "      <th></th>\n",
              "      <th></th>\n",
              "      <th></th>\n",
              "      <th></th>\n",
              "      <th></th>\n",
              "    </tr>\n",
              "    <tr>\n",
              "      <th>Date</th>\n",
              "      <th></th>\n",
              "      <th></th>\n",
              "      <th></th>\n",
              "      <th></th>\n",
              "      <th></th>\n",
              "      <th></th>\n",
              "      <th></th>\n",
              "      <th></th>\n",
              "      <th></th>\n",
              "      <th></th>\n",
              "      <th></th>\n",
              "      <th></th>\n",
              "      <th></th>\n",
              "      <th></th>\n",
              "      <th></th>\n",
              "      <th></th>\n",
              "      <th></th>\n",
              "      <th></th>\n",
              "      <th></th>\n",
              "    </tr>\n",
              "  </thead>\n",
              "  <tbody>\n",
              "    <tr>\n",
              "      <th>2025-02-06</th>\n",
              "      <td>23316.599609</td>\n",
              "      <td>23348.419922</td>\n",
              "      <td>23216.650391</td>\n",
              "      <td>23226.500000</td>\n",
              "      <td>2400700</td>\n",
              "      <td>-1</td>\n",
              "      <td>53.898353</td>\n",
              "      <td>-27.493170</td>\n",
              "      <td>23077.669112</td>\n",
              "      <td>23102.035358</td>\n",
              "      <td>23129.263108</td>\n",
              "      <td>23143.949804</td>\n",
              "      <td>23171.962396</td>\n",
              "      <td>53.246592</td>\n",
              "      <td>10.140697</td>\n",
              "      <td>11.038551</td>\n",
              "      <td>0.047926</td>\n",
              "      <td>1.324275</td>\n",
              "      <td>1.966742e+10</td>\n",
              "    </tr>\n",
              "    <tr>\n",
              "      <th>2025-02-07</th>\n",
              "      <td>23478.269531</td>\n",
              "      <td>23478.269531</td>\n",
              "      <td>23254.169922</td>\n",
              "      <td>23289.970703</td>\n",
              "      <td>2672200</td>\n",
              "      <td>-1</td>\n",
              "      <td>56.103083</td>\n",
              "      <td>-13.836994</td>\n",
              "      <td>23095.750572</td>\n",
              "      <td>23177.282192</td>\n",
              "      <td>23197.533203</td>\n",
              "      <td>23203.947519</td>\n",
              "      <td>23335.700409</td>\n",
              "      <td>73.604971</td>\n",
              "      <td>15.939536</td>\n",
              "      <td>32.052133</td>\n",
              "      <td>0.138764</td>\n",
              "      <td>4.402014</td>\n",
              "      <td>1.976945e+10</td>\n",
              "    </tr>\n",
              "    <tr>\n",
              "      <th>2025-02-10</th>\n",
              "      <td>23252.140625</td>\n",
              "      <td>23448.160156</td>\n",
              "      <td>23163.849609</td>\n",
              "      <td>23421.769531</td>\n",
              "      <td>2706000</td>\n",
              "      <td>-1</td>\n",
              "      <td>52.333201</td>\n",
              "      <td>-32.937988</td>\n",
              "      <td>23101.230564</td>\n",
              "      <td>23192.253879</td>\n",
              "      <td>23210.507075</td>\n",
              "      <td>23252.342308</td>\n",
              "      <td>23326.213002</td>\n",
              "      <td>39.786289</td>\n",
              "      <td>5.371694</td>\n",
              "      <td>28.917404</td>\n",
              "      <td>0.125094</td>\n",
              "      <td>1.994169</td>\n",
              "      <td>1.974167e+10</td>\n",
              "    </tr>\n",
              "    <tr>\n",
              "      <th>2025-02-11</th>\n",
              "      <td>23384.050781</td>\n",
              "      <td>23485.509766</td>\n",
              "      <td>23289.759766</td>\n",
              "      <td>23321.919922</td>\n",
              "      <td>2956500</td>\n",
              "      <td>-1</td>\n",
              "      <td>54.263868</td>\n",
              "      <td>-22.636515</td>\n",
              "      <td>23104.370093</td>\n",
              "      <td>23230.613259</td>\n",
              "      <td>23247.550521</td>\n",
              "      <td>23298.441392</td>\n",
              "      <td>23379.633946</td>\n",
              "      <td>58.942760</td>\n",
              "      <td>10.650395</td>\n",
              "      <td>33.594617</td>\n",
              "      <td>0.145127</td>\n",
              "      <td>3.861857</td>\n",
              "      <td>1.978985e+10</td>\n",
              "    </tr>\n",
              "    <tr>\n",
              "      <th>2025-02-12</th>\n",
              "      <td>23289.750000</td>\n",
              "      <td>23528.609375</td>\n",
              "      <td>23289.750000</td>\n",
              "      <td>23449.310547</td>\n",
              "      <td>3159400</td>\n",
              "      <td>-1</td>\n",
              "      <td>52.622945</td>\n",
              "      <td>-30.909378</td>\n",
              "      <td>23104.902058</td>\n",
              "      <td>23242.440608</td>\n",
              "      <td>23263.128689</td>\n",
              "      <td>23328.862740</td>\n",
              "      <td>23363.071242</td>\n",
              "      <td>55.557043</td>\n",
              "      <td>5.955519</td>\n",
              "      <td>28.410194</td>\n",
              "      <td>0.122607</td>\n",
              "      <td>1.149400</td>\n",
              "      <td>1.977510e+10</td>\n",
              "    </tr>\n",
              "  </tbody>\n",
              "</table>\n",
              "</div>"
            ],
            "text/plain": [
              "Price              Close          High           Low          Open   Volume  \\\n",
              "Ticker             ^TWII         ^TWII         ^TWII         ^TWII    ^TWII   \n",
              "Date                                                                          \n",
              "2025-02-06  23316.599609  23348.419922  23216.650391  23226.500000  2400700   \n",
              "2025-02-07  23478.269531  23478.269531  23254.169922  23289.970703  2672200   \n",
              "2025-02-10  23252.140625  23448.160156  23163.849609  23421.769531  2706000   \n",
              "2025-02-11  23384.050781  23485.509766  23289.759766  23321.919922  2956500   \n",
              "2025-02-12  23289.750000  23528.609375  23289.750000  23449.310547  3159400   \n",
              "\n",
              "Price      triple_barrier_signal        RSI Williams %R           SMA  \\\n",
              "Ticker                                                                  \n",
              "Date                                                                    \n",
              "2025-02-06                    -1  53.898353  -27.493170  23077.669112   \n",
              "2025-02-07                    -1  56.103083  -13.836994  23095.750572   \n",
              "2025-02-10                    -1  52.333201  -32.937988  23101.230564   \n",
              "2025-02-11                    -1  54.263868  -22.636515  23104.370093   \n",
              "2025-02-12                    -1  52.622945  -30.909378  23104.902058   \n",
              "\n",
              "Price                EMA           WMA           HMA          TEMA        CCI  \\\n",
              "Ticker                                                                          \n",
              "Date                                                                            \n",
              "2025-02-06  23102.035358  23129.263108  23143.949804  23171.962396  53.246592   \n",
              "2025-02-07  23177.282192  23197.533203  23203.947519  23335.700409  73.604971   \n",
              "2025-02-10  23192.253879  23210.507075  23252.342308  23326.213002  39.786289   \n",
              "2025-02-11  23230.613259  23247.550521  23298.441392  23379.633946  58.942760   \n",
              "2025-02-12  23242.440608  23263.128689  23328.862740  23363.071242  55.557043   \n",
              "\n",
              "Price             CMO       MACD       PPO       ROC           CFI  \n",
              "Ticker                                                              \n",
              "Date                                                                \n",
              "2025-02-06  10.140697  11.038551  0.047926  1.324275  1.966742e+10  \n",
              "2025-02-07  15.939536  32.052133  0.138764  4.402014  1.976945e+10  \n",
              "2025-02-10   5.371694  28.917404  0.125094  1.994169  1.974167e+10  \n",
              "2025-02-11  10.650395  33.594617  0.145127  3.861857  1.978985e+10  \n",
              "2025-02-12   5.955519  28.410194  0.122607  1.149400  1.977510e+10  "
            ]
          },
          "execution_count": 22,
          "metadata": {},
          "output_type": "execute_result"
        },
        {
          "data": {
            "image/png": "[encoded data removed]",
            "text/plain": [
              "<Figure size 640x480 with 1 Axes>"
            ]
          },
          "metadata": {},
          "output_type": "display_data"
        }
      ],
      "source": [
        "df['CFI'] = TA.CFI(ohlcv)\n",
        "print(df['CFI'].describe())\n",
        "sns.distplot(df['CFI'].dropna())\n",
        "df.tail()"
      ]
    },
    {
      "cell_type": "markdown",
      "metadata": {
        "id": "8WydSl0doUYk"
      },
      "source": [
        "# DMI"
      ]
    },
    {
      "cell_type": "code",
      "execution_count": 23,
      "metadata": {
        "colab": {
          "base_uri": "https://localhost:8080/",
          "height": 1000
        },
        "id": "xRTnC6DboU05",
        "outputId": "dd4bbdcb-66d0-4c3f-b67d-a9fd6a5d64ee"
      },
      "outputs": [
        {
          "name": "stdout",
          "output_type": "stream",
          "text": [
            "count    2440.000000\n",
            "mean        1.208756\n",
            "std        17.746910\n",
            "min       -73.465234\n",
            "25%       -10.172048\n",
            "50%         1.831596\n",
            "75%        13.002729\n",
            "max        76.234934\n",
            "Name: DMI, dtype: float64\n"
          ]
        },
        {
          "name": "stderr",
          "output_type": "stream",
          "text": [
            "C:\\Users\\TMP-214\\AppData\\Local\\Temp\\ipykernel_45112\\3167327712.py:3: UserWarning: \n",
            "\n",
            "`distplot` is a deprecated function and will be removed in seaborn v0.14.0.\n",
            "\n",
            "Please adapt your code to use either `displot` (a figure-level function with\n",
            "similar flexibility) or `histplot` (an axes-level function for histograms).\n",
            "\n",
            "For a guide to updating your code to use the new functions, please see\n",
            "https://gist.github.com/mwaskom/de44147ed2974457ad6372750bbe5751\n",
            "\n",
            "  sns.distplot(df['DMI'].dropna())\n"
          ]
        },
        {
          "data": {
            "text/html": [
              "<div>\n",
              "<style scoped>\n",
              "    .dataframe tbody tr th:only-of-type {\n",
              "        vertical-align: middle;\n",
              "    }\n",
              "\n",
              "    .dataframe tbody tr th {\n",
              "        vertical-align: top;\n",
              "    }\n",
              "\n",
              "    .dataframe thead tr th {\n",
              "        text-align: left;\n",
              "    }\n",
              "\n",
              "    .dataframe thead tr:last-of-type th {\n",
              "        text-align: right;\n",
              "    }\n",
              "</style>\n",
              "<table border=\"1\" class=\"dataframe\">\n",
              "  <thead>\n",
              "    <tr>\n",
              "      <th>Price</th>\n",
              "      <th>Close</th>\n",
              "      <th>High</th>\n",
              "      <th>Low</th>\n",
              "      <th>Open</th>\n",
              "      <th>Volume</th>\n",
              "      <th>triple_barrier_signal</th>\n",
              "      <th>RSI</th>\n",
              "      <th>Williams %R</th>\n",
              "      <th>SMA</th>\n",
              "      <th>EMA</th>\n",
              "      <th>WMA</th>\n",
              "      <th>HMA</th>\n",
              "      <th>TEMA</th>\n",
              "      <th>CCI</th>\n",
              "      <th>CMO</th>\n",
              "      <th>MACD</th>\n",
              "      <th>PPO</th>\n",
              "      <th>ROC</th>\n",
              "      <th>CFI</th>\n",
              "      <th>DMI</th>\n",
              "    </tr>\n",
              "    <tr>\n",
              "      <th>Ticker</th>\n",
              "      <th>^TWII</th>\n",
              "      <th>^TWII</th>\n",
              "      <th>^TWII</th>\n",
              "      <th>^TWII</th>\n",
              "      <th>^TWII</th>\n",
              "      <th></th>\n",
              "      <th></th>\n",
              "      <th></th>\n",
              "      <th></th>\n",
              "      <th></th>\n",
              "      <th></th>\n",
              "      <th></th>\n",
              "      <th></th>\n",
              "      <th></th>\n",
              "      <th></th>\n",
              "      <th></th>\n",
              "      <th></th>\n",
              "      <th></th>\n",
              "      <th></th>\n",
              "      <th></th>\n",
              "    </tr>\n",
              "    <tr>\n",
              "      <th>Date</th>\n",
              "      <th></th>\n",
              "      <th></th>\n",
              "      <th></th>\n",
              "      <th></th>\n",
              "      <th></th>\n",
              "      <th></th>\n",
              "      <th></th>\n",
              "      <th></th>\n",
              "      <th></th>\n",
              "      <th></th>\n",
              "      <th></th>\n",
              "      <th></th>\n",
              "      <th></th>\n",
              "      <th></th>\n",
              "      <th></th>\n",
              "      <th></th>\n",
              "      <th></th>\n",
              "      <th></th>\n",
              "      <th></th>\n",
              "      <th></th>\n",
              "    </tr>\n",
              "  </thead>\n",
              "  <tbody>\n",
              "    <tr>\n",
              "      <th>2025-02-06</th>\n",
              "      <td>23316.599609</td>\n",
              "      <td>23348.419922</td>\n",
              "      <td>23216.650391</td>\n",
              "      <td>23226.500000</td>\n",
              "      <td>2400700</td>\n",
              "      <td>-1</td>\n",
              "      <td>53.898353</td>\n",
              "      <td>-27.493170</td>\n",
              "      <td>23077.669112</td>\n",
              "      <td>23102.035358</td>\n",
              "      <td>23129.263108</td>\n",
              "      <td>23143.949804</td>\n",
              "      <td>23171.962396</td>\n",
              "      <td>53.246592</td>\n",
              "      <td>10.140697</td>\n",
              "      <td>11.038551</td>\n",
              "      <td>0.047926</td>\n",
              "      <td>1.324275</td>\n",
              "      <td>1.966742e+10</td>\n",
              "      <td>-1.353800</td>\n",
              "    </tr>\n",
              "    <tr>\n",
              "      <th>2025-02-07</th>\n",
              "      <td>23478.269531</td>\n",
              "      <td>23478.269531</td>\n",
              "      <td>23254.169922</td>\n",
              "      <td>23289.970703</td>\n",
              "      <td>2672200</td>\n",
              "      <td>-1</td>\n",
              "      <td>56.103083</td>\n",
              "      <td>-13.836994</td>\n",
              "      <td>23095.750572</td>\n",
              "      <td>23177.282192</td>\n",
              "      <td>23197.533203</td>\n",
              "      <td>23203.947519</td>\n",
              "      <td>23335.700409</td>\n",
              "      <td>73.604971</td>\n",
              "      <td>15.939536</td>\n",
              "      <td>32.052133</td>\n",
              "      <td>0.138764</td>\n",
              "      <td>4.402014</td>\n",
              "      <td>1.976945e+10</td>\n",
              "      <td>1.224460</td>\n",
              "    </tr>\n",
              "    <tr>\n",
              "      <th>2025-02-10</th>\n",
              "      <td>23252.140625</td>\n",
              "      <td>23448.160156</td>\n",
              "      <td>23163.849609</td>\n",
              "      <td>23421.769531</td>\n",
              "      <td>2706000</td>\n",
              "      <td>-1</td>\n",
              "      <td>52.333201</td>\n",
              "      <td>-32.937988</td>\n",
              "      <td>23101.230564</td>\n",
              "      <td>23192.253879</td>\n",
              "      <td>23210.507075</td>\n",
              "      <td>23252.342308</td>\n",
              "      <td>23326.213002</td>\n",
              "      <td>39.786289</td>\n",
              "      <td>5.371694</td>\n",
              "      <td>28.917404</td>\n",
              "      <td>0.125094</td>\n",
              "      <td>1.994169</td>\n",
              "      <td>1.974167e+10</td>\n",
              "      <td>-0.556163</td>\n",
              "    </tr>\n",
              "    <tr>\n",
              "      <th>2025-02-11</th>\n",
              "      <td>23384.050781</td>\n",
              "      <td>23485.509766</td>\n",
              "      <td>23289.759766</td>\n",
              "      <td>23321.919922</td>\n",
              "      <td>2956500</td>\n",
              "      <td>-1</td>\n",
              "      <td>54.263868</td>\n",
              "      <td>-22.636515</td>\n",
              "      <td>23104.370093</td>\n",
              "      <td>23230.613259</td>\n",
              "      <td>23247.550521</td>\n",
              "      <td>23298.441392</td>\n",
              "      <td>23379.633946</td>\n",
              "      <td>58.942760</td>\n",
              "      <td>10.650395</td>\n",
              "      <td>33.594617</td>\n",
              "      <td>0.145127</td>\n",
              "      <td>3.861857</td>\n",
              "      <td>1.978985e+10</td>\n",
              "      <td>0.237235</td>\n",
              "    </tr>\n",
              "    <tr>\n",
              "      <th>2025-02-12</th>\n",
              "      <td>23289.750000</td>\n",
              "      <td>23528.609375</td>\n",
              "      <td>23289.750000</td>\n",
              "      <td>23449.310547</td>\n",
              "      <td>3159400</td>\n",
              "      <td>-1</td>\n",
              "      <td>52.622945</td>\n",
              "      <td>-30.909378</td>\n",
              "      <td>23104.902058</td>\n",
              "      <td>23242.440608</td>\n",
              "      <td>23263.128689</td>\n",
              "      <td>23328.862740</td>\n",
              "      <td>23363.071242</td>\n",
              "      <td>55.557043</td>\n",
              "      <td>5.955519</td>\n",
              "      <td>28.410194</td>\n",
              "      <td>0.122607</td>\n",
              "      <td>1.149400</td>\n",
              "      <td>1.977510e+10</td>\n",
              "      <td>1.102509</td>\n",
              "    </tr>\n",
              "  </tbody>\n",
              "</table>\n",
              "</div>"
            ],
            "text/plain": [
              "Price              Close          High           Low          Open   Volume  \\\n",
              "Ticker             ^TWII         ^TWII         ^TWII         ^TWII    ^TWII   \n",
              "Date                                                                          \n",
              "2025-02-06  23316.599609  23348.419922  23216.650391  23226.500000  2400700   \n",
              "2025-02-07  23478.269531  23478.269531  23254.169922  23289.970703  2672200   \n",
              "2025-02-10  23252.140625  23448.160156  23163.849609  23421.769531  2706000   \n",
              "2025-02-11  23384.050781  23485.509766  23289.759766  23321.919922  2956500   \n",
              "2025-02-12  23289.750000  23528.609375  23289.750000  23449.310547  3159400   \n",
              "\n",
              "Price      triple_barrier_signal        RSI Williams %R           SMA  \\\n",
              "Ticker                                                                  \n",
              "Date                                                                    \n",
              "2025-02-06                    -1  53.898353  -27.493170  23077.669112   \n",
              "2025-02-07                    -1  56.103083  -13.836994  23095.750572   \n",
              "2025-02-10                    -1  52.333201  -32.937988  23101.230564   \n",
              "2025-02-11                    -1  54.263868  -22.636515  23104.370093   \n",
              "2025-02-12                    -1  52.622945  -30.909378  23104.902058   \n",
              "\n",
              "Price                EMA           WMA           HMA          TEMA        CCI  \\\n",
              "Ticker                                                                          \n",
              "Date                                                                            \n",
              "2025-02-06  23102.035358  23129.263108  23143.949804  23171.962396  53.246592   \n",
              "2025-02-07  23177.282192  23197.533203  23203.947519  23335.700409  73.604971   \n",
              "2025-02-10  23192.253879  23210.507075  23252.342308  23326.213002  39.786289   \n",
              "2025-02-11  23230.613259  23247.550521  23298.441392  23379.633946  58.942760   \n",
              "2025-02-12  23242.440608  23263.128689  23328.862740  23363.071242  55.557043   \n",
              "\n",
              "Price             CMO       MACD       PPO       ROC           CFI       DMI  \n",
              "Ticker                                                                        \n",
              "Date                                                                          \n",
              "2025-02-06  10.140697  11.038551  0.047926  1.324275  1.966742e+10 -1.353800  \n",
              "2025-02-07  15.939536  32.052133  0.138764  4.402014  1.976945e+10  1.224460  \n",
              "2025-02-10   5.371694  28.917404  0.125094  1.994169  1.974167e+10 -0.556163  \n",
              "2025-02-11  10.650395  33.594617  0.145127  3.861857  1.978985e+10  0.237235  \n",
              "2025-02-12   5.955519  28.410194  0.122607  1.149400  1.977510e+10  1.102509  "
            ]
          },
          "execution_count": 23,
          "metadata": {},
          "output_type": "execute_result"
        },
        {
          "data": {
            "image/png": "[encoded data removed]",
            "text/plain": [
              "<Figure size 640x480 with 1 Axes>"
            ]
          },
          "metadata": {},
          "output_type": "display_data"
        }
      ],
      "source": [
        "df['DMI'] = TA.DMI(ohlcv)['DI+'] - TA.DMI(ohlcv)['DI-']\n",
        "print(df['DMI'].describe())\n",
        "sns.distplot(df['DMI'].dropna())\n",
        "df.tail()"
      ]
    },
    {
      "cell_type": "markdown",
      "metadata": {
        "id": "96c_FgXOo98u"
      },
      "source": [
        "# SAR"
      ]
    },
    {
      "cell_type": "code",
      "execution_count": 24,
      "metadata": {
        "colab": {
          "base_uri": "https://localhost:8080/",
          "height": 1000
        },
        "id": "eRPVEtrmo-bi",
        "outputId": "a591c7c2-99b1-4cc3-918e-ec55470c4d5c"
      },
      "outputs": [
        {
          "name": "stderr",
          "output_type": "stream",
          "text": [
            "c:\\Users\\TMP-214\\AppData\\Local\\Programs\\Python\\Python312\\Lib\\site-packages\\finta\\finta.py:828: FutureWarning: Series.__getitem__ treating keys as positions is deprecated. In a future version, integer keys will always be treated as labels (consistent with DataFrame behavior). To access a value by position, use `ser.iloc[pos]`\n",
            "  sig0, xpt0, af0 = True, high[0], af\n",
            "c:\\Users\\TMP-214\\AppData\\Local\\Programs\\Python\\Python312\\Lib\\site-packages\\finta\\finta.py:829: FutureWarning: Series.__getitem__ treating keys as positions is deprecated. In a future version, integer keys will always be treated as labels (consistent with DataFrame behavior). To access a value by position, use `ser.iloc[pos]`\n",
            "  _sar = [low[0] - (high - low).std()]\n",
            "c:\\Users\\TMP-214\\AppData\\Local\\Programs\\Python\\Python312\\Lib\\site-packages\\finta\\finta.py:834: FutureWarning: Series.__getitem__ treating keys as positions is deprecated. In a future version, integer keys will always be treated as labels (consistent with DataFrame behavior). To access a value by position, use `ser.iloc[pos]`\n",
            "  lmin = min(low[i - 1], low[i])\n",
            "c:\\Users\\TMP-214\\AppData\\Local\\Programs\\Python\\Python312\\Lib\\site-packages\\finta\\finta.py:835: FutureWarning: Series.__getitem__ treating keys as positions is deprecated. In a future version, integer keys will always be treated as labels (consistent with DataFrame behavior). To access a value by position, use `ser.iloc[pos]`\n",
            "  lmax = max(high[i - 1], high[i])\n",
            "c:\\Users\\TMP-214\\AppData\\Local\\Programs\\Python\\Python312\\Lib\\site-packages\\finta\\finta.py:838: FutureWarning: Series.__getitem__ treating keys as positions is deprecated. In a future version, integer keys will always be treated as labels (consistent with DataFrame behavior). To access a value by position, use `ser.iloc[pos]`\n",
            "  sig0 = low[i] > _sar[-1]\n",
            "c:\\Users\\TMP-214\\AppData\\Local\\Programs\\Python\\Python312\\Lib\\site-packages\\finta\\finta.py:841: FutureWarning: Series.__getitem__ treating keys as positions is deprecated. In a future version, integer keys will always be treated as labels (consistent with DataFrame behavior). To access a value by position, use `ser.iloc[pos]`\n",
            "  sig0 = high[i] >= _sar[-1]\n"
          ]
        },
        {
          "name": "stdout",
          "output_type": "stream",
          "text": [
            "count     2453.000000\n",
            "mean     13194.681076\n",
            "std       4152.796492\n",
            "min       7203.036601\n",
            "25%       9872.428581\n",
            "50%      11232.270089\n",
            "75%      16559.570312\n",
            "max      24416.669922\n",
            "Name: SAR, dtype: float64\n"
          ]
        },
        {
          "name": "stderr",
          "output_type": "stream",
          "text": [
            "C:\\Users\\TMP-214\\AppData\\Local\\Temp\\ipykernel_45112\\1481618610.py:3: UserWarning: \n",
            "\n",
            "`distplot` is a deprecated function and will be removed in seaborn v0.14.0.\n",
            "\n",
            "Please adapt your code to use either `displot` (a figure-level function with\n",
            "similar flexibility) or `histplot` (an axes-level function for histograms).\n",
            "\n",
            "For a guide to updating your code to use the new functions, please see\n",
            "https://gist.github.com/mwaskom/de44147ed2974457ad6372750bbe5751\n",
            "\n",
            "  sns.distplot(df['SAR'].dropna())\n"
          ]
        },
        {
          "data": {
            "text/html": [
              "<div>\n",
              "<style scoped>\n",
              "    .dataframe tbody tr th:only-of-type {\n",
              "        vertical-align: middle;\n",
              "    }\n",
              "\n",
              "    .dataframe tbody tr th {\n",
              "        vertical-align: top;\n",
              "    }\n",
              "\n",
              "    .dataframe thead tr th {\n",
              "        text-align: left;\n",
              "    }\n",
              "\n",
              "    .dataframe thead tr:last-of-type th {\n",
              "        text-align: right;\n",
              "    }\n",
              "</style>\n",
              "<table border=\"1\" class=\"dataframe\">\n",
              "  <thead>\n",
              "    <tr>\n",
              "      <th>Price</th>\n",
              "      <th>Close</th>\n",
              "      <th>High</th>\n",
              "      <th>Low</th>\n",
              "      <th>Open</th>\n",
              "      <th>Volume</th>\n",
              "      <th>triple_barrier_signal</th>\n",
              "      <th>RSI</th>\n",
              "      <th>Williams %R</th>\n",
              "      <th>SMA</th>\n",
              "      <th>EMA</th>\n",
              "      <th>...</th>\n",
              "      <th>HMA</th>\n",
              "      <th>TEMA</th>\n",
              "      <th>CCI</th>\n",
              "      <th>CMO</th>\n",
              "      <th>MACD</th>\n",
              "      <th>PPO</th>\n",
              "      <th>ROC</th>\n",
              "      <th>CFI</th>\n",
              "      <th>DMI</th>\n",
              "      <th>SAR</th>\n",
              "    </tr>\n",
              "    <tr>\n",
              "      <th>Ticker</th>\n",
              "      <th>^TWII</th>\n",
              "      <th>^TWII</th>\n",
              "      <th>^TWII</th>\n",
              "      <th>^TWII</th>\n",
              "      <th>^TWII</th>\n",
              "      <th></th>\n",
              "      <th></th>\n",
              "      <th></th>\n",
              "      <th></th>\n",
              "      <th></th>\n",
              "      <th>...</th>\n",
              "      <th></th>\n",
              "      <th></th>\n",
              "      <th></th>\n",
              "      <th></th>\n",
              "      <th></th>\n",
              "      <th></th>\n",
              "      <th></th>\n",
              "      <th></th>\n",
              "      <th></th>\n",
              "      <th></th>\n",
              "    </tr>\n",
              "    <tr>\n",
              "      <th>Date</th>\n",
              "      <th></th>\n",
              "      <th></th>\n",
              "      <th></th>\n",
              "      <th></th>\n",
              "      <th></th>\n",
              "      <th></th>\n",
              "      <th></th>\n",
              "      <th></th>\n",
              "      <th></th>\n",
              "      <th></th>\n",
              "      <th></th>\n",
              "      <th></th>\n",
              "      <th></th>\n",
              "      <th></th>\n",
              "      <th></th>\n",
              "      <th></th>\n",
              "      <th></th>\n",
              "      <th></th>\n",
              "      <th></th>\n",
              "      <th></th>\n",
              "      <th></th>\n",
              "    </tr>\n",
              "  </thead>\n",
              "  <tbody>\n",
              "    <tr>\n",
              "      <th>2025-02-06</th>\n",
              "      <td>23316.599609</td>\n",
              "      <td>23348.419922</td>\n",
              "      <td>23216.650391</td>\n",
              "      <td>23226.500000</td>\n",
              "      <td>2400700</td>\n",
              "      <td>-1</td>\n",
              "      <td>53.898353</td>\n",
              "      <td>-27.493170</td>\n",
              "      <td>23077.669112</td>\n",
              "      <td>23102.035358</td>\n",
              "      <td>...</td>\n",
              "      <td>23143.949804</td>\n",
              "      <td>23171.962396</td>\n",
              "      <td>53.246592</td>\n",
              "      <td>10.140697</td>\n",
              "      <td>11.038551</td>\n",
              "      <td>0.047926</td>\n",
              "      <td>1.324275</td>\n",
              "      <td>1.966742e+10</td>\n",
              "      <td>-1.353800</td>\n",
              "      <td>23505.623711</td>\n",
              "    </tr>\n",
              "    <tr>\n",
              "      <th>2025-02-07</th>\n",
              "      <td>23478.269531</td>\n",
              "      <td>23478.269531</td>\n",
              "      <td>23254.169922</td>\n",
              "      <td>23289.970703</td>\n",
              "      <td>2672200</td>\n",
              "      <td>-1</td>\n",
              "      <td>56.103083</td>\n",
              "      <td>-13.836994</td>\n",
              "      <td>23095.750572</td>\n",
              "      <td>23177.282192</td>\n",
              "      <td>...</td>\n",
              "      <td>23203.947519</td>\n",
              "      <td>23335.700409</td>\n",
              "      <td>73.604971</td>\n",
              "      <td>15.939536</td>\n",
              "      <td>32.052133</td>\n",
              "      <td>0.138764</td>\n",
              "      <td>4.402014</td>\n",
              "      <td>1.976945e+10</td>\n",
              "      <td>1.224460</td>\n",
              "      <td>23478.269531</td>\n",
              "    </tr>\n",
              "    <tr>\n",
              "      <th>2025-02-10</th>\n",
              "      <td>23252.140625</td>\n",
              "      <td>23448.160156</td>\n",
              "      <td>23163.849609</td>\n",
              "      <td>23421.769531</td>\n",
              "      <td>2706000</td>\n",
              "      <td>-1</td>\n",
              "      <td>52.333201</td>\n",
              "      <td>-32.937988</td>\n",
              "      <td>23101.230564</td>\n",
              "      <td>23192.253879</td>\n",
              "      <td>...</td>\n",
              "      <td>23252.342308</td>\n",
              "      <td>23326.213002</td>\n",
              "      <td>39.786289</td>\n",
              "      <td>5.371694</td>\n",
              "      <td>28.917404</td>\n",
              "      <td>0.125094</td>\n",
              "      <td>1.994169</td>\n",
              "      <td>1.974167e+10</td>\n",
              "      <td>-0.556163</td>\n",
              "      <td>23478.269531</td>\n",
              "    </tr>\n",
              "    <tr>\n",
              "      <th>2025-02-11</th>\n",
              "      <td>23384.050781</td>\n",
              "      <td>23485.509766</td>\n",
              "      <td>23289.759766</td>\n",
              "      <td>23321.919922</td>\n",
              "      <td>2956500</td>\n",
              "      <td>-1</td>\n",
              "      <td>54.263868</td>\n",
              "      <td>-22.636515</td>\n",
              "      <td>23104.370093</td>\n",
              "      <td>23230.613259</td>\n",
              "      <td>...</td>\n",
              "      <td>23298.441392</td>\n",
              "      <td>23379.633946</td>\n",
              "      <td>58.942760</td>\n",
              "      <td>10.650395</td>\n",
              "      <td>33.594617</td>\n",
              "      <td>0.145127</td>\n",
              "      <td>3.861857</td>\n",
              "      <td>1.978985e+10</td>\n",
              "      <td>0.237235</td>\n",
              "      <td>22458.220703</td>\n",
              "    </tr>\n",
              "    <tr>\n",
              "      <th>2025-02-12</th>\n",
              "      <td>23289.750000</td>\n",
              "      <td>23528.609375</td>\n",
              "      <td>23289.750000</td>\n",
              "      <td>23449.310547</td>\n",
              "      <td>3159400</td>\n",
              "      <td>-1</td>\n",
              "      <td>52.622945</td>\n",
              "      <td>-30.909378</td>\n",
              "      <td>23104.902058</td>\n",
              "      <td>23242.440608</td>\n",
              "      <td>...</td>\n",
              "      <td>23328.862740</td>\n",
              "      <td>23363.071242</td>\n",
              "      <td>55.557043</td>\n",
              "      <td>5.955519</td>\n",
              "      <td>28.410194</td>\n",
              "      <td>0.122607</td>\n",
              "      <td>1.149400</td>\n",
              "      <td>1.977510e+10</td>\n",
              "      <td>1.102509</td>\n",
              "      <td>22458.220703</td>\n",
              "    </tr>\n",
              "  </tbody>\n",
              "</table>\n",
              "<p>5 rows × 21 columns</p>\n",
              "</div>"
            ],
            "text/plain": [
              "Price              Close          High           Low          Open   Volume  \\\n",
              "Ticker             ^TWII         ^TWII         ^TWII         ^TWII    ^TWII   \n",
              "Date                                                                          \n",
              "2025-02-06  23316.599609  23348.419922  23216.650391  23226.500000  2400700   \n",
              "2025-02-07  23478.269531  23478.269531  23254.169922  23289.970703  2672200   \n",
              "2025-02-10  23252.140625  23448.160156  23163.849609  23421.769531  2706000   \n",
              "2025-02-11  23384.050781  23485.509766  23289.759766  23321.919922  2956500   \n",
              "2025-02-12  23289.750000  23528.609375  23289.750000  23449.310547  3159400   \n",
              "\n",
              "Price      triple_barrier_signal        RSI Williams %R           SMA  \\\n",
              "Ticker                                                                  \n",
              "Date                                                                    \n",
              "2025-02-06                    -1  53.898353  -27.493170  23077.669112   \n",
              "2025-02-07                    -1  56.103083  -13.836994  23095.750572   \n",
              "2025-02-10                    -1  52.333201  -32.937988  23101.230564   \n",
              "2025-02-11                    -1  54.263868  -22.636515  23104.370093   \n",
              "2025-02-12                    -1  52.622945  -30.909378  23104.902058   \n",
              "\n",
              "Price                EMA  ...           HMA          TEMA        CCI  \\\n",
              "Ticker                    ...                                          \n",
              "Date                      ...                                          \n",
              "2025-02-06  23102.035358  ...  23143.949804  23171.962396  53.246592   \n",
              "2025-02-07  23177.282192  ...  23203.947519  23335.700409  73.604971   \n",
              "2025-02-10  23192.253879  ...  23252.342308  23326.213002  39.786289   \n",
              "2025-02-11  23230.613259  ...  23298.441392  23379.633946  58.942760   \n",
              "2025-02-12  23242.440608  ...  23328.862740  23363.071242  55.557043   \n",
              "\n",
              "Price             CMO       MACD       PPO       ROC           CFI       DMI  \\\n",
              "Ticker                                                                         \n",
              "Date                                                                           \n",
              "2025-02-06  10.140697  11.038551  0.047926  1.324275  1.966742e+10 -1.353800   \n",
              "2025-02-07  15.939536  32.052133  0.138764  4.402014  1.976945e+10  1.224460   \n",
              "2025-02-10   5.371694  28.917404  0.125094  1.994169  1.974167e+10 -0.556163   \n",
              "2025-02-11  10.650395  33.594617  0.145127  3.861857  1.978985e+10  0.237235   \n",
              "2025-02-12   5.955519  28.410194  0.122607  1.149400  1.977510e+10  1.102509   \n",
              "\n",
              "Price                SAR  \n",
              "Ticker                    \n",
              "Date                      \n",
              "2025-02-06  23505.623711  \n",
              "2025-02-07  23478.269531  \n",
              "2025-02-10  23478.269531  \n",
              "2025-02-11  22458.220703  \n",
              "2025-02-12  22458.220703  \n",
              "\n",
              "[5 rows x 21 columns]"
            ]
          },
          "execution_count": 24,
          "metadata": {},
          "output_type": "execute_result"
        },
        {
          "data": {
            "image/png": "[encoded data removed]",
            "text/plain": [
              "<Figure size 640x480 with 1 Axes>"
            ]
          },
          "metadata": {},
          "output_type": "display_data"
        }
      ],
      "source": [
        "df['SAR'] = TA.SAR(ohlcv)\n",
        "print(df['SAR'].describe())\n",
        "sns.distplot(df['SAR'].dropna())\n",
        "df.tail()"
      ]
    },
    {
      "cell_type": "markdown",
      "metadata": {
        "id": "MoqrDEejwYOV"
      },
      "source": [
        "# 定義features(X) label(y)"
      ]
    },
    {
      "cell_type": "markdown",
      "metadata": {
        "id": "lPHnhQCPdxLl"
      },
      "source": [
        "# MACD RSI講一下"
      ]
    },
    {
      "cell_type": "code",
      "execution_count": 25,
      "metadata": {
        "colab": {
          "base_uri": "https://localhost:8080/",
          "height": 441
        },
        "id": "qrGg0ojRKuE1",
        "outputId": "28663d87-a0d9-4e07-a3c3-5914043f8acf"
      },
      "outputs": [
        {
          "name": "stdout",
          "output_type": "stream",
          "text": [
            "(2453, 21)\n",
            "(2413, 16)\n"
          ]
        },
        {
          "data": {
            "text/html": [
              "<div>\n",
              "<style scoped>\n",
              "    .dataframe tbody tr th:only-of-type {\n",
              "        vertical-align: middle;\n",
              "    }\n",
              "\n",
              "    .dataframe tbody tr th {\n",
              "        vertical-align: top;\n",
              "    }\n",
              "\n",
              "    .dataframe thead tr th {\n",
              "        text-align: left;\n",
              "    }\n",
              "\n",
              "    .dataframe thead tr:last-of-type th {\n",
              "        text-align: right;\n",
              "    }\n",
              "</style>\n",
              "<table border=\"1\" class=\"dataframe\">\n",
              "  <thead>\n",
              "    <tr>\n",
              "      <th>Price</th>\n",
              "      <th>RSI</th>\n",
              "      <th>Williams %R</th>\n",
              "      <th>SMA</th>\n",
              "      <th>EMA</th>\n",
              "      <th>WMA</th>\n",
              "      <th>HMA</th>\n",
              "      <th>TEMA</th>\n",
              "      <th>CCI</th>\n",
              "      <th>CMO</th>\n",
              "      <th>MACD</th>\n",
              "      <th>PPO</th>\n",
              "      <th>ROC</th>\n",
              "      <th>CFI</th>\n",
              "      <th>DMI</th>\n",
              "      <th>SAR</th>\n",
              "      <th>triple_barrier_signal</th>\n",
              "    </tr>\n",
              "    <tr>\n",
              "      <th>Ticker</th>\n",
              "      <th></th>\n",
              "      <th></th>\n",
              "      <th></th>\n",
              "      <th></th>\n",
              "      <th></th>\n",
              "      <th></th>\n",
              "      <th></th>\n",
              "      <th></th>\n",
              "      <th></th>\n",
              "      <th></th>\n",
              "      <th></th>\n",
              "      <th></th>\n",
              "      <th></th>\n",
              "      <th></th>\n",
              "      <th></th>\n",
              "      <th></th>\n",
              "    </tr>\n",
              "    <tr>\n",
              "      <th>Date</th>\n",
              "      <th></th>\n",
              "      <th></th>\n",
              "      <th></th>\n",
              "      <th></th>\n",
              "      <th></th>\n",
              "      <th></th>\n",
              "      <th></th>\n",
              "      <th></th>\n",
              "      <th></th>\n",
              "      <th></th>\n",
              "      <th></th>\n",
              "      <th></th>\n",
              "      <th></th>\n",
              "      <th></th>\n",
              "      <th></th>\n",
              "      <th></th>\n",
              "    </tr>\n",
              "  </thead>\n",
              "  <tbody>\n",
              "    <tr>\n",
              "      <th>2025-02-06</th>\n",
              "      <td>53.898353</td>\n",
              "      <td>-27.493170</td>\n",
              "      <td>23077.669112</td>\n",
              "      <td>23102.035358</td>\n",
              "      <td>23129.263108</td>\n",
              "      <td>23143.949804</td>\n",
              "      <td>23171.962396</td>\n",
              "      <td>53.246592</td>\n",
              "      <td>10.140697</td>\n",
              "      <td>11.038551</td>\n",
              "      <td>0.047926</td>\n",
              "      <td>1.324275</td>\n",
              "      <td>1.966742e+10</td>\n",
              "      <td>-1.353800</td>\n",
              "      <td>23505.623711</td>\n",
              "      <td>-1</td>\n",
              "    </tr>\n",
              "    <tr>\n",
              "      <th>2025-02-07</th>\n",
              "      <td>56.103083</td>\n",
              "      <td>-13.836994</td>\n",
              "      <td>23095.750572</td>\n",
              "      <td>23177.282192</td>\n",
              "      <td>23197.533203</td>\n",
              "      <td>23203.947519</td>\n",
              "      <td>23335.700409</td>\n",
              "      <td>73.604971</td>\n",
              "      <td>15.939536</td>\n",
              "      <td>32.052133</td>\n",
              "      <td>0.138764</td>\n",
              "      <td>4.402014</td>\n",
              "      <td>1.976945e+10</td>\n",
              "      <td>1.224460</td>\n",
              "      <td>23478.269531</td>\n",
              "      <td>-1</td>\n",
              "    </tr>\n",
              "    <tr>\n",
              "      <th>2025-02-10</th>\n",
              "      <td>52.333201</td>\n",
              "      <td>-32.937988</td>\n",
              "      <td>23101.230564</td>\n",
              "      <td>23192.253879</td>\n",
              "      <td>23210.507075</td>\n",
              "      <td>23252.342308</td>\n",
              "      <td>23326.213002</td>\n",
              "      <td>39.786289</td>\n",
              "      <td>5.371694</td>\n",
              "      <td>28.917404</td>\n",
              "      <td>0.125094</td>\n",
              "      <td>1.994169</td>\n",
              "      <td>1.974167e+10</td>\n",
              "      <td>-0.556163</td>\n",
              "      <td>23478.269531</td>\n",
              "      <td>-1</td>\n",
              "    </tr>\n",
              "    <tr>\n",
              "      <th>2025-02-11</th>\n",
              "      <td>54.263868</td>\n",
              "      <td>-22.636515</td>\n",
              "      <td>23104.370093</td>\n",
              "      <td>23230.613259</td>\n",
              "      <td>23247.550521</td>\n",
              "      <td>23298.441392</td>\n",
              "      <td>23379.633946</td>\n",
              "      <td>58.942760</td>\n",
              "      <td>10.650395</td>\n",
              "      <td>33.594617</td>\n",
              "      <td>0.145127</td>\n",
              "      <td>3.861857</td>\n",
              "      <td>1.978985e+10</td>\n",
              "      <td>0.237235</td>\n",
              "      <td>22458.220703</td>\n",
              "      <td>-1</td>\n",
              "    </tr>\n",
              "    <tr>\n",
              "      <th>2025-02-12</th>\n",
              "      <td>52.622945</td>\n",
              "      <td>-30.909378</td>\n",
              "      <td>23104.902058</td>\n",
              "      <td>23242.440608</td>\n",
              "      <td>23263.128689</td>\n",
              "      <td>23328.862740</td>\n",
              "      <td>23363.071242</td>\n",
              "      <td>55.557043</td>\n",
              "      <td>5.955519</td>\n",
              "      <td>28.410194</td>\n",
              "      <td>0.122607</td>\n",
              "      <td>1.149400</td>\n",
              "      <td>1.977510e+10</td>\n",
              "      <td>1.102509</td>\n",
              "      <td>22458.220703</td>\n",
              "      <td>-1</td>\n",
              "    </tr>\n",
              "  </tbody>\n",
              "</table>\n",
              "</div>"
            ],
            "text/plain": [
              "Price             RSI Williams %R           SMA           EMA           WMA  \\\n",
              "Ticker                                                                        \n",
              "Date                                                                          \n",
              "2025-02-06  53.898353  -27.493170  23077.669112  23102.035358  23129.263108   \n",
              "2025-02-07  56.103083  -13.836994  23095.750572  23177.282192  23197.533203   \n",
              "2025-02-10  52.333201  -32.937988  23101.230564  23192.253879  23210.507075   \n",
              "2025-02-11  54.263868  -22.636515  23104.370093  23230.613259  23247.550521   \n",
              "2025-02-12  52.622945  -30.909378  23104.902058  23242.440608  23263.128689   \n",
              "\n",
              "Price                HMA          TEMA        CCI        CMO       MACD  \\\n",
              "Ticker                                                                    \n",
              "Date                                                                      \n",
              "2025-02-06  23143.949804  23171.962396  53.246592  10.140697  11.038551   \n",
              "2025-02-07  23203.947519  23335.700409  73.604971  15.939536  32.052133   \n",
              "2025-02-10  23252.342308  23326.213002  39.786289   5.371694  28.917404   \n",
              "2025-02-11  23298.441392  23379.633946  58.942760  10.650395  33.594617   \n",
              "2025-02-12  23328.862740  23363.071242  55.557043   5.955519  28.410194   \n",
              "\n",
              "Price            PPO       ROC           CFI       DMI           SAR  \\\n",
              "Ticker                                                                 \n",
              "Date                                                                   \n",
              "2025-02-06  0.047926  1.324275  1.966742e+10 -1.353800  23505.623711   \n",
              "2025-02-07  0.138764  4.402014  1.976945e+10  1.224460  23478.269531   \n",
              "2025-02-10  0.125094  1.994169  1.974167e+10 -0.556163  23478.269531   \n",
              "2025-02-11  0.145127  3.861857  1.978985e+10  0.237235  22458.220703   \n",
              "2025-02-12  0.122607  1.149400  1.977510e+10  1.102509  22458.220703   \n",
              "\n",
              "Price      triple_barrier_signal  \n",
              "Ticker                            \n",
              "Date                              \n",
              "2025-02-06                    -1  \n",
              "2025-02-07                    -1  \n",
              "2025-02-10                    -1  \n",
              "2025-02-11                    -1  \n",
              "2025-02-12                    -1  "
            ]
          },
          "execution_count": 25,
          "metadata": {},
          "output_type": "execute_result"
        }
      ],
      "source": [
        "print(df.shape)\n",
        "df = df.dropna(axis=0)#刪除有缺失的row,會缺失主要因為用時間rolling計算技術指標導致,正常的\n",
        "features = ['RSI','Williams %R','SMA','EMA','WMA','HMA','TEMA','CCI','CMO','MACD','PPO','ROC','CFI','DMI','SAR']\n",
        "y_name = 'triple_barrier_signal' #當作labels\n",
        "df = df[features+[y_name]]\n",
        "print(df.shape)\n",
        "df.tail()"
      ]
    },
    {
      "cell_type": "markdown",
      "metadata": {
        "id": "c68TXVQaqGl3"
      },
      "source": [
        "# features scaling(特徵縮放)"
      ]
    },
    {
      "cell_type": "code",
      "execution_count": 26,
      "metadata": {
        "colab": {
          "base_uri": "https://localhost:8080/",
          "height": 405
        },
        "id": "JpZPZWfJqGuo",
        "outputId": "ed10191c-dac2-432f-98b1-6b382a8e9615"
      },
      "outputs": [
        {
          "data": {
            "text/html": [
              "<div>\n",
              "<style scoped>\n",
              "    .dataframe tbody tr th:only-of-type {\n",
              "        vertical-align: middle;\n",
              "    }\n",
              "\n",
              "    .dataframe tbody tr th {\n",
              "        vertical-align: top;\n",
              "    }\n",
              "\n",
              "    .dataframe thead tr th {\n",
              "        text-align: left;\n",
              "    }\n",
              "\n",
              "    .dataframe thead tr:last-of-type th {\n",
              "        text-align: right;\n",
              "    }\n",
              "</style>\n",
              "<table border=\"1\" class=\"dataframe\">\n",
              "  <thead>\n",
              "    <tr>\n",
              "      <th>Price</th>\n",
              "      <th>RSI</th>\n",
              "      <th>Williams %R</th>\n",
              "      <th>SMA</th>\n",
              "      <th>EMA</th>\n",
              "      <th>WMA</th>\n",
              "      <th>HMA</th>\n",
              "      <th>TEMA</th>\n",
              "      <th>CCI</th>\n",
              "      <th>CMO</th>\n",
              "      <th>MACD</th>\n",
              "      <th>PPO</th>\n",
              "      <th>ROC</th>\n",
              "      <th>CFI</th>\n",
              "      <th>DMI</th>\n",
              "      <th>SAR</th>\n",
              "      <th>triple_barrier_signal</th>\n",
              "    </tr>\n",
              "    <tr>\n",
              "      <th>Ticker</th>\n",
              "      <th></th>\n",
              "      <th></th>\n",
              "      <th></th>\n",
              "      <th></th>\n",
              "      <th></th>\n",
              "      <th></th>\n",
              "      <th></th>\n",
              "      <th></th>\n",
              "      <th></th>\n",
              "      <th></th>\n",
              "      <th></th>\n",
              "      <th></th>\n",
              "      <th></th>\n",
              "      <th></th>\n",
              "      <th></th>\n",
              "      <th></th>\n",
              "    </tr>\n",
              "    <tr>\n",
              "      <th>Date</th>\n",
              "      <th></th>\n",
              "      <th></th>\n",
              "      <th></th>\n",
              "      <th></th>\n",
              "      <th></th>\n",
              "      <th></th>\n",
              "      <th></th>\n",
              "      <th></th>\n",
              "      <th></th>\n",
              "      <th></th>\n",
              "      <th></th>\n",
              "      <th></th>\n",
              "      <th></th>\n",
              "      <th></th>\n",
              "      <th></th>\n",
              "      <th></th>\n",
              "    </tr>\n",
              "  </thead>\n",
              "  <tbody>\n",
              "    <tr>\n",
              "      <th>2025-02-06</th>\n",
              "      <td>0.591668</td>\n",
              "      <td>0.725068</td>\n",
              "      <td>0.998192</td>\n",
              "      <td>0.955054</td>\n",
              "      <td>0.948125</td>\n",
              "      <td>0.933550</td>\n",
              "      <td>0.935070</td>\n",
              "      <td>0.573308</td>\n",
              "      <td>0.593232</td>\n",
              "      <td>0.637289</td>\n",
              "      <td>0.608752</td>\n",
              "      <td>0.615079</td>\n",
              "      <td>0.697740</td>\n",
              "      <td>0.598948</td>\n",
              "      <td>0.947074</td>\n",
              "      <td>-1</td>\n",
              "    </tr>\n",
              "    <tr>\n",
              "      <th>2025-02-07</th>\n",
              "      <td>0.621349</td>\n",
              "      <td>0.861630</td>\n",
              "      <td>0.999392</td>\n",
              "      <td>0.959746</td>\n",
              "      <td>0.952334</td>\n",
              "      <td>0.937151</td>\n",
              "      <td>0.944889</td>\n",
              "      <td>0.602836</td>\n",
              "      <td>0.628841</td>\n",
              "      <td>0.674695</td>\n",
              "      <td>0.631757</td>\n",
              "      <td>0.691764</td>\n",
              "      <td>0.700289</td>\n",
              "      <td>0.620362</td>\n",
              "      <td>0.945485</td>\n",
              "      <td>-1</td>\n",
              "    </tr>\n",
              "    <tr>\n",
              "      <th>2025-02-10</th>\n",
              "      <td>0.570598</td>\n",
              "      <td>0.670620</td>\n",
              "      <td>0.999756</td>\n",
              "      <td>0.960680</td>\n",
              "      <td>0.953134</td>\n",
              "      <td>0.940055</td>\n",
              "      <td>0.944320</td>\n",
              "      <td>0.553786</td>\n",
              "      <td>0.563946</td>\n",
              "      <td>0.669115</td>\n",
              "      <td>0.628295</td>\n",
              "      <td>0.631770</td>\n",
              "      <td>0.699595</td>\n",
              "      <td>0.605573</td>\n",
              "      <td>0.945485</td>\n",
              "      <td>-1</td>\n",
              "    </tr>\n",
              "    <tr>\n",
              "      <th>2025-02-11</th>\n",
              "      <td>0.596589</td>\n",
              "      <td>0.773635</td>\n",
              "      <td>0.999965</td>\n",
              "      <td>0.963072</td>\n",
              "      <td>0.955419</td>\n",
              "      <td>0.942821</td>\n",
              "      <td>0.947524</td>\n",
              "      <td>0.581570</td>\n",
              "      <td>0.596361</td>\n",
              "      <td>0.677440</td>\n",
              "      <td>0.633368</td>\n",
              "      <td>0.678305</td>\n",
              "      <td>0.700799</td>\n",
              "      <td>0.612163</td>\n",
              "      <td>0.886227</td>\n",
              "      <td>-1</td>\n",
              "    </tr>\n",
              "    <tr>\n",
              "      <th>2025-02-12</th>\n",
              "      <td>0.574499</td>\n",
              "      <td>0.690906</td>\n",
              "      <td>1.000000</td>\n",
              "      <td>0.963809</td>\n",
              "      <td>0.956379</td>\n",
              "      <td>0.944646</td>\n",
              "      <td>0.946531</td>\n",
              "      <td>0.576659</td>\n",
              "      <td>0.567531</td>\n",
              "      <td>0.668212</td>\n",
              "      <td>0.627665</td>\n",
              "      <td>0.610722</td>\n",
              "      <td>0.700430</td>\n",
              "      <td>0.619349</td>\n",
              "      <td>0.886227</td>\n",
              "      <td>-1</td>\n",
              "    </tr>\n",
              "  </tbody>\n",
              "</table>\n",
              "</div>"
            ],
            "text/plain": [
              "Price            RSI Williams %R       SMA       EMA       WMA       HMA  \\\n",
              "Ticker                                                                     \n",
              "Date                                                                       \n",
              "2025-02-06  0.591668    0.725068  0.998192  0.955054  0.948125  0.933550   \n",
              "2025-02-07  0.621349    0.861630  0.999392  0.959746  0.952334  0.937151   \n",
              "2025-02-10  0.570598    0.670620  0.999756  0.960680  0.953134  0.940055   \n",
              "2025-02-11  0.596589    0.773635  0.999965  0.963072  0.955419  0.942821   \n",
              "2025-02-12  0.574499    0.690906  1.000000  0.963809  0.956379  0.944646   \n",
              "\n",
              "Price           TEMA       CCI       CMO      MACD       PPO       ROC  \\\n",
              "Ticker                                                                   \n",
              "Date                                                                     \n",
              "2025-02-06  0.935070  0.573308  0.593232  0.637289  0.608752  0.615079   \n",
              "2025-02-07  0.944889  0.602836  0.628841  0.674695  0.631757  0.691764   \n",
              "2025-02-10  0.944320  0.553786  0.563946  0.669115  0.628295  0.631770   \n",
              "2025-02-11  0.947524  0.581570  0.596361  0.677440  0.633368  0.678305   \n",
              "2025-02-12  0.946531  0.576659  0.567531  0.668212  0.627665  0.610722   \n",
              "\n",
              "Price            CFI       DMI       SAR triple_barrier_signal  \n",
              "Ticker                                                          \n",
              "Date                                                            \n",
              "2025-02-06  0.697740  0.598948  0.947074                    -1  \n",
              "2025-02-07  0.700289  0.620362  0.945485                    -1  \n",
              "2025-02-10  0.699595  0.605573  0.945485                    -1  \n",
              "2025-02-11  0.700799  0.612163  0.886227                    -1  \n",
              "2025-02-12  0.700430  0.619349  0.886227                    -1  "
            ]
          },
          "execution_count": 26,
          "metadata": {},
          "output_type": "execute_result"
        }
      ],
      "source": [
        "from sklearn.preprocessing import MinMaxScaler\n",
        "import pickle\n",
        "min_max_scaler = MinMaxScaler()\n",
        "df_minmax = df.copy()\n",
        "df_minmax[features] = min_max_scaler.fit_transform(df_minmax[features])#縮放到0-1之間\n",
        "with open('scaler.pkl', 'wb') as f:\n",
        "    pickle.dump(min_max_scaler, f)\n",
        "df_minmax.tail()"
      ]
    },
    {
      "cell_type": "code",
      "execution_count": 27,
      "metadata": {
        "colab": {
          "base_uri": "https://localhost:8080/",
          "height": 174
        },
        "id": "yMPgsldPdxLm",
        "outputId": "22d8c9b0-2048-406f-9969-03d5c9ffd447"
      },
      "outputs": [
        {
          "data": {
            "text/html": [
              "<div>\n",
              "<style scoped>\n",
              "    .dataframe tbody tr th:only-of-type {\n",
              "        vertical-align: middle;\n",
              "    }\n",
              "\n",
              "    .dataframe tbody tr th {\n",
              "        vertical-align: top;\n",
              "    }\n",
              "\n",
              "    .dataframe thead tr th {\n",
              "        text-align: left;\n",
              "    }\n",
              "\n",
              "    .dataframe thead tr:last-of-type th {\n",
              "        text-align: right;\n",
              "    }\n",
              "</style>\n",
              "<table border=\"1\" class=\"dataframe\">\n",
              "  <thead>\n",
              "    <tr>\n",
              "      <th>Price</th>\n",
              "      <th>RSI</th>\n",
              "      <th>Williams %R</th>\n",
              "      <th>SMA</th>\n",
              "    </tr>\n",
              "    <tr>\n",
              "      <th>Ticker</th>\n",
              "      <th></th>\n",
              "      <th></th>\n",
              "      <th></th>\n",
              "    </tr>\n",
              "    <tr>\n",
              "      <th>Date</th>\n",
              "      <th></th>\n",
              "      <th></th>\n",
              "      <th></th>\n",
              "    </tr>\n",
              "  </thead>\n",
              "  <tbody>\n",
              "    <tr>\n",
              "      <th>2025-02-10</th>\n",
              "      <td>52.333201</td>\n",
              "      <td>-32.937988</td>\n",
              "      <td>23101.230564</td>\n",
              "    </tr>\n",
              "    <tr>\n",
              "      <th>2025-02-11</th>\n",
              "      <td>54.263868</td>\n",
              "      <td>-22.636515</td>\n",
              "      <td>23104.370093</td>\n",
              "    </tr>\n",
              "    <tr>\n",
              "      <th>2025-02-12</th>\n",
              "      <td>52.622945</td>\n",
              "      <td>-30.909378</td>\n",
              "      <td>23104.902058</td>\n",
              "    </tr>\n",
              "  </tbody>\n",
              "</table>\n",
              "</div>"
            ],
            "text/plain": [
              "Price             RSI Williams %R           SMA\n",
              "Ticker                                         \n",
              "Date                                           \n",
              "2025-02-10  52.333201  -32.937988  23101.230564\n",
              "2025-02-11  54.263868  -22.636515  23104.370093\n",
              "2025-02-12  52.622945  -30.909378  23104.902058"
            ]
          },
          "execution_count": 27,
          "metadata": {},
          "output_type": "execute_result"
        }
      ],
      "source": [
        "df.tail(3)[['RSI','Williams %R','SMA']]"
      ]
    },
    {
      "cell_type": "code",
      "execution_count": 28,
      "metadata": {
        "colab": {
          "base_uri": "https://localhost:8080/",
          "height": 287
        },
        "id": "nmSpTa3ndxLn",
        "outputId": "edac76f1-5286-45c3-c5f9-0f43b630e022"
      },
      "outputs": [
        {
          "data": {
            "text/plain": [
              "<matplotlib.image.AxesImage at 0x1a4ff242f00>"
            ]
          },
          "execution_count": 28,
          "metadata": {},
          "output_type": "execute_result"
        },
        {
          "data": {
            "image/png": "[encoded data removed]",
            "text/plain": [
              "<Figure size 640x480 with 1 Axes>"
            ]
          },
          "metadata": {},
          "output_type": "display_data"
        }
      ],
      "source": [
        "img = df.head(3)[['RSI','Williams %R','MACD']].values\n",
        "plt.imshow(img)"
      ]
    },
    {
      "cell_type": "code",
      "execution_count": 29,
      "metadata": {
        "colab": {
          "base_uri": "https://localhost:8080/"
        },
        "id": "5MCZDpBgrrQQ",
        "outputId": "1a6526c5-3ea8-492d-ab98-b735a7f2cb51"
      },
      "outputs": [
        {
          "name": "stdout",
          "output_type": "stream",
          "text": [
            "特徵縮放完成!\n"
          ]
        }
      ],
      "source": [
        "df = df_minmax\n",
        "print('特徵縮放完成!')"
      ]
    },
    {
      "cell_type": "markdown",
      "metadata": {
        "id": "_kc7tvz_M7PO"
      },
      "source": [
        "# 定義X,y pair"
      ]
    },
    {
      "cell_type": "markdown",
      "metadata": {
        "id": "BCq5qHe5dxLo"
      },
      "source": [
        "https://sharegpt.com/c/KcXGMUL"
      ]
    },
    {
      "cell_type": "code",
      "execution_count": 30,
      "metadata": {
        "colab": {
          "base_uri": "https://localhost:8080/"
        },
        "id": "2ZHvlRJ5Lzzu",
        "outputId": "9dfa9268-027a-4a61-cee8-eaa8457548e2"
      },
      "outputs": [
        {
          "name": "stderr",
          "output_type": "stream",
          "text": [
            "C:\\Users\\TMP-214\\AppData\\Local\\Temp\\ipykernel_45112\\1448198490.py:10: PerformanceWarning: dropping on a non-lexsorted multi-index without a level parameter may impact performance.\n",
            "  features = df.drop(y_name,axis=1).columns.tolist()\n"
          ]
        },
        {
          "name": "stderr",
          "output_type": "stream",
          "text": [
            "100%|██████████| 2399/2399 [00:12<00:00, 186.34it/s]"
          ]
        },
        {
          "name": "stdout",
          "output_type": "stream",
          "text": [
            "準備完成\n"
          ]
        },
        {
          "name": "stderr",
          "output_type": "stream",
          "text": [
            "\n"
          ]
        }
      ],
      "source": [
        "from tqdm import tqdm\n",
        "import numpy as np\n",
        "\n",
        "#定義觀察天數,起始index(0),結束index(資料筆數-觀察天數)\n",
        "days = 15\n",
        "start_index = 0\n",
        "end_index = len(df)-days\n",
        "\n",
        "#特徵欄位\n",
        "features = df.drop(y_name,axis=1).columns.tolist()\n",
        "\n",
        "#待存放序列\n",
        "Xs = []\n",
        "ys = []\n",
        "indexs = []\n",
        "\n",
        "'''\n",
        "若資料筆數100,days=15天,f_index=85,i只會跑到84,i+days=99,features只會跑到98天.\n",
        "若資料筆數100,days=15天,f_index=85+1,i會跑到85,i+days=100,features會跑到99天.\n",
        "'''\n",
        "for i in tqdm(range(start_index ,end_index+1 ,1)):#每次i都會遞增1\n",
        "  X = df.iloc[i:i+days,:][features] #ex:若i為0,則i+days為15因此數據index為0...14(不含15)之features\n",
        "  y = df.iloc[i+days-1:i+days,:][y_name]#ex:若i為0days為15則[i+days-1:i+days]為[14:15]相當於index[14]之y_name('triple_barrier_signal')\n",
        "  X = np.array(X) # 轉成np_array\n",
        "  Xs.append(X) #加入至list\n",
        "  ys.append(y) #加入至list\n",
        "  indexs.append((df.iloc[[i]].index,df.iloc[[i+days-1]].index)) #加入資料日期\n",
        "#轉換成np_array\n",
        "Xs = np.array(Xs)\n",
        "ys = np.array(ys)\n",
        "print('準備完成')"
      ]
    },
    {
      "cell_type": "markdown",
      "metadata": {
        "id": "a9iNRYKpNfIP"
      },
      "source": [
        "# check 資料總數跟 資料時間範圍"
      ]
    },
    {
      "cell_type": "code",
      "execution_count": 31,
      "metadata": {
        "colab": {
          "base_uri": "https://localhost:8080/"
        },
        "id": "7YiS6ZmtNfSf",
        "outputId": "a6bb6eda-4e88-4174-ffe0-44738e3f6652"
      },
      "outputs": [
        {
          "name": "stdout",
          "output_type": "stream",
          "text": [
            "資料筆數: 2399\n",
            "第一筆的index開始和結束:2015-03-11-2015-03-31\n",
            "最後一筆的index開始和結束:2025-01-14-2025-02-12\n"
          ]
        }
      ],
      "source": [
        "print('資料筆數:',len(Xs))\n",
        "print('第一筆的index開始和結束:{}-{}'.format(indexs[0][0].date[0],indexs[0][1].date[0]))\n",
        "print('最後一筆的index開始和結束:{}-{}'.format(indexs[-1][0].date[0],indexs[-1][1].date[0]))"
      ]
    },
    {
      "cell_type": "markdown",
      "metadata": {
        "id": "Pabl4tEsXYB8"
      },
      "source": [
        "# Reshape X (圖片數量,長,寬,1張)"
      ]
    },
    {
      "cell_type": "code",
      "execution_count": 32,
      "metadata": {
        "colab": {
          "base_uri": "https://localhost:8080/"
        },
        "id": "In4R0IcSPDwG",
        "outputId": "d4367a3f-df7e-46c8-86d9-de3c1f98fe60"
      },
      "outputs": [
        {
          "name": "stdout",
          "output_type": "stream",
          "text": [
            "(2399, 15, 15)\n",
            "(2399, 15, 15, 1)\n"
          ]
        }
      ],
      "source": [
        "print(Xs.shape)\n",
        "Xs = Xs.reshape(-1,days,len(features),1)\n",
        "print(Xs.shape)"
      ]
    },
    {
      "cell_type": "markdown",
      "metadata": {
        "id": "lUy2cpReXaOV"
      },
      "source": [
        "# One hot encoding of label(獨熱編碼)"
      ]
    },
    {
      "cell_type": "markdown",
      "metadata": {
        "id": "hjDc-sStA1gk"
      },
      "source": [
        "原始y代表漲幅"
      ]
    },
    {
      "cell_type": "code",
      "execution_count": 33,
      "metadata": {
        "colab": {
          "base_uri": "https://localhost:8080/"
        },
        "id": "6XGRdxmfWrfo",
        "outputId": "57faae83-4429-4ccb-f695-3cafb8b3b5db"
      },
      "outputs": [
        {
          "name": "stdout",
          "output_type": "stream",
          "text": [
            "One hot encoding前\n",
            "(2399, 1)\n",
            "[[1]\n",
            " [1]\n",
            " [1]\n",
            " [1]\n",
            " [1]]\n",
            "One hot encoding後\n",
            "(2399, 3)\n",
            "[[0. 1. 0.]\n",
            " [0. 1. 0.]\n",
            " [0. 1. 0.]\n",
            " [0. 1. 0.]\n",
            " [0. 1. 0.]]\n"
          ]
        }
      ],
      "source": [
        "print('One hot encoding前')\n",
        "print(ys.shape)\n",
        "print(ys[:5])\n",
        "from keras.utils import to_categorical\n",
        "\n",
        "ys = to_categorical(ys, num_classes = 3)\n",
        "print('One hot encoding後')\n",
        "print(ys.shape)\n",
        "print(ys[:5])"
      ]
    },
    {
      "cell_type": "markdown",
      "metadata": {
        "id": "TYcPI2TWBTpJ"
      },
      "source": [
        "# Visualization"
      ]
    },
    {
      "cell_type": "markdown",
      "metadata": {
        "id": "ZRmEVxINdxLs"
      },
      "source": [
        "https://sharegpt.com/c/lQ0OLk6"
      ]
    },
    {
      "cell_type": "code",
      "execution_count": 34,
      "metadata": {
        "colab": {
          "base_uri": "https://localhost:8080/",
          "height": 591
        },
        "id": "6y77Le-EdxLs",
        "outputId": "78f0a190-0eab-4aa7-868c-9cf5cb2e11a8"
      },
      "outputs": [
        {
          "data": {
            "image/png": "[encoded data removed]",
            "text/plain": [
              "<Figure size 1000x1000 with 9 Axes>"
            ]
          },
          "metadata": {},
          "output_type": "display_data"
        }
      ],
      "source": [
        "import matplotlib.pyplot as plt\n",
        "\n",
        "# n为batch大小，这里设为9\n",
        "n = 9\n",
        "\n",
        "# 生成一个九宫格的画布\n",
        "fig, axs = plt.subplots(3, 3, figsize=(10, 10))\n",
        "\n",
        "# 遍历batch中的每一个样本，依次画出对应的矩阵和标注\n",
        "for i in range(n):\n",
        "    # 获取当前样本的矩阵和标注\n",
        "    x = Xs[i]\n",
        "    y = ys[i]\n",
        "    \n",
        "    # 在对应的子图上画出矩阵和标注\n",
        "    axs[i//3, i%3].imshow(x)\n",
        "    axs[i//3, i%3].set_title('y={}'.format(y))\n",
        "    axs[i//3, i%3].axis('off')\n",
        "\n",
        "# 调整子图之间的距离\n",
        "plt.subplots_adjust(hspace=0.3, wspace=0.3)\n",
        "\n",
        "# 显示画布\n",
        "plt.show()\n"
      ]
    },
    {
      "cell_type": "markdown",
      "metadata": {
        "id": "5Oa6gYq_aVjE"
      },
      "source": [
        "# Split training and test sets"
      ]
    },
    {
      "cell_type": "code",
      "execution_count": 35,
      "metadata": {
        "colab": {
          "base_uri": "https://localhost:8080/"
        },
        "id": "OLHFbreckAlH",
        "outputId": "d31f28bf-06fc-4fb9-c9ea-bb767ccb8363"
      },
      "outputs": [
        {
          "name": "stdout",
          "output_type": "stream",
          "text": [
            "(2359, 15, 15, 1) (2359, 3) (40, 15, 15, 1)\n"
          ]
        }
      ],
      "source": [
        "X_test = Xs[-40:] #最後40天features當作test資料\n",
        "X_train,y_train = Xs[:-40],ys[:-40] #其他當作訓練\n",
        "print(X_train.shape,y_train.shape,X_test.shape)"
      ]
    },
    {
      "cell_type": "markdown",
      "metadata": {
        "id": "gldr_9_D6CWR"
      },
      "source": [
        "# 調整採樣"
      ]
    },
    {
      "cell_type": "markdown",
      "metadata": {
        "id": "MVZWZp-sdxLv"
      },
      "source": [
        "https://sharegpt.com/c/Vm1VcLs"
      ]
    },
    {
      "cell_type": "code",
      "execution_count": 36,
      "metadata": {
        "colab": {
          "base_uri": "https://localhost:8080/"
        },
        "id": "gUrzPr896Che",
        "outputId": "7f0ea480-2df1-4cd9-ac02-1c46c8467034"
      },
      "outputs": [
        {
          "name": "stdout",
          "output_type": "stream",
          "text": [
            "(2359, 225)\n",
            "(2359,)\n",
            "0\n",
            "0    573\n",
            "1    573\n",
            "2    573\n",
            "Name: count, dtype: int64\n",
            "(1719, 15, 15, 1)\n",
            "(1719, 3)\n"
          ]
        }
      ],
      "source": [
        "X_train2維 = X_train.reshape(X_train.shape[0],-1)\n",
        "y_train數字 = np.array([ np.argmax(i) for i in y_train])\n",
        "print(X_train2維.shape)\n",
        "print(y_train數字.shape)\n",
        "\n",
        "from imblearn.under_sampling import RandomUnderSampler\n",
        "ros = RandomUnderSampler()\n",
        "X_train平衡 ,y_train平衡 = ros.fit_resample(X_train2維 ,y_train數字)\n",
        "print(pd.DataFrame(y_train平衡)[0].value_counts().sort_index())#顯示結果\n",
        "\n",
        "X_train = X_train平衡.reshape(X_train平衡.shape[0],15,15,1)#資料數,15,15,1\n",
        "y_train = y_train平衡.reshape(y_train平衡.shape[0],1)#資料數,1\n",
        "y_train = to_categorical(y_train , num_classes = 3)#one_hot\n",
        "print(X_train.shape)\n",
        "print(y_train.shape)"
      ]
    },
    {
      "cell_type": "markdown",
      "metadata": {
        "id": "0LI45EZC6k4Q"
      },
      "source": [
        "# Split training and val sets"
      ]
    },
    {
      "cell_type": "markdown",
      "metadata": {
        "id": "f6lecb2UdxLw"
      },
      "source": [
        "https://sharegpt.com/c/ZgCDypE"
      ]
    },
    {
      "cell_type": "code",
      "execution_count": 37,
      "metadata": {
        "colab": {
          "base_uri": "https://localhost:8080/"
        },
        "id": "MgsrVpYUYf5J",
        "outputId": "ae70c2ef-f222-4631-c71f-8ff814e90772"
      },
      "outputs": [
        {
          "name": "stdout",
          "output_type": "stream",
          "text": [
            "(1375, 15, 15, 1) (1375, 3) (344, 15, 15, 1) (344, 3)\n"
          ]
        }
      ],
      "source": [
        "from sklearn.model_selection import train_test_split\n",
        "xtrain, xval, ytrain, yval = train_test_split(\n",
        "    X_train,\n",
        "    y_train, \n",
        "    test_size = 0.2,\n",
        "    random_state = 42,\n",
        "    shuffle = True,#是否洗牌\n",
        "    stratify = y_train #是否根據y欄位做分層取樣\n",
        "    )\n",
        "print(xtrain.shape, ytrain.shape, xval.shape, yval.shape)"
      ]
    },
    {
      "cell_type": "markdown",
      "metadata": {
        "id": "2xQOFrENMkSb"
      },
      "source": [
        "# 看一下樣本的label分布情況是否平均(待解決)"
      ]
    },
    {
      "cell_type": "markdown",
      "metadata": {
        "id": "xnUz7A3tlfya"
      },
      "source": [
        "0:Hold,1:Buy,2:Sell"
      ]
    },
    {
      "cell_type": "code",
      "execution_count": 38,
      "metadata": {
        "colab": {
          "base_uri": "https://localhost:8080/"
        },
        "id": "aA9SXiicML6Y",
        "outputId": "e5710fa8-e82f-4819-8937-99b7c321e460"
      },
      "outputs": [
        {
          "data": {
            "text/plain": [
              "1    1059\n",
              "2     752\n",
              "0     588\n",
              "Name: count, dtype: int64"
            ]
          },
          "execution_count": 38,
          "metadata": {},
          "output_type": "execute_result"
        }
      ],
      "source": [
        "pd.Series([np.argmax(i) for i in ys]).value_counts()"
      ]
    },
    {
      "cell_type": "code",
      "execution_count": 39,
      "metadata": {
        "colab": {
          "base_uri": "https://localhost:8080/"
        },
        "id": "l3gzqyHc8hKR",
        "outputId": "cf0b3474-828a-47b3-de1a-5dcaeac104ba"
      },
      "outputs": [
        {
          "data": {
            "text/plain": [
              "0    573\n",
              "1    573\n",
              "2    573\n",
              "Name: count, dtype: int64"
            ]
          },
          "execution_count": 39,
          "metadata": {},
          "output_type": "execute_result"
        }
      ],
      "source": [
        "pd.Series([np.argmax(i) for i in y_train]).value_counts()"
      ]
    },
    {
      "cell_type": "code",
      "execution_count": 40,
      "metadata": {
        "colab": {
          "base_uri": "https://localhost:8080/"
        },
        "id": "UIOBe8tVL5dV",
        "outputId": "ca8dba29-8c83-417e-dd15-1a842f66089d"
      },
      "outputs": [
        {
          "data": {
            "text/plain": [
              "2    459\n",
              "0    458\n",
              "1    458\n",
              "Name: count, dtype: int64"
            ]
          },
          "execution_count": 40,
          "metadata": {},
          "output_type": "execute_result"
        }
      ],
      "source": [
        "pd.Series([np.argmax(i) for i in ytrain]).value_counts()"
      ]
    },
    {
      "cell_type": "code",
      "execution_count": 41,
      "metadata": {
        "colab": {
          "base_uri": "https://localhost:8080/"
        },
        "id": "A235BZ6cMQ-S",
        "outputId": "e13e060b-7093-459b-cadb-d9e910e7d159"
      },
      "outputs": [
        {
          "data": {
            "text/plain": [
              "1    115\n",
              "0    115\n",
              "2    114\n",
              "Name: count, dtype: int64"
            ]
          },
          "execution_count": 41,
          "metadata": {},
          "output_type": "execute_result"
        }
      ],
      "source": [
        "pd.Series([np.argmax(i) for i in yval]).value_counts()"
      ]
    },
    {
      "cell_type": "markdown",
      "metadata": {
        "id": "m-oXz0FGarb1"
      },
      "source": [
        "# 用chatgpt幫忙製作模型"
      ]
    },
    {
      "cell_type": "markdown",
      "metadata": {
        "id": "bpKOGaIudxL0"
      },
      "source": [
        "https://sharegpt.com/c/M7VugUR"
      ]
    },
    {
      "cell_type": "code",
      "execution_count": 42,
      "metadata": {
        "colab": {
          "base_uri": "https://localhost:8080/"
        },
        "id": "lAmnVEWgdxL0",
        "outputId": "09d14849-d025-40d9-a086-b32de9257cd5"
      },
      "outputs": [
        {
          "name": "stderr",
          "output_type": "stream",
          "text": [
            "c:\\Users\\TMP-214\\AppData\\Local\\Programs\\Python\\Python312\\Lib\\site-packages\\keras\\src\\layers\\convolutional\\base_conv.py:107: UserWarning: Do not pass an `input_shape`/`input_dim` argument to a layer. When using Sequential models, prefer using an `Input(shape)` object as the first layer in the model instead.\n",
            "  super().__init__(activity_regularizer=activity_regularizer, **kwargs)\n"
          ]
        },
        {
          "data": {
            "text/html": [
              "<pre style=\"white-space:pre;overflow-x:auto;line-height:normal;font-family:Menlo,'DejaVu Sans Mono',consolas,'Courier New',monospace\"><span style=\"font-weight: bold\">Model: \"sequential\"</span>\n",
              "</pre>\n"
            ],
            "text/plain": [
              "\u001b[1mModel: \"sequential\"\u001b[0m\n"
            ]
          },
          "metadata": {},
          "output_type": "display_data"
        },
        {
          "data": {
            "text/html": [
              "<pre style=\"white-space:pre;overflow-x:auto;line-height:normal;font-family:Menlo,'DejaVu Sans Mono',consolas,'Courier New',monospace\">┏━━━━━━━━━━━━━━━━━━━━━━━━━━━━━━━━━┳━━━━━━━━━━━━━━━━━━━━━━━━┳━━━━━━━━━━━━━━━┓\n",
              "┃<span style=\"font-weight: bold\"> Layer (type)                    </span>┃<span style=\"font-weight: bold\"> Output Shape           </span>┃<span style=\"font-weight: bold\">       Param # </span>┃\n",
              "┡━━━━━━━━━━━━━━━━━━━━━━━━━━━━━━━━━╇━━━━━━━━━━━━━━━━━━━━━━━━╇━━━━━━━━━━━━━━━┩\n",
              "│ conv2d (<span style=\"color: #0087ff; text-decoration-color: #0087ff\">Conv2D</span>)                 │ (<span style=\"color: #00d7ff; text-decoration-color: #00d7ff\">None</span>, <span style=\"color: #00af00; text-decoration-color: #00af00\">13</span>, <span style=\"color: #00af00; text-decoration-color: #00af00\">13</span>, <span style=\"color: #00af00; text-decoration-color: #00af00\">32</span>)     │           <span style=\"color: #00af00; text-decoration-color: #00af00\">320</span> │\n",
              "├─────────────────────────────────┼────────────────────────┼───────────────┤\n",
              "│ conv2d_1 (<span style=\"color: #0087ff; text-decoration-color: #0087ff\">Conv2D</span>)               │ (<span style=\"color: #00d7ff; text-decoration-color: #00d7ff\">None</span>, <span style=\"color: #00af00; text-decoration-color: #00af00\">11</span>, <span style=\"color: #00af00; text-decoration-color: #00af00\">11</span>, <span style=\"color: #00af00; text-decoration-color: #00af00\">64</span>)     │        <span style=\"color: #00af00; text-decoration-color: #00af00\">18,496</span> │\n",
              "├─────────────────────────────────┼────────────────────────┼───────────────┤\n",
              "│ conv2d_2 (<span style=\"color: #0087ff; text-decoration-color: #0087ff\">Conv2D</span>)               │ (<span style=\"color: #00d7ff; text-decoration-color: #00d7ff\">None</span>, <span style=\"color: #00af00; text-decoration-color: #00af00\">9</span>, <span style=\"color: #00af00; text-decoration-color: #00af00\">9</span>, <span style=\"color: #00af00; text-decoration-color: #00af00\">128</span>)      │        <span style=\"color: #00af00; text-decoration-color: #00af00\">73,856</span> │\n",
              "├─────────────────────────────────┼────────────────────────┼───────────────┤\n",
              "│ flatten (<span style=\"color: #0087ff; text-decoration-color: #0087ff\">Flatten</span>)               │ (<span style=\"color: #00d7ff; text-decoration-color: #00d7ff\">None</span>, <span style=\"color: #00af00; text-decoration-color: #00af00\">10368</span>)          │             <span style=\"color: #00af00; text-decoration-color: #00af00\">0</span> │\n",
              "├─────────────────────────────────┼────────────────────────┼───────────────┤\n",
              "│ dropout (<span style=\"color: #0087ff; text-decoration-color: #0087ff\">Dropout</span>)               │ (<span style=\"color: #00d7ff; text-decoration-color: #00d7ff\">None</span>, <span style=\"color: #00af00; text-decoration-color: #00af00\">10368</span>)          │             <span style=\"color: #00af00; text-decoration-color: #00af00\">0</span> │\n",
              "├─────────────────────────────────┼────────────────────────┼───────────────┤\n",
              "│ dense (<span style=\"color: #0087ff; text-decoration-color: #0087ff\">Dense</span>)                   │ (<span style=\"color: #00d7ff; text-decoration-color: #00d7ff\">None</span>, <span style=\"color: #00af00; text-decoration-color: #00af00\">3</span>)              │        <span style=\"color: #00af00; text-decoration-color: #00af00\">31,107</span> │\n",
              "└─────────────────────────────────┴────────────────────────┴───────────────┘\n",
              "</pre>\n"
            ],
            "text/plain": [
              "┏━━━━━━━━━━━━━━━━━━━━━━━━━━━━━━━━━┳━━━━━━━━━━━━━━━━━━━━━━━━┳━━━━━━━━━━━━━━━┓\n",
              "┃\u001b[1m \u001b[0m\u001b[1mLayer (type)                   \u001b[0m\u001b[1m \u001b[0m┃\u001b[1m \u001b[0m\u001b[1mOutput Shape          \u001b[0m\u001b[1m \u001b[0m┃\u001b[1m \u001b[0m\u001b[1m      Param #\u001b[0m\u001b[1m \u001b[0m┃\n",
              "┡━━━━━━━━━━━━━━━━━━━━━━━━━━━━━━━━━╇━━━━━━━━━━━━━━━━━━━━━━━━╇━━━━━━━━━━━━━━━┩\n",
              "│ conv2d (\u001b[38;5;33mConv2D\u001b[0m)                 │ (\u001b[38;5;45mNone\u001b[0m, \u001b[38;5;34m13\u001b[0m, \u001b[38;5;34m13\u001b[0m, \u001b[38;5;34m32\u001b[0m)     │           \u001b[38;5;34m320\u001b[0m │\n",
              "├─────────────────────────────────┼────────────────────────┼───────────────┤\n",
              "│ conv2d_1 (\u001b[38;5;33mConv2D\u001b[0m)               │ (\u001b[38;5;45mNone\u001b[0m, \u001b[38;5;34m11\u001b[0m, \u001b[38;5;34m11\u001b[0m, \u001b[38;5;34m64\u001b[0m)     │        \u001b[38;5;34m18,496\u001b[0m │\n",
              "├─────────────────────────────────┼────────────────────────┼───────────────┤\n",
              "│ conv2d_2 (\u001b[38;5;33mConv2D\u001b[0m)               │ (\u001b[38;5;45mNone\u001b[0m, \u001b[38;5;34m9\u001b[0m, \u001b[38;5;34m9\u001b[0m, \u001b[38;5;34m128\u001b[0m)      │        \u001b[38;5;34m73,856\u001b[0m │\n",
              "├─────────────────────────────────┼────────────────────────┼───────────────┤\n",
              "│ flatten (\u001b[38;5;33mFlatten\u001b[0m)               │ (\u001b[38;5;45mNone\u001b[0m, \u001b[38;5;34m10368\u001b[0m)          │             \u001b[38;5;34m0\u001b[0m │\n",
              "├─────────────────────────────────┼────────────────────────┼───────────────┤\n",
              "│ dropout (\u001b[38;5;33mDropout\u001b[0m)               │ (\u001b[38;5;45mNone\u001b[0m, \u001b[38;5;34m10368\u001b[0m)          │             \u001b[38;5;34m0\u001b[0m │\n",
              "├─────────────────────────────────┼────────────────────────┼───────────────┤\n",
              "│ dense (\u001b[38;5;33mDense\u001b[0m)                   │ (\u001b[38;5;45mNone\u001b[0m, \u001b[38;5;34m3\u001b[0m)              │        \u001b[38;5;34m31,107\u001b[0m │\n",
              "└─────────────────────────────────┴────────────────────────┴───────────────┘\n"
            ]
          },
          "metadata": {},
          "output_type": "display_data"
        },
        {
          "data": {
            "text/html": [
              "<pre style=\"white-space:pre;overflow-x:auto;line-height:normal;font-family:Menlo,'DejaVu Sans Mono',consolas,'Courier New',monospace\"><span style=\"font-weight: bold\"> Total params: </span><span style=\"color: #00af00; text-decoration-color: #00af00\">123,779</span> (483.51 KB)\n",
              "</pre>\n"
            ],
            "text/plain": [
              "\u001b[1m Total params: \u001b[0m\u001b[38;5;34m123,779\u001b[0m (483.51 KB)\n"
            ]
          },
          "metadata": {},
          "output_type": "display_data"
        },
        {
          "data": {
            "text/html": [
              "<pre style=\"white-space:pre;overflow-x:auto;line-height:normal;font-family:Menlo,'DejaVu Sans Mono',consolas,'Courier New',monospace\"><span style=\"font-weight: bold\"> Trainable params: </span><span style=\"color: #00af00; text-decoration-color: #00af00\">123,779</span> (483.51 KB)\n",
              "</pre>\n"
            ],
            "text/plain": [
              "\u001b[1m Trainable params: \u001b[0m\u001b[38;5;34m123,779\u001b[0m (483.51 KB)\n"
            ]
          },
          "metadata": {},
          "output_type": "display_data"
        },
        {
          "data": {
            "text/html": [
              "<pre style=\"white-space:pre;overflow-x:auto;line-height:normal;font-family:Menlo,'DejaVu Sans Mono',consolas,'Courier New',monospace\"><span style=\"font-weight: bold\"> Non-trainable params: </span><span style=\"color: #00af00; text-decoration-color: #00af00\">0</span> (0.00 B)\n",
              "</pre>\n"
            ],
            "text/plain": [
              "\u001b[1m Non-trainable params: \u001b[0m\u001b[38;5;34m0\u001b[0m (0.00 B)\n"
            ]
          },
          "metadata": {},
          "output_type": "display_data"
        }
      ],
      "source": [
        "from keras import backend as K\n",
        "from keras.models import Sequential\n",
        "from keras.layers import Dense, Dropout, Lambda, Flatten, BatchNormalization\n",
        "from keras.layers import Conv2D, MaxPool2D, AvgPool2D\n",
        "from tensorflow.keras.optimizers import Adam \n",
        "from keras.callbacks import ReduceLROnPlateau , EarlyStopping\n",
        "from keras.models import Sequential\n",
        "from keras.layers import Dense, Flatten, Dropout\n",
        "\n",
        "\n",
        "# 創建一個序列模型\n",
        "model = Sequential()\n",
        "\n",
        "# 添加第一個卷積層，使用32個3x3的卷積核，使用ReLU激活函數，並指定輸入形狀\n",
        "model.add(Conv2D(32, (3, 3), activation='relu', input_shape=(15, 15, 1)))\n",
        "\n",
        "# 添加第二個卷積層，使用64個3x3的卷積核，使用ReLU激活函數\n",
        "model.add(Conv2D(64, (3, 3), activation='relu'))\n",
        "\n",
        "# 添加第三個卷積層，使用128個3x3的卷積核，使用ReLU激活函數\n",
        "model.add(Conv2D(128, (3, 3), activation='relu'))\n",
        "\n",
        "# 添加平坦層，將卷積層的輸出展開為一維數組\n",
        "model.add(Flatten())\n",
        "\n",
        "# 添加dropout層，防止過度擬合\n",
        "model.add(Dropout(0.5))\n",
        "\n",
        "# 添加全連接層，使用softmax激活函數，輸出3個類別\n",
        "model.add(Dense(3, activation='softmax'))\n",
        "\n",
        "# 編譯模型，使用交叉熵損失函數和Adam優化器\n",
        "model.compile(loss='categorical_crossentropy', optimizer='adam', metrics=['accuracy'])\n",
        "\n",
        "# 打印模型結構\n",
        "model.summary()"
      ]
    },
    {
      "cell_type": "code",
      "execution_count": 43,
      "metadata": {
        "colab": {
          "base_uri": "https://localhost:8080/",
          "height": 90
        },
        "id": "yd-csnW2auJS",
        "outputId": "ffb1fd13-f6f8-45c1-d9bb-55807a05723c"
      },
      "outputs": [
        {
          "data": {
            "application/vnd.google.colaboratory.intrinsic+json": {
              "type": "string"
            },
            "text/plain": [
              "\"\\nnclasses = 3 \\nmodel = Sequential()\\nmodel.add(Conv2D(filters=32, kernel_size=(3,3), padding='same', activation='relu', input_shape=(15,15,1)))#15,15,32\\nmodel.add(Conv2D(filters=64, kernel_size=(3,3), padding='same', activation='relu',))#15,15,64\\nmodel.add(MaxPool2D(pool_size=(5,5)))# 3,3,64\\nmodel.add(Flatten())#576\\nmodel.add(Dropout(0.5))#288\\nmodel.add(Dense(128, activation='relu'))#128\\nmodel.add(Dropout(0.5))#64\\nmodel.add(Dense(32, activation='relu'))#32\\nmodel.add(Dropout(0.5))#16\\nmodel.add(Dense(nclasses, activation='softmax'))#3\\nmodel.summary()\\n\""
            ]
          },
          "execution_count": 43,
          "metadata": {},
          "output_type": "execute_result"
        }
      ],
      "source": [
        "'''\n",
        "nclasses = 3 \n",
        "model = Sequential()\n",
        "model.add(Conv2D(filters=32, kernel_size=(3,3), padding='same', activation='relu', input_shape=(15,15,1)))#15,15,32\n",
        "model.add(Conv2D(filters=64, kernel_size=(3,3), padding='same', activation='relu',))#15,15,64\n",
        "model.add(MaxPool2D(pool_size=(5,5)))# 3,3,64\n",
        "model.add(Flatten())#576\n",
        "model.add(Dropout(0.5))#288\n",
        "model.add(Dense(128, activation='relu'))#128\n",
        "model.add(Dropout(0.5))#64\n",
        "model.add(Dense(32, activation='relu'))#32\n",
        "model.add(Dropout(0.5))#16\n",
        "model.add(Dense(nclasses, activation='softmax'))#3\n",
        "model.summary()\n",
        "'''"
      ]
    },
    {
      "cell_type": "markdown",
      "metadata": {
        "id": "AxhsjTcqdxL1"
      },
      "source": [
        "# 編譯模型"
      ]
    },
    {
      "cell_type": "code",
      "execution_count": 43,
      "metadata": {
        "id": "8Z913AqUa8bJ"
      },
      "outputs": [],
      "source": [
        "model.compile(optimizer=\"adam\", loss=\"categorical_crossentropy\", metrics=[\"accuracy\"])"
      ]
    },
    {
      "cell_type": "markdown",
      "metadata": {
        "id": "VORA4n9Lz9of"
      },
      "source": [
        "# 定義訓練過程的早停法機制"
      ]
    },
    {
      "cell_type": "code",
      "execution_count": 44,
      "metadata": {
        "id": "Kw_j4R4Da_To"
      },
      "outputs": [],
      "source": [
        "es = EarlyStopping(monitor='val_accuracy',#驗證集acc\n",
        "                   min_delta=0.0001, \n",
        "                   patience=20,  \n",
        "                   mode='max',\n",
        "                   restore_best_weights=True)#恢復最佳權重"
      ]
    },
    {
      "cell_type": "markdown",
      "metadata": {
        "id": "aevlVsI9Lk9a"
      },
      "source": [
        "# fit"
      ]
    },
    {
      "cell_type": "code",
      "execution_count": 45,
      "metadata": {
        "colab": {
          "base_uri": "https://localhost:8080/"
        },
        "id": "TJJR7Yg-bHac",
        "outputId": "451e2d65-a5ec-46b4-9d6b-80c818b76fb9"
      },
      "outputs": [
        {
          "name": "stdout",
          "output_type": "stream",
          "text": [
            "Epoch 1/200\n",
            "\u001b[1m11/11\u001b[0m \u001b[32m━━━━━━━━━━━━━━━━━━━━\u001b[0m\u001b[37m\u001b[0m \u001b[1m3s\u001b[0m 114ms/step - accuracy: 0.3868 - loss: 1.0918 - val_accuracy: 0.3459 - val_loss: 1.0870\n",
            "Epoch 2/200\n",
            "\u001b[1m11/11\u001b[0m \u001b[32m━━━━━━━━━━━━━━━━━━━━\u001b[0m\u001b[37m\u001b[0m \u001b[1m1s\u001b[0m 74ms/step - accuracy: 0.4016 - loss: 1.0861 - val_accuracy: 0.3837 - val_loss: 1.0778\n",
            "Epoch 3/200\n",
            "\u001b[1m11/11\u001b[0m \u001b[32m━━━━━━━━━━━━━━━━━━━━\u001b[0m\u001b[37m\u001b[0m \u001b[1m1s\u001b[0m 71ms/step - accuracy: 0.4192 - loss: 1.0687 - val_accuracy: 0.3924 - val_loss: 1.0678\n",
            "Epoch 4/200\n",
            "\u001b[1m11/11\u001b[0m \u001b[32m━━━━━━━━━━━━━━━━━━━━\u001b[0m\u001b[37m\u001b[0m \u001b[1m1s\u001b[0m 72ms/step - accuracy: 0.4318 - loss: 1.0613 - val_accuracy: 0.4157 - val_loss: 1.0593\n",
            "Epoch 5/200\n",
            "\u001b[1m11/11\u001b[0m \u001b[32m━━━━━━━━━━━━━━━━━━━━\u001b[0m\u001b[37m\u001b[0m \u001b[1m1s\u001b[0m 70ms/step - accuracy: 0.4396 - loss: 1.0538 - val_accuracy: 0.4273 - val_loss: 1.0415\n",
            "Epoch 6/200\n",
            "\u001b[1m11/11\u001b[0m \u001b[32m━━━━━━━━━━━━━━━━━━━━\u001b[0m\u001b[37m\u001b[0m \u001b[1m1s\u001b[0m 71ms/step - accuracy: 0.4525 - loss: 1.0278 - val_accuracy: 0.4244 - val_loss: 1.0367\n",
            "Epoch 7/200\n",
            "\u001b[1m11/11\u001b[0m \u001b[32m━━━━━━━━━━━━━━━━━━━━\u001b[0m\u001b[37m\u001b[0m \u001b[1m1s\u001b[0m 73ms/step - accuracy: 0.4681 - loss: 1.0241 - val_accuracy: 0.4477 - val_loss: 1.0205\n",
            "Epoch 8/200\n",
            "\u001b[1m11/11\u001b[0m \u001b[32m━━━━━━━━━━━━━━━━━━━━\u001b[0m\u001b[37m\u001b[0m \u001b[1m1s\u001b[0m 74ms/step - accuracy: 0.4673 - loss: 1.0131 - val_accuracy: 0.4506 - val_loss: 1.0139\n",
            "Epoch 9/200\n",
            "\u001b[1m11/11\u001b[0m \u001b[32m━━━━━━━━━━━━━━━━━━━━\u001b[0m\u001b[37m\u001b[0m \u001b[1m1s\u001b[0m 73ms/step - accuracy: 0.4713 - loss: 1.0074 - val_accuracy: 0.4826 - val_loss: 1.0045\n",
            "Epoch 10/200\n",
            "\u001b[1m11/11\u001b[0m \u001b[32m━━━━━━━━━━━━━━━━━━━━\u001b[0m\u001b[37m\u001b[0m \u001b[1m1s\u001b[0m 73ms/step - accuracy: 0.4855 - loss: 0.9997 - val_accuracy: 0.4826 - val_loss: 0.9994\n",
            "Epoch 11/200\n",
            "\u001b[1m11/11\u001b[0m \u001b[32m━━━━━━━━━━━━━━━━━━━━\u001b[0m\u001b[37m\u001b[0m \u001b[1m1s\u001b[0m 75ms/step - accuracy: 0.4921 - loss: 0.9940 - val_accuracy: 0.4971 - val_loss: 0.9894\n",
            "Epoch 12/200\n",
            "\u001b[1m11/11\u001b[0m \u001b[32m━━━━━━━━━━━━━━━━━━━━\u001b[0m\u001b[37m\u001b[0m \u001b[1m1s\u001b[0m 74ms/step - accuracy: 0.5011 - loss: 0.9832 - val_accuracy: 0.4767 - val_loss: 0.9879\n",
            "Epoch 13/200\n",
            "\u001b[1m11/11\u001b[0m \u001b[32m━━━━━━━━━━━━━━━━━━━━\u001b[0m\u001b[37m\u001b[0m \u001b[1m1s\u001b[0m 73ms/step - accuracy: 0.4942 - loss: 0.9816 - val_accuracy: 0.4884 - val_loss: 0.9779\n",
            "Epoch 14/200\n",
            "\u001b[1m11/11\u001b[0m \u001b[32m━━━━━━━━━━━━━━━━━━━━\u001b[0m\u001b[37m\u001b[0m \u001b[1m1s\u001b[0m 77ms/step - accuracy: 0.5068 - loss: 0.9769 - val_accuracy: 0.4767 - val_loss: 0.9748\n",
            "Epoch 15/200\n",
            "\u001b[1m11/11\u001b[0m \u001b[32m━━━━━━━━━━━━━━━━━━━━\u001b[0m\u001b[37m\u001b[0m \u001b[1m1s\u001b[0m 72ms/step - accuracy: 0.5315 - loss: 0.9664 - val_accuracy: 0.4709 - val_loss: 0.9878\n",
            "Epoch 16/200\n",
            "\u001b[1m11/11\u001b[0m \u001b[32m━━━━━━━━━━━━━━━━━━━━\u001b[0m\u001b[37m\u001b[0m \u001b[1m1s\u001b[0m 75ms/step - accuracy: 0.5343 - loss: 0.9702 - val_accuracy: 0.4826 - val_loss: 0.9613\n",
            "Epoch 17/200\n",
            "\u001b[1m11/11\u001b[0m \u001b[32m━━━━━━━━━━━━━━━━━━━━\u001b[0m\u001b[37m\u001b[0m \u001b[1m1s\u001b[0m 71ms/step - accuracy: 0.5515 - loss: 0.9533 - val_accuracy: 0.5029 - val_loss: 0.9564\n",
            "Epoch 18/200\n",
            "\u001b[1m11/11\u001b[0m \u001b[32m━━━━━━━━━━━━━━━━━━━━\u001b[0m\u001b[37m\u001b[0m \u001b[1m1s\u001b[0m 72ms/step - accuracy: 0.5345 - loss: 0.9409 - val_accuracy: 0.4826 - val_loss: 0.9596\n",
            "Epoch 19/200\n",
            "\u001b[1m11/11\u001b[0m \u001b[32m━━━━━━━━━━━━━━━━━━━━\u001b[0m\u001b[37m\u001b[0m \u001b[1m1s\u001b[0m 78ms/step - accuracy: 0.5485 - loss: 0.9422 - val_accuracy: 0.5000 - val_loss: 0.9622\n",
            "Epoch 20/200\n",
            "\u001b[1m11/11\u001b[0m \u001b[32m━━━━━━━━━━━━━━━━━━━━\u001b[0m\u001b[37m\u001b[0m \u001b[1m1s\u001b[0m 75ms/step - accuracy: 0.5639 - loss: 0.9393 - val_accuracy: 0.5116 - val_loss: 0.9456\n",
            "Epoch 21/200\n",
            "\u001b[1m11/11\u001b[0m \u001b[32m━━━━━━━━━━━━━━━━━━━━\u001b[0m\u001b[37m\u001b[0m \u001b[1m1s\u001b[0m 75ms/step - accuracy: 0.5551 - loss: 0.9367 - val_accuracy: 0.5233 - val_loss: 0.9329\n",
            "Epoch 22/200\n",
            "\u001b[1m11/11\u001b[0m \u001b[32m━━━━━━━━━━━━━━━━━━━━\u001b[0m\u001b[37m\u001b[0m \u001b[1m1s\u001b[0m 77ms/step - accuracy: 0.5729 - loss: 0.9217 - val_accuracy: 0.5203 - val_loss: 0.9207\n",
            "Epoch 23/200\n",
            "\u001b[1m11/11\u001b[0m \u001b[32m━━━━━━━━━━━━━━━━━━━━\u001b[0m\u001b[37m\u001b[0m \u001b[1m1s\u001b[0m 78ms/step - accuracy: 0.5870 - loss: 0.9068 - val_accuracy: 0.5233 - val_loss: 0.9111\n",
            "Epoch 24/200\n",
            "\u001b[1m11/11\u001b[0m \u001b[32m━━━━━━━━━━━━━━━━━━━━\u001b[0m\u001b[37m\u001b[0m \u001b[1m1s\u001b[0m 81ms/step - accuracy: 0.5931 - loss: 0.8906 - val_accuracy: 0.5320 - val_loss: 0.9023\n",
            "Epoch 25/200\n",
            "\u001b[1m11/11\u001b[0m \u001b[32m━━━━━━━━━━━━━━━━━━━━\u001b[0m\u001b[37m\u001b[0m \u001b[1m1s\u001b[0m 76ms/step - accuracy: 0.5980 - loss: 0.8842 - val_accuracy: 0.5523 - val_loss: 0.8967\n",
            "Epoch 26/200\n",
            "\u001b[1m11/11\u001b[0m \u001b[32m━━━━━━━━━━━━━━━━━━━━\u001b[0m\u001b[37m\u001b[0m \u001b[1m1s\u001b[0m 68ms/step - accuracy: 0.5943 - loss: 0.8728 - val_accuracy: 0.5436 - val_loss: 0.8972\n",
            "Epoch 27/200\n",
            "\u001b[1m11/11\u001b[0m \u001b[32m━━━━━━━━━━━━━━━━━━━━\u001b[0m\u001b[37m\u001b[0m \u001b[1m1s\u001b[0m 71ms/step - accuracy: 0.6040 - loss: 0.8613 - val_accuracy: 0.5581 - val_loss: 0.8918\n",
            "Epoch 28/200\n",
            "\u001b[1m11/11\u001b[0m \u001b[32m━━━━━━━━━━━━━━━━━━━━\u001b[0m\u001b[37m\u001b[0m \u001b[1m1s\u001b[0m 69ms/step - accuracy: 0.6279 - loss: 0.8679 - val_accuracy: 0.5407 - val_loss: 0.8861\n",
            "Epoch 29/200\n",
            "\u001b[1m11/11\u001b[0m \u001b[32m━━━━━━━━━━━━━━━━━━━━\u001b[0m\u001b[37m\u001b[0m \u001b[1m1s\u001b[0m 73ms/step - accuracy: 0.6163 - loss: 0.8444 - val_accuracy: 0.5610 - val_loss: 0.8768\n",
            "Epoch 30/200\n",
            "\u001b[1m11/11\u001b[0m \u001b[32m━━━━━━━━━━━━━━━━━━━━\u001b[0m\u001b[37m\u001b[0m \u001b[1m1s\u001b[0m 79ms/step - accuracy: 0.6261 - loss: 0.8333 - val_accuracy: 0.5640 - val_loss: 0.8795\n",
            "Epoch 31/200\n",
            "\u001b[1m11/11\u001b[0m \u001b[32m━━━━━━━━━━━━━━━━━━━━\u001b[0m\u001b[37m\u001b[0m \u001b[1m1s\u001b[0m 73ms/step - accuracy: 0.6311 - loss: 0.8386 - val_accuracy: 0.5814 - val_loss: 0.8672\n",
            "Epoch 32/200\n",
            "\u001b[1m11/11\u001b[0m \u001b[32m━━━━━━━━━━━━━━━━━━━━\u001b[0m\u001b[37m\u001b[0m \u001b[1m1s\u001b[0m 72ms/step - accuracy: 0.6394 - loss: 0.8178 - val_accuracy: 0.5756 - val_loss: 0.8601\n",
            "Epoch 33/200\n",
            "\u001b[1m11/11\u001b[0m \u001b[32m━━━━━━━━━━━━━━━━━━━━\u001b[0m\u001b[37m\u001b[0m \u001b[1m1s\u001b[0m 82ms/step - accuracy: 0.6211 - loss: 0.8100 - val_accuracy: 0.5930 - val_loss: 0.8538\n",
            "Epoch 34/200\n",
            "\u001b[1m11/11\u001b[0m \u001b[32m━━━━━━━━━━━━━━━━━━━━\u001b[0m\u001b[37m\u001b[0m \u001b[1m1s\u001b[0m 74ms/step - accuracy: 0.6545 - loss: 0.7997 - val_accuracy: 0.5901 - val_loss: 0.8642\n",
            "Epoch 35/200\n",
            "\u001b[1m11/11\u001b[0m \u001b[32m━━━━━━━━━━━━━━━━━━━━\u001b[0m\u001b[37m\u001b[0m \u001b[1m1s\u001b[0m 72ms/step - accuracy: 0.6661 - loss: 0.7819 - val_accuracy: 0.6047 - val_loss: 0.8738\n",
            "Epoch 36/200\n",
            "\u001b[1m11/11\u001b[0m \u001b[32m━━━━━━━━━━━━━━━━━━━━\u001b[0m\u001b[37m\u001b[0m \u001b[1m1s\u001b[0m 72ms/step - accuracy: 0.6724 - loss: 0.7957 - val_accuracy: 0.5640 - val_loss: 0.8871\n",
            "Epoch 37/200\n",
            "\u001b[1m11/11\u001b[0m \u001b[32m━━━━━━━━━━━━━━━━━━━━\u001b[0m\u001b[37m\u001b[0m \u001b[1m1s\u001b[0m 70ms/step - accuracy: 0.6476 - loss: 0.7946 - val_accuracy: 0.6076 - val_loss: 0.8586\n",
            "Epoch 38/200\n",
            "\u001b[1m11/11\u001b[0m \u001b[32m━━━━━━━━━━━━━━━━━━━━\u001b[0m\u001b[37m\u001b[0m \u001b[1m1s\u001b[0m 72ms/step - accuracy: 0.6545 - loss: 0.8017 - val_accuracy: 0.6134 - val_loss: 0.8426\n",
            "Epoch 39/200\n",
            "\u001b[1m11/11\u001b[0m \u001b[32m━━━━━━━━━━━━━━━━━━━━\u001b[0m\u001b[37m\u001b[0m \u001b[1m1s\u001b[0m 70ms/step - accuracy: 0.6619 - loss: 0.7811 - val_accuracy: 0.5843 - val_loss: 0.8582\n",
            "Epoch 40/200\n",
            "\u001b[1m11/11\u001b[0m \u001b[32m━━━━━━━━━━━━━━━━━━━━\u001b[0m\u001b[37m\u001b[0m \u001b[1m1s\u001b[0m 71ms/step - accuracy: 0.6666 - loss: 0.7754 - val_accuracy: 0.5930 - val_loss: 0.8432\n",
            "Epoch 41/200\n",
            "\u001b[1m11/11\u001b[0m \u001b[32m━━━━━━━━━━━━━━━━━━━━\u001b[0m\u001b[37m\u001b[0m \u001b[1m1s\u001b[0m 73ms/step - accuracy: 0.6705 - loss: 0.7656 - val_accuracy: 0.6017 - val_loss: 0.8434\n",
            "Epoch 42/200\n",
            "\u001b[1m11/11\u001b[0m \u001b[32m━━━━━━━━━━━━━━━━━━━━\u001b[0m\u001b[37m\u001b[0m \u001b[1m1s\u001b[0m 75ms/step - accuracy: 0.7071 - loss: 0.7428 - val_accuracy: 0.6221 - val_loss: 0.8273\n",
            "Epoch 43/200\n",
            "\u001b[1m11/11\u001b[0m \u001b[32m━━━━━━━━━━━━━━━━━━━━\u001b[0m\u001b[37m\u001b[0m \u001b[1m1s\u001b[0m 76ms/step - accuracy: 0.6837 - loss: 0.7488 - val_accuracy: 0.6076 - val_loss: 0.8410\n",
            "Epoch 44/200\n",
            "\u001b[1m11/11\u001b[0m \u001b[32m━━━━━━━━━━━━━━━━━━━━\u001b[0m\u001b[37m\u001b[0m \u001b[1m1s\u001b[0m 71ms/step - accuracy: 0.6838 - loss: 0.7457 - val_accuracy: 0.6221 - val_loss: 0.8207\n",
            "Epoch 45/200\n",
            "\u001b[1m11/11\u001b[0m \u001b[32m━━━━━━━━━━━━━━━━━━━━\u001b[0m\u001b[37m\u001b[0m \u001b[1m1s\u001b[0m 71ms/step - accuracy: 0.6949 - loss: 0.7337 - val_accuracy: 0.6221 - val_loss: 0.8182\n",
            "Epoch 46/200\n",
            "\u001b[1m11/11\u001b[0m \u001b[32m━━━━━━━━━━━━━━━━━━━━\u001b[0m\u001b[37m\u001b[0m \u001b[1m1s\u001b[0m 73ms/step - accuracy: 0.6971 - loss: 0.7253 - val_accuracy: 0.5959 - val_loss: 0.8299\n",
            "Epoch 47/200\n",
            "\u001b[1m11/11\u001b[0m \u001b[32m━━━━━━━━━━━━━━━━━━━━\u001b[0m\u001b[37m\u001b[0m \u001b[1m1s\u001b[0m 71ms/step - accuracy: 0.6982 - loss: 0.7118 - val_accuracy: 0.6279 - val_loss: 0.8285\n",
            "Epoch 48/200\n",
            "\u001b[1m11/11\u001b[0m \u001b[32m━━━━━━━━━━━━━━━━━━━━\u001b[0m\u001b[37m\u001b[0m \u001b[1m1s\u001b[0m 71ms/step - accuracy: 0.7122 - loss: 0.7080 - val_accuracy: 0.6308 - val_loss: 0.7991\n",
            "Epoch 49/200\n",
            "\u001b[1m11/11\u001b[0m \u001b[32m━━━━━━━━━━━━━━━━━━━━\u001b[0m\u001b[37m\u001b[0m \u001b[1m1s\u001b[0m 71ms/step - accuracy: 0.7180 - loss: 0.6888 - val_accuracy: 0.6221 - val_loss: 0.8115\n",
            "Epoch 50/200\n",
            "\u001b[1m11/11\u001b[0m \u001b[32m━━━━━━━━━━━━━━━━━━━━\u001b[0m\u001b[37m\u001b[0m \u001b[1m1s\u001b[0m 72ms/step - accuracy: 0.7190 - loss: 0.6889 - val_accuracy: 0.6134 - val_loss: 0.8128\n",
            "Epoch 51/200\n",
            "\u001b[1m11/11\u001b[0m \u001b[32m━━━━━━━━━━━━━━━━━━━━\u001b[0m\u001b[37m\u001b[0m \u001b[1m1s\u001b[0m 71ms/step - accuracy: 0.7261 - loss: 0.6840 - val_accuracy: 0.6279 - val_loss: 0.8115\n",
            "Epoch 52/200\n",
            "\u001b[1m11/11\u001b[0m \u001b[32m━━━━━━━━━━━━━━━━━━━━\u001b[0m\u001b[37m\u001b[0m \u001b[1m1s\u001b[0m 75ms/step - accuracy: 0.7346 - loss: 0.6861 - val_accuracy: 0.6337 - val_loss: 0.8071\n",
            "Epoch 53/200\n",
            "\u001b[1m11/11\u001b[0m \u001b[32m━━━━━━━━━━━━━━━━━━━━\u001b[0m\u001b[37m\u001b[0m \u001b[1m1s\u001b[0m 70ms/step - accuracy: 0.7330 - loss: 0.6613 - val_accuracy: 0.6395 - val_loss: 0.8218\n",
            "Epoch 54/200\n",
            "\u001b[1m11/11\u001b[0m \u001b[32m━━━━━━━━━━━━━━━━━━━━\u001b[0m\u001b[37m\u001b[0m \u001b[1m1s\u001b[0m 73ms/step - accuracy: 0.7320 - loss: 0.6710 - val_accuracy: 0.6395 - val_loss: 0.7978\n",
            "Epoch 55/200\n",
            "\u001b[1m11/11\u001b[0m \u001b[32m━━━━━━━━━━━━━━━━━━━━\u001b[0m\u001b[37m\u001b[0m \u001b[1m1s\u001b[0m 71ms/step - accuracy: 0.7586 - loss: 0.6430 - val_accuracy: 0.6395 - val_loss: 0.7835\n",
            "Epoch 56/200\n",
            "\u001b[1m11/11\u001b[0m \u001b[32m━━━━━━━━━━━━━━━━━━━━\u001b[0m\u001b[37m\u001b[0m \u001b[1m1s\u001b[0m 76ms/step - accuracy: 0.7405 - loss: 0.6261 - val_accuracy: 0.6541 - val_loss: 0.7910\n",
            "Epoch 57/200\n",
            "\u001b[1m11/11\u001b[0m \u001b[32m━━━━━━━━━━━━━━━━━━━━\u001b[0m\u001b[37m\u001b[0m \u001b[1m1s\u001b[0m 70ms/step - accuracy: 0.7552 - loss: 0.6262 - val_accuracy: 0.6570 - val_loss: 0.7813\n",
            "Epoch 58/200\n",
            "\u001b[1m11/11\u001b[0m \u001b[32m━━━━━━━━━━━━━━━━━━━━\u001b[0m\u001b[37m\u001b[0m \u001b[1m1s\u001b[0m 75ms/step - accuracy: 0.7511 - loss: 0.6330 - val_accuracy: 0.6715 - val_loss: 0.7650\n",
            "Epoch 59/200\n",
            "\u001b[1m11/11\u001b[0m \u001b[32m━━━━━━━━━━━━━━━━━━━━\u001b[0m\u001b[37m\u001b[0m \u001b[1m1s\u001b[0m 74ms/step - accuracy: 0.7515 - loss: 0.6247 - val_accuracy: 0.6512 - val_loss: 0.7883\n",
            "Epoch 60/200\n",
            "\u001b[1m11/11\u001b[0m \u001b[32m━━━━━━━━━━━━━━━━━━━━\u001b[0m\u001b[37m\u001b[0m \u001b[1m1s\u001b[0m 71ms/step - accuracy: 0.7534 - loss: 0.6184 - val_accuracy: 0.6453 - val_loss: 0.8009\n",
            "Epoch 61/200\n",
            "\u001b[1m11/11\u001b[0m \u001b[32m━━━━━━━━━━━━━━━━━━━━\u001b[0m\u001b[37m\u001b[0m \u001b[1m1s\u001b[0m 75ms/step - accuracy: 0.7659 - loss: 0.5867 - val_accuracy: 0.6628 - val_loss: 0.7733\n",
            "Epoch 62/200\n",
            "\u001b[1m11/11\u001b[0m \u001b[32m━━━━━━━━━━━━━━━━━━━━\u001b[0m\u001b[37m\u001b[0m \u001b[1m1s\u001b[0m 69ms/step - accuracy: 0.7670 - loss: 0.5847 - val_accuracy: 0.6628 - val_loss: 0.7698\n",
            "Epoch 63/200\n",
            "\u001b[1m11/11\u001b[0m \u001b[32m━━━━━━━━━━━━━━━━━━━━\u001b[0m\u001b[37m\u001b[0m \u001b[1m1s\u001b[0m 73ms/step - accuracy: 0.7754 - loss: 0.5972 - val_accuracy: 0.6599 - val_loss: 0.7655\n",
            "Epoch 64/200\n",
            "\u001b[1m11/11\u001b[0m \u001b[32m━━━━━━━━━━━━━━━━━━━━\u001b[0m\u001b[37m\u001b[0m \u001b[1m1s\u001b[0m 69ms/step - accuracy: 0.7712 - loss: 0.5783 - val_accuracy: 0.6773 - val_loss: 0.7810\n",
            "Epoch 65/200\n",
            "\u001b[1m11/11\u001b[0m \u001b[32m━━━━━━━━━━━━━━━━━━━━\u001b[0m\u001b[37m\u001b[0m \u001b[1m1s\u001b[0m 72ms/step - accuracy: 0.7770 - loss: 0.5833 - val_accuracy: 0.6686 - val_loss: 0.7689\n",
            "Epoch 66/200\n",
            "\u001b[1m11/11\u001b[0m \u001b[32m━━━━━━━━━━━━━━━━━━━━\u001b[0m\u001b[37m\u001b[0m \u001b[1m1s\u001b[0m 70ms/step - accuracy: 0.7909 - loss: 0.5667 - val_accuracy: 0.6802 - val_loss: 0.7790\n",
            "Epoch 67/200\n",
            "\u001b[1m11/11\u001b[0m \u001b[32m━━━━━━━━━━━━━━━━━━━━\u001b[0m\u001b[37m\u001b[0m \u001b[1m1s\u001b[0m 74ms/step - accuracy: 0.7705 - loss: 0.5712 - val_accuracy: 0.6919 - val_loss: 0.7485\n",
            "Epoch 68/200\n",
            "\u001b[1m11/11\u001b[0m \u001b[32m━━━━━━━━━━━━━━━━━━━━\u001b[0m\u001b[37m\u001b[0m \u001b[1m1s\u001b[0m 71ms/step - accuracy: 0.7787 - loss: 0.5466 - val_accuracy: 0.6773 - val_loss: 0.7659\n",
            "Epoch 69/200\n",
            "\u001b[1m11/11\u001b[0m \u001b[32m━━━━━━━━━━━━━━━━━━━━\u001b[0m\u001b[37m\u001b[0m \u001b[1m1s\u001b[0m 70ms/step - accuracy: 0.7798 - loss: 0.5615 - val_accuracy: 0.6890 - val_loss: 0.7584\n",
            "Epoch 70/200\n",
            "\u001b[1m11/11\u001b[0m \u001b[32m━━━━━━━━━━━━━━━━━━━━\u001b[0m\u001b[37m\u001b[0m \u001b[1m1s\u001b[0m 79ms/step - accuracy: 0.7906 - loss: 0.5504 - val_accuracy: 0.6860 - val_loss: 0.7511\n",
            "Epoch 71/200\n",
            "\u001b[1m11/11\u001b[0m \u001b[32m━━━━━━━━━━━━━━━━━━━━\u001b[0m\u001b[37m\u001b[0m \u001b[1m1s\u001b[0m 72ms/step - accuracy: 0.7914 - loss: 0.5390 - val_accuracy: 0.6919 - val_loss: 0.7285\n",
            "Epoch 72/200\n",
            "\u001b[1m11/11\u001b[0m \u001b[32m━━━━━━━━━━━━━━━━━━━━\u001b[0m\u001b[37m\u001b[0m \u001b[1m1s\u001b[0m 71ms/step - accuracy: 0.8018 - loss: 0.5218 - val_accuracy: 0.6744 - val_loss: 0.7709\n",
            "Epoch 73/200\n",
            "\u001b[1m11/11\u001b[0m \u001b[32m━━━━━━━━━━━━━━━━━━━━\u001b[0m\u001b[37m\u001b[0m \u001b[1m1s\u001b[0m 73ms/step - accuracy: 0.7778 - loss: 0.5288 - val_accuracy: 0.6744 - val_loss: 0.7546\n",
            "Epoch 74/200\n",
            "\u001b[1m11/11\u001b[0m \u001b[32m━━━━━━━━━━━━━━━━━━━━\u001b[0m\u001b[37m\u001b[0m \u001b[1m1s\u001b[0m 69ms/step - accuracy: 0.7912 - loss: 0.5358 - val_accuracy: 0.6773 - val_loss: 0.7699\n",
            "Epoch 75/200\n",
            "\u001b[1m11/11\u001b[0m \u001b[32m━━━━━━━━━━━━━━━━━━━━\u001b[0m\u001b[37m\u001b[0m \u001b[1m1s\u001b[0m 71ms/step - accuracy: 0.7905 - loss: 0.5415 - val_accuracy: 0.6831 - val_loss: 0.7463\n",
            "Epoch 76/200\n",
            "\u001b[1m11/11\u001b[0m \u001b[32m━━━━━━━━━━━━━━━━━━━━\u001b[0m\u001b[37m\u001b[0m \u001b[1m1s\u001b[0m 71ms/step - accuracy: 0.8078 - loss: 0.5264 - val_accuracy: 0.6744 - val_loss: 0.7753\n",
            "Epoch 77/200\n",
            "\u001b[1m11/11\u001b[0m \u001b[32m━━━━━━━━━━━━━━━━━━━━\u001b[0m\u001b[37m\u001b[0m \u001b[1m1s\u001b[0m 71ms/step - accuracy: 0.8072 - loss: 0.5202 - val_accuracy: 0.6802 - val_loss: 0.7620\n",
            "Epoch 78/200\n",
            "\u001b[1m11/11\u001b[0m \u001b[32m━━━━━━━━━━━━━━━━━━━━\u001b[0m\u001b[37m\u001b[0m \u001b[1m1s\u001b[0m 74ms/step - accuracy: 0.8017 - loss: 0.5084 - val_accuracy: 0.6919 - val_loss: 0.7678\n",
            "Epoch 79/200\n",
            "\u001b[1m11/11\u001b[0m \u001b[32m━━━━━━━━━━━━━━━━━━━━\u001b[0m\u001b[37m\u001b[0m \u001b[1m1s\u001b[0m 74ms/step - accuracy: 0.8005 - loss: 0.5078 - val_accuracy: 0.6948 - val_loss: 0.7600\n",
            "Epoch 80/200\n",
            "\u001b[1m11/11\u001b[0m \u001b[32m━━━━━━━━━━━━━━━━━━━━\u001b[0m\u001b[37m\u001b[0m \u001b[1m1s\u001b[0m 70ms/step - accuracy: 0.8094 - loss: 0.5025 - val_accuracy: 0.6948 - val_loss: 0.7471\n",
            "Epoch 81/200\n",
            "\u001b[1m11/11\u001b[0m \u001b[32m━━━━━━━━━━━━━━━━━━━━\u001b[0m\u001b[37m\u001b[0m \u001b[1m1s\u001b[0m 72ms/step - accuracy: 0.8072 - loss: 0.4938 - val_accuracy: 0.6802 - val_loss: 0.7845\n",
            "Epoch 82/200\n",
            "\u001b[1m11/11\u001b[0m \u001b[32m━━━━━━━━━━━━━━━━━━━━\u001b[0m\u001b[37m\u001b[0m \u001b[1m1s\u001b[0m 69ms/step - accuracy: 0.8098 - loss: 0.5039 - val_accuracy: 0.6977 - val_loss: 0.7758\n",
            "Epoch 83/200\n",
            "\u001b[1m11/11\u001b[0m \u001b[32m━━━━━━━━━━━━━━━━━━━━\u001b[0m\u001b[37m\u001b[0m \u001b[1m1s\u001b[0m 71ms/step - accuracy: 0.7980 - loss: 0.5166 - val_accuracy: 0.7035 - val_loss: 0.7363\n",
            "Epoch 84/200\n",
            "\u001b[1m11/11\u001b[0m \u001b[32m━━━━━━━━━━━━━━━━━━━━\u001b[0m\u001b[37m\u001b[0m \u001b[1m1s\u001b[0m 69ms/step - accuracy: 0.8038 - loss: 0.5065 - val_accuracy: 0.7006 - val_loss: 0.7493\n",
            "Epoch 85/200\n",
            "\u001b[1m11/11\u001b[0m \u001b[32m━━━━━━━━━━━━━━━━━━━━\u001b[0m\u001b[37m\u001b[0m \u001b[1m1s\u001b[0m 72ms/step - accuracy: 0.8080 - loss: 0.5068 - val_accuracy: 0.6890 - val_loss: 0.7621\n",
            "Epoch 86/200\n",
            "\u001b[1m11/11\u001b[0m \u001b[32m━━━━━━━━━━━━━━━━━━━━\u001b[0m\u001b[37m\u001b[0m \u001b[1m1s\u001b[0m 81ms/step - accuracy: 0.8109 - loss: 0.5023 - val_accuracy: 0.6948 - val_loss: 0.7659\n",
            "Epoch 87/200\n",
            "\u001b[1m11/11\u001b[0m \u001b[32m━━━━━━━━━━━━━━━━━━━━\u001b[0m\u001b[37m\u001b[0m \u001b[1m1s\u001b[0m 70ms/step - accuracy: 0.8103 - loss: 0.4686 - val_accuracy: 0.6977 - val_loss: 0.7304\n",
            "Epoch 88/200\n",
            "\u001b[1m11/11\u001b[0m \u001b[32m━━━━━━━━━━━━━━━━━━━━\u001b[0m\u001b[37m\u001b[0m \u001b[1m1s\u001b[0m 73ms/step - accuracy: 0.8254 - loss: 0.4529 - val_accuracy: 0.6831 - val_loss: 0.7679\n",
            "Epoch 89/200\n",
            "\u001b[1m11/11\u001b[0m \u001b[32m━━━━━━━━━━━━━━━━━━━━\u001b[0m\u001b[37m\u001b[0m \u001b[1m1s\u001b[0m 73ms/step - accuracy: 0.8066 - loss: 0.4670 - val_accuracy: 0.7093 - val_loss: 0.7621\n",
            "Epoch 90/200\n",
            "\u001b[1m11/11\u001b[0m \u001b[32m━━━━━━━━━━━━━━━━━━━━\u001b[0m\u001b[37m\u001b[0m \u001b[1m1s\u001b[0m 71ms/step - accuracy: 0.8252 - loss: 0.4606 - val_accuracy: 0.6977 - val_loss: 0.7527\n",
            "Epoch 91/200\n",
            "\u001b[1m11/11\u001b[0m \u001b[32m━━━━━━━━━━━━━━━━━━━━\u001b[0m\u001b[37m\u001b[0m \u001b[1m1s\u001b[0m 69ms/step - accuracy: 0.8198 - loss: 0.4644 - val_accuracy: 0.6860 - val_loss: 0.7456\n",
            "Epoch 92/200\n",
            "\u001b[1m11/11\u001b[0m \u001b[32m━━━━━━━━━━━━━━━━━━━━\u001b[0m\u001b[37m\u001b[0m \u001b[1m1s\u001b[0m 73ms/step - accuracy: 0.8348 - loss: 0.4342 - val_accuracy: 0.6919 - val_loss: 0.7356\n",
            "Epoch 93/200\n",
            "\u001b[1m11/11\u001b[0m \u001b[32m━━━━━━━━━━━━━━━━━━━━\u001b[0m\u001b[37m\u001b[0m \u001b[1m1s\u001b[0m 69ms/step - accuracy: 0.8343 - loss: 0.4170 - val_accuracy: 0.7006 - val_loss: 0.7376\n",
            "Epoch 94/200\n",
            "\u001b[1m11/11\u001b[0m \u001b[32m━━━━━━━━━━━━━━━━━━━━\u001b[0m\u001b[37m\u001b[0m \u001b[1m1s\u001b[0m 71ms/step - accuracy: 0.8286 - loss: 0.4351 - val_accuracy: 0.6948 - val_loss: 0.7262\n",
            "Epoch 95/200\n",
            "\u001b[1m11/11\u001b[0m \u001b[32m━━━━━━━━━━━━━━━━━━━━\u001b[0m\u001b[37m\u001b[0m \u001b[1m1s\u001b[0m 74ms/step - accuracy: 0.8401 - loss: 0.4178 - val_accuracy: 0.6715 - val_loss: 0.7922\n",
            "Epoch 96/200\n",
            "\u001b[1m11/11\u001b[0m \u001b[32m━━━━━━━━━━━━━━━━━━━━\u001b[0m\u001b[37m\u001b[0m \u001b[1m1s\u001b[0m 73ms/step - accuracy: 0.8413 - loss: 0.4169 - val_accuracy: 0.7093 - val_loss: 0.7190\n",
            "Epoch 97/200\n",
            "\u001b[1m11/11\u001b[0m \u001b[32m━━━━━━━━━━━━━━━━━━━━\u001b[0m\u001b[37m\u001b[0m \u001b[1m1s\u001b[0m 72ms/step - accuracy: 0.8328 - loss: 0.4188 - val_accuracy: 0.7064 - val_loss: 0.7271\n",
            "Epoch 98/200\n",
            "\u001b[1m11/11\u001b[0m \u001b[32m━━━━━━━━━━━━━━━━━━━━\u001b[0m\u001b[37m\u001b[0m \u001b[1m1s\u001b[0m 75ms/step - accuracy: 0.8366 - loss: 0.4120 - val_accuracy: 0.7006 - val_loss: 0.7438\n",
            "Epoch 99/200\n",
            "\u001b[1m11/11\u001b[0m \u001b[32m━━━━━━━━━━━━━━━━━━━━\u001b[0m\u001b[37m\u001b[0m \u001b[1m1s\u001b[0m 72ms/step - accuracy: 0.8448 - loss: 0.3956 - val_accuracy: 0.7006 - val_loss: 0.7422\n",
            "Epoch 100/200\n",
            "\u001b[1m11/11\u001b[0m \u001b[32m━━━━━━━━━━━━━━━━━━━━\u001b[0m\u001b[37m\u001b[0m \u001b[1m1s\u001b[0m 79ms/step - accuracy: 0.8523 - loss: 0.3999 - val_accuracy: 0.6977 - val_loss: 0.7429\n",
            "Epoch 101/200\n",
            "\u001b[1m11/11\u001b[0m \u001b[32m━━━━━━━━━━━━━━━━━━━━\u001b[0m\u001b[37m\u001b[0m \u001b[1m1s\u001b[0m 71ms/step - accuracy: 0.8404 - loss: 0.4069 - val_accuracy: 0.7209 - val_loss: 0.7329\n",
            "Epoch 102/200\n",
            "\u001b[1m11/11\u001b[0m \u001b[32m━━━━━━━━━━━━━━━━━━━━\u001b[0m\u001b[37m\u001b[0m \u001b[1m1s\u001b[0m 70ms/step - accuracy: 0.8422 - loss: 0.4009 - val_accuracy: 0.7238 - val_loss: 0.7205\n",
            "Epoch 103/200\n",
            "\u001b[1m11/11\u001b[0m \u001b[32m━━━━━━━━━━━━━━━━━━━━\u001b[0m\u001b[37m\u001b[0m \u001b[1m1s\u001b[0m 77ms/step - accuracy: 0.8431 - loss: 0.4111 - val_accuracy: 0.7122 - val_loss: 0.7420\n",
            "Epoch 104/200\n",
            "\u001b[1m11/11\u001b[0m \u001b[32m━━━━━━━━━━━━━━━━━━━━\u001b[0m\u001b[37m\u001b[0m \u001b[1m1s\u001b[0m 73ms/step - accuracy: 0.8510 - loss: 0.4053 - val_accuracy: 0.7151 - val_loss: 0.7443\n",
            "Epoch 105/200\n",
            "\u001b[1m11/11\u001b[0m \u001b[32m━━━━━━━━━━━━━━━━━━━━\u001b[0m\u001b[37m\u001b[0m \u001b[1m1s\u001b[0m 74ms/step - accuracy: 0.8512 - loss: 0.3878 - val_accuracy: 0.6919 - val_loss: 0.7667\n",
            "Epoch 106/200\n",
            "\u001b[1m11/11\u001b[0m \u001b[32m━━━━━━━━━━━━━━━━━━━━\u001b[0m\u001b[37m\u001b[0m \u001b[1m1s\u001b[0m 73ms/step - accuracy: 0.8392 - loss: 0.4283 - val_accuracy: 0.7151 - val_loss: 0.7064\n",
            "Epoch 107/200\n",
            "\u001b[1m11/11\u001b[0m \u001b[32m━━━━━━━━━━━━━━━━━━━━\u001b[0m\u001b[37m\u001b[0m \u001b[1m1s\u001b[0m 71ms/step - accuracy: 0.8380 - loss: 0.4099 - val_accuracy: 0.7180 - val_loss: 0.7480\n",
            "Epoch 108/200\n",
            "\u001b[1m11/11\u001b[0m \u001b[32m━━━━━━━━━━━━━━━━━━━━\u001b[0m\u001b[37m\u001b[0m \u001b[1m1s\u001b[0m 73ms/step - accuracy: 0.8461 - loss: 0.3885 - val_accuracy: 0.6831 - val_loss: 0.7732\n",
            "Epoch 109/200\n",
            "\u001b[1m11/11\u001b[0m \u001b[32m━━━━━━━━━━━━━━━━━━━━\u001b[0m\u001b[37m\u001b[0m \u001b[1m1s\u001b[0m 76ms/step - accuracy: 0.8476 - loss: 0.4179 - val_accuracy: 0.7122 - val_loss: 0.7450\n",
            "Epoch 110/200\n",
            "\u001b[1m11/11\u001b[0m \u001b[32m━━━━━━━━━━━━━━━━━━━━\u001b[0m\u001b[37m\u001b[0m \u001b[1m1s\u001b[0m 70ms/step - accuracy: 0.8517 - loss: 0.4002 - val_accuracy: 0.6773 - val_loss: 0.8315\n",
            "Epoch 111/200\n",
            "\u001b[1m11/11\u001b[0m \u001b[32m━━━━━━━━━━━━━━━━━━━━\u001b[0m\u001b[37m\u001b[0m \u001b[1m1s\u001b[0m 74ms/step - accuracy: 0.8447 - loss: 0.4144 - val_accuracy: 0.6860 - val_loss: 0.8592\n",
            "Epoch 112/200\n",
            "\u001b[1m11/11\u001b[0m \u001b[32m━━━━━━━━━━━━━━━━━━━━\u001b[0m\u001b[37m\u001b[0m \u001b[1m1s\u001b[0m 70ms/step - accuracy: 0.8374 - loss: 0.4093 - val_accuracy: 0.6860 - val_loss: 0.8521\n",
            "Epoch 113/200\n",
            "\u001b[1m11/11\u001b[0m \u001b[32m━━━━━━━━━━━━━━━━━━━━\u001b[0m\u001b[37m\u001b[0m \u001b[1m1s\u001b[0m 82ms/step - accuracy: 0.8519 - loss: 0.4445 - val_accuracy: 0.6744 - val_loss: 0.8371\n",
            "Epoch 114/200\n",
            "\u001b[1m11/11\u001b[0m \u001b[32m━━━━━━━━━━━━━━━━━━━━\u001b[0m\u001b[37m\u001b[0m \u001b[1m1s\u001b[0m 73ms/step - accuracy: 0.8214 - loss: 0.4606 - val_accuracy: 0.6948 - val_loss: 0.8052\n",
            "Epoch 115/200\n",
            "\u001b[1m11/11\u001b[0m \u001b[32m━━━━━━━━━━━━━━━━━━━━\u001b[0m\u001b[37m\u001b[0m \u001b[1m1s\u001b[0m 73ms/step - accuracy: 0.8456 - loss: 0.4348 - val_accuracy: 0.7006 - val_loss: 0.7592\n",
            "Epoch 116/200\n",
            "\u001b[1m11/11\u001b[0m \u001b[32m━━━━━━━━━━━━━━━━━━━━\u001b[0m\u001b[37m\u001b[0m \u001b[1m1s\u001b[0m 73ms/step - accuracy: 0.8435 - loss: 0.3941 - val_accuracy: 0.6948 - val_loss: 0.7355\n",
            "Epoch 117/200\n",
            "\u001b[1m11/11\u001b[0m \u001b[32m━━━━━━━━━━━━━━━━━━━━\u001b[0m\u001b[37m\u001b[0m \u001b[1m1s\u001b[0m 71ms/step - accuracy: 0.8650 - loss: 0.3540 - val_accuracy: 0.7384 - val_loss: 0.7531\n",
            "Epoch 118/200\n",
            "\u001b[1m11/11\u001b[0m \u001b[32m━━━━━━━━━━━━━━━━━━━━\u001b[0m\u001b[37m\u001b[0m \u001b[1m1s\u001b[0m 75ms/step - accuracy: 0.8526 - loss: 0.3746 - val_accuracy: 0.6977 - val_loss: 0.7892\n",
            "Epoch 119/200\n",
            "\u001b[1m11/11\u001b[0m \u001b[32m━━━━━━━━━━━━━━━━━━━━\u001b[0m\u001b[37m\u001b[0m \u001b[1m1s\u001b[0m 72ms/step - accuracy: 0.8535 - loss: 0.3766 - val_accuracy: 0.7413 - val_loss: 0.7194\n",
            "Epoch 120/200\n",
            "\u001b[1m11/11\u001b[0m \u001b[32m━━━━━━━━━━━━━━━━━━━━\u001b[0m\u001b[37m\u001b[0m \u001b[1m1s\u001b[0m 80ms/step - accuracy: 0.8595 - loss: 0.3526 - val_accuracy: 0.7209 - val_loss: 0.7542\n",
            "Epoch 121/200\n",
            "\u001b[1m11/11\u001b[0m \u001b[32m━━━━━━━━━━━━━━━━━━━━\u001b[0m\u001b[37m\u001b[0m \u001b[1m1s\u001b[0m 72ms/step - accuracy: 0.8727 - loss: 0.3496 - val_accuracy: 0.7238 - val_loss: 0.7449\n",
            "Epoch 122/200\n",
            "\u001b[1m11/11\u001b[0m \u001b[32m━━━━━━━━━━━━━━━━━━━━\u001b[0m\u001b[37m\u001b[0m \u001b[1m1s\u001b[0m 73ms/step - accuracy: 0.8887 - loss: 0.3432 - val_accuracy: 0.7326 - val_loss: 0.7405\n",
            "Epoch 123/200\n",
            "\u001b[1m11/11\u001b[0m \u001b[32m━━━━━━━━━━━━━━━━━━━━\u001b[0m\u001b[37m\u001b[0m \u001b[1m1s\u001b[0m 71ms/step - accuracy: 0.8797 - loss: 0.3312 - val_accuracy: 0.7238 - val_loss: 0.7165\n",
            "Epoch 124/200\n",
            "\u001b[1m11/11\u001b[0m \u001b[32m━━━━━━━━━━━━━━━━━━━━\u001b[0m\u001b[37m\u001b[0m \u001b[1m1s\u001b[0m 73ms/step - accuracy: 0.8987 - loss: 0.3112 - val_accuracy: 0.7209 - val_loss: 0.7425\n",
            "Epoch 125/200\n",
            "\u001b[1m11/11\u001b[0m \u001b[32m━━━━━━━━━━━━━━━━━━━━\u001b[0m\u001b[37m\u001b[0m \u001b[1m1s\u001b[0m 71ms/step - accuracy: 0.8931 - loss: 0.3156 - val_accuracy: 0.7180 - val_loss: 0.7372\n",
            "Epoch 126/200\n",
            "\u001b[1m11/11\u001b[0m \u001b[32m━━━━━━━━━━━━━━━━━━━━\u001b[0m\u001b[37m\u001b[0m \u001b[1m1s\u001b[0m 81ms/step - accuracy: 0.8712 - loss: 0.3621 - val_accuracy: 0.7180 - val_loss: 0.7487\n",
            "Epoch 127/200\n",
            "\u001b[1m11/11\u001b[0m \u001b[32m━━━━━━━━━━━━━━━━━━━━\u001b[0m\u001b[37m\u001b[0m \u001b[1m1s\u001b[0m 71ms/step - accuracy: 0.8923 - loss: 0.3132 - val_accuracy: 0.7355 - val_loss: 0.7151\n",
            "Epoch 128/200\n",
            "\u001b[1m11/11\u001b[0m \u001b[32m━━━━━━━━━━━━━━━━━━━━\u001b[0m\u001b[37m\u001b[0m \u001b[1m1s\u001b[0m 74ms/step - accuracy: 0.8753 - loss: 0.3345 - val_accuracy: 0.7384 - val_loss: 0.7219\n",
            "Epoch 129/200\n",
            "\u001b[1m11/11\u001b[0m \u001b[32m━━━━━━━━━━━━━━━━━━━━\u001b[0m\u001b[37m\u001b[0m \u001b[1m1s\u001b[0m 73ms/step - accuracy: 0.8850 - loss: 0.3201 - val_accuracy: 0.7529 - val_loss: 0.7163\n",
            "Epoch 130/200\n",
            "\u001b[1m11/11\u001b[0m \u001b[32m━━━━━━━━━━━━━━━━━━━━\u001b[0m\u001b[37m\u001b[0m \u001b[1m1s\u001b[0m 74ms/step - accuracy: 0.8965 - loss: 0.3048 - val_accuracy: 0.7645 - val_loss: 0.7181\n",
            "Epoch 131/200\n",
            "\u001b[1m11/11\u001b[0m \u001b[32m━━━━━━━━━━━━━━━━━━━━\u001b[0m\u001b[37m\u001b[0m \u001b[1m1s\u001b[0m 70ms/step - accuracy: 0.8788 - loss: 0.3089 - val_accuracy: 0.7267 - val_loss: 0.7642\n",
            "Epoch 132/200\n",
            "\u001b[1m11/11\u001b[0m \u001b[32m━━━━━━━━━━━━━━━━━━━━\u001b[0m\u001b[37m\u001b[0m \u001b[1m1s\u001b[0m 79ms/step - accuracy: 0.8841 - loss: 0.3037 - val_accuracy: 0.7442 - val_loss: 0.7117\n",
            "Epoch 133/200\n",
            "\u001b[1m11/11\u001b[0m \u001b[32m━━━━━━━━━━━━━━━━━━━━\u001b[0m\u001b[37m\u001b[0m \u001b[1m1s\u001b[0m 69ms/step - accuracy: 0.8813 - loss: 0.3074 - val_accuracy: 0.7384 - val_loss: 0.7306\n",
            "Epoch 134/200\n",
            "\u001b[1m11/11\u001b[0m \u001b[32m━━━━━━━━━━━━━━━━━━━━\u001b[0m\u001b[37m\u001b[0m \u001b[1m1s\u001b[0m 73ms/step - accuracy: 0.8853 - loss: 0.3090 - val_accuracy: 0.7238 - val_loss: 0.7315\n",
            "Epoch 135/200\n",
            "\u001b[1m11/11\u001b[0m \u001b[32m━━━━━━━━━━━━━━━━━━━━\u001b[0m\u001b[37m\u001b[0m \u001b[1m1s\u001b[0m 73ms/step - accuracy: 0.8891 - loss: 0.2883 - val_accuracy: 0.7384 - val_loss: 0.7272\n",
            "Epoch 136/200\n",
            "\u001b[1m11/11\u001b[0m \u001b[32m━━━━━━━━━━━━━━━━━━━━\u001b[0m\u001b[37m\u001b[0m \u001b[1m1s\u001b[0m 71ms/step - accuracy: 0.8986 - loss: 0.2980 - val_accuracy: 0.7384 - val_loss: 0.7097\n",
            "Epoch 137/200\n",
            "\u001b[1m11/11\u001b[0m \u001b[32m━━━━━━━━━━━━━━━━━━━━\u001b[0m\u001b[37m\u001b[0m \u001b[1m1s\u001b[0m 73ms/step - accuracy: 0.8987 - loss: 0.2820 - val_accuracy: 0.7442 - val_loss: 0.7316\n",
            "Epoch 138/200\n",
            "\u001b[1m11/11\u001b[0m \u001b[32m━━━━━━━━━━━━━━━━━━━━\u001b[0m\u001b[37m\u001b[0m \u001b[1m1s\u001b[0m 76ms/step - accuracy: 0.8950 - loss: 0.3099 - val_accuracy: 0.7297 - val_loss: 0.7444\n",
            "Epoch 139/200\n",
            "\u001b[1m11/11\u001b[0m \u001b[32m━━━━━━━━━━━━━━━━━━━━\u001b[0m\u001b[37m\u001b[0m \u001b[1m1s\u001b[0m 72ms/step - accuracy: 0.9022 - loss: 0.2864 - val_accuracy: 0.7326 - val_loss: 0.7450\n",
            "Epoch 140/200\n",
            "\u001b[1m11/11\u001b[0m \u001b[32m━━━━━━━━━━━━━━━━━━━━\u001b[0m\u001b[37m\u001b[0m \u001b[1m1s\u001b[0m 72ms/step - accuracy: 0.9024 - loss: 0.2769 - val_accuracy: 0.7384 - val_loss: 0.7559\n",
            "Epoch 141/200\n",
            "\u001b[1m11/11\u001b[0m \u001b[32m━━━━━━━━━━━━━━━━━━━━\u001b[0m\u001b[37m\u001b[0m \u001b[1m1s\u001b[0m 72ms/step - accuracy: 0.8947 - loss: 0.2954 - val_accuracy: 0.7267 - val_loss: 0.7686\n",
            "Epoch 142/200\n",
            "\u001b[1m11/11\u001b[0m \u001b[32m━━━━━━━━━━━━━━━━━━━━\u001b[0m\u001b[37m\u001b[0m \u001b[1m1s\u001b[0m 74ms/step - accuracy: 0.8994 - loss: 0.2886 - val_accuracy: 0.7151 - val_loss: 0.7751\n",
            "Epoch 143/200\n",
            "\u001b[1m11/11\u001b[0m \u001b[32m━━━━━━━━━━━━━━━━━━━━\u001b[0m\u001b[37m\u001b[0m \u001b[1m1s\u001b[0m 74ms/step - accuracy: 0.8947 - loss: 0.2837 - val_accuracy: 0.7471 - val_loss: 0.7208\n",
            "Epoch 144/200\n",
            "\u001b[1m11/11\u001b[0m \u001b[32m━━━━━━━━━━━━━━━━━━━━\u001b[0m\u001b[37m\u001b[0m \u001b[1m1s\u001b[0m 77ms/step - accuracy: 0.9049 - loss: 0.2830 - val_accuracy: 0.7326 - val_loss: 0.7571\n",
            "Epoch 145/200\n",
            "\u001b[1m11/11\u001b[0m \u001b[32m━━━━━━━━━━━━━━━━━━━━\u001b[0m\u001b[37m\u001b[0m \u001b[1m1s\u001b[0m 73ms/step - accuracy: 0.8855 - loss: 0.3013 - val_accuracy: 0.7267 - val_loss: 0.7399\n",
            "Epoch 146/200\n",
            "\u001b[1m11/11\u001b[0m \u001b[32m━━━━━━━━━━━━━━━━━━━━\u001b[0m\u001b[37m\u001b[0m \u001b[1m1s\u001b[0m 71ms/step - accuracy: 0.8853 - loss: 0.2882 - val_accuracy: 0.7122 - val_loss: 0.7413\n",
            "Epoch 147/200\n",
            "\u001b[1m11/11\u001b[0m \u001b[32m━━━━━━━━━━━━━━━━━━━━\u001b[0m\u001b[37m\u001b[0m \u001b[1m1s\u001b[0m 74ms/step - accuracy: 0.9094 - loss: 0.2633 - val_accuracy: 0.7442 - val_loss: 0.7417\n",
            "Epoch 148/200\n",
            "\u001b[1m11/11\u001b[0m \u001b[32m━━━━━━━━━━━━━━━━━━━━\u001b[0m\u001b[37m\u001b[0m \u001b[1m1s\u001b[0m 73ms/step - accuracy: 0.9106 - loss: 0.2574 - val_accuracy: 0.7267 - val_loss: 0.7269\n",
            "Epoch 149/200\n",
            "\u001b[1m11/11\u001b[0m \u001b[32m━━━━━━━━━━━━━━━━━━━━\u001b[0m\u001b[37m\u001b[0m \u001b[1m1s\u001b[0m 72ms/step - accuracy: 0.8981 - loss: 0.2715 - val_accuracy: 0.7326 - val_loss: 0.7643\n",
            "Epoch 150/200\n",
            "\u001b[1m11/11\u001b[0m \u001b[32m━━━━━━━━━━━━━━━━━━━━\u001b[0m\u001b[37m\u001b[0m \u001b[1m1s\u001b[0m 78ms/step - accuracy: 0.8951 - loss: 0.2678 - val_accuracy: 0.7587 - val_loss: 0.7159\n"
          ]
        }
      ],
      "source": [
        "history = model.fit(\n",
        "    xtrain,\n",
        "    ytrain,\n",
        "    batch_size = 128,\n",
        "    epochs = 200,\n",
        "    validation_data=(xval,yval),\n",
        "    verbose=1,callbacks=[es]\n",
        "    )"
      ]
    },
    {
      "cell_type": "markdown",
      "metadata": {
        "id": "xQ2Koxsz0Zun"
      },
      "source": [
        "# chatgpt協助做訓練過程評估"
      ]
    },
    {
      "cell_type": "markdown",
      "metadata": {
        "id": "p7k69uPEdxL2"
      },
      "source": [
        "https://sharegpt.com/c/1CqBYQz"
      ]
    },
    {
      "cell_type": "code",
      "execution_count": 46,
      "metadata": {
        "colab": {
          "base_uri": "https://localhost:8080/",
          "height": 265
        },
        "id": "2SxJIEDzbaZ7",
        "outputId": "f4302ec8-51ba-487a-ee52-b08c9a745339"
      },
      "outputs": [
        {
          "data": {
            "image/png": "[encoded data removed]",
            "text/plain": [
              "<Figure size 640x480 with 2 Axes>"
            ]
          },
          "metadata": {},
          "output_type": "display_data"
        }
      ],
      "source": [
        "import matplotlib.pyplot as plt\n",
        "fig, ax = plt.subplots(2,1)\n",
        "ax[0].plot(history.history['loss'], color='b', label=\"Training loss\")\n",
        "ax[0].plot(history.history['val_loss'], color='r', label=\"Validation loss\")\n",
        "ax[0].grid(color='black', linestyle='-', linewidth=0.25)\n",
        "legend = ax[0].legend(loc='best', shadow=True)\n",
        "\n",
        "ax[1].plot(history.history['accuracy'], color='b', label=\"Training accuracy\")\n",
        "ax[1].plot(history.history['val_accuracy'], color='r',label=\"Validation accuracy\")\n",
        "ax[1].grid(color='black', linestyle='-', linewidth=0.25)\n",
        "legend = ax[1].legend(loc='best', shadow=True)"
      ]
    },
    {
      "cell_type": "markdown",
      "metadata": {
        "id": "zWVmgHz80cCp"
      },
      "source": [
        "# chatgpt協助做混淆矩陣"
      ]
    },
    {
      "cell_type": "markdown",
      "metadata": {
        "id": "Z3ab7yzLdxL3"
      },
      "source": [
        "https://sharegpt.com/c/0SZ8tM0"
      ]
    },
    {
      "cell_type": "code",
      "execution_count": 47,
      "metadata": {
        "colab": {
          "base_uri": "https://localhost:8080/",
          "height": 329
        },
        "id": "UH5CcmX6btme",
        "outputId": "1937c93a-613b-476d-d1fb-776bea3d6be6"
      },
      "outputs": [
        {
          "name": "stdout",
          "output_type": "stream",
          "text": [
            "\u001b[1m11/11\u001b[0m \u001b[32m━━━━━━━━━━━━━━━━━━━━\u001b[0m\u001b[37m\u001b[0m \u001b[1m0s\u001b[0m 21ms/step\n"
          ]
        },
        {
          "data": {
            "image/png": "[encoded data removed]",
            "text/plain": [
              "<Figure size 640x480 with 2 Axes>"
            ]
          },
          "metadata": {},
          "output_type": "display_data"
        }
      ],
      "source": [
        "from sklearn.metrics import confusion_matrix\n",
        "import itertools\n",
        "\n",
        "def plot_confusion_matrix(cm, classes, normalize=False, title='Confusion matrix', cmap=plt.cm.Blues):\n",
        "    plt.imshow(cm, interpolation='nearest', cmap=cmap)\n",
        "    plt.title(title)\n",
        "    plt.colorbar()\n",
        "    tick_marks = np.arange(len(classes))\n",
        "    plt.xticks(tick_marks, classes, rotation=45)\n",
        "    plt.yticks(tick_marks, classes)\n",
        "    if normalize:\n",
        "        cm = cm.astype('float') / cm.sum(axis=1)[:, np.newaxis]\n",
        "    thresh = cm.max() / 2.\n",
        "    for i, j in itertools.product(range(cm.shape[0]), range(cm.shape[1])):\n",
        "        plt.text(j, i, cm[i, j],\n",
        "                 horizontalalignment=\"center\",\n",
        "                 color=\"white\" if cm[i, j] > thresh else \"black\")\n",
        "    plt.tight_layout()\n",
        "    plt.ylabel('True label')\n",
        "    plt.xlabel('Predicted label')\n",
        "\n",
        "#預測的y\n",
        "ypred_onehot = model.predict(xval)\n",
        "#轉換預測的y: [0 0 1 0 0 ...] --> 2\n",
        "ypred = np.argmax(ypred_onehot,axis=1)\n",
        "#轉換真實的y\n",
        "ytrue = np.argmax(yval,axis=1)\n",
        "#計算 confusion matrix\n",
        "confusion_mtx = confusion_matrix(ytrue, ypred)\n",
        "#畫出 confusion matrix\n",
        "nclasses = 3\n",
        "plot_confusion_matrix(confusion_mtx, classes=range(nclasses))"
      ]
    },
    {
      "cell_type": "markdown",
      "metadata": {
        "id": "PmgafP2rpjAO"
      },
      "source": [
        "# classification_report "
      ]
    },
    {
      "cell_type": "code",
      "execution_count": 48,
      "metadata": {
        "colab": {
          "base_uri": "https://localhost:8080/"
        },
        "id": "lCSuw9cYqEYk",
        "outputId": "1ed07b66-7ae9-4578-dc75-eaeaf96d8e21"
      },
      "outputs": [
        {
          "name": "stdout",
          "output_type": "stream",
          "text": [
            "\u001b[1m11/11\u001b[0m \u001b[32m━━━━━━━━━━━━━━━━━━━━\u001b[0m\u001b[37m\u001b[0m \u001b[1m0s\u001b[0m 15ms/step\n",
            "              precision    recall  f1-score   support\n",
            "\n",
            "        Hold       0.73      0.72      0.72       115\n",
            "         BUY       0.79      0.81      0.80       115\n",
            "        SELL       0.77      0.76      0.77       114\n",
            "\n",
            "   micro avg       0.76      0.76      0.76       344\n",
            "   macro avg       0.76      0.76      0.76       344\n",
            "weighted avg       0.76      0.76      0.76       344\n",
            " samples avg       0.76      0.76      0.76       344\n",
            "\n"
          ]
        }
      ],
      "source": [
        "from sklearn.metrics import classification_report \n",
        "y_pred = model.predict(xval)\n",
        "y_pred = [np.argmax(i) for i in y_pred]\n",
        "y_pred = to_categorical(y_pred, num_classes = 3)\n",
        "target_names = ['Hold','BUY','SELL']\n",
        "print(classification_report(yval,y_pred,target_names=target_names))"
      ]
    },
    {
      "cell_type": "markdown",
      "metadata": {
        "id": "wztZOw2r1ddE"
      },
      "source": [
        "# 驗證集的準確度"
      ]
    },
    {
      "cell_type": "code",
      "execution_count": 49,
      "metadata": {
        "colab": {
          "base_uri": "https://localhost:8080/"
        },
        "id": "dl9iTLBf2VOe",
        "outputId": "6f622cf3-383c-4776-c893-401f30c4b96d"
      },
      "outputs": [
        {
          "data": {
            "text/plain": [
              "np.float64(0.7645348837209303)"
            ]
          },
          "execution_count": 49,
          "metadata": {},
          "output_type": "execute_result"
        }
      ],
      "source": [
        "def val_acc(yval,y_pred):\n",
        "  t = []\n",
        "  for i,j in zip(yval,y_pred):\n",
        "    t.append(np.allclose(i,j))\n",
        "  return np.mean(t)\n",
        "val_acc(yval,y_pred)"
      ]
    },
    {
      "cell_type": "markdown",
      "metadata": {
        "id": "togdM5Afo71w"
      },
      "source": [
        "## 測試集預測"
      ]
    },
    {
      "cell_type": "code",
      "execution_count": 51,
      "metadata": {
        "colab": {
          "base_uri": "https://localhost:8080/",
          "height": 495
        },
        "id": "kQqzNPdQo8GW",
        "outputId": "8428be5d-7372-4f6d-f621-790f62a06c21"
      },
      "outputs": [
        {
          "name": "stdout",
          "output_type": "stream",
          "text": [
            "\u001b[1m2/2\u001b[0m \u001b[32m━━━━━━━━━━━━━━━━━━━━\u001b[0m\u001b[37m\u001b[0m \u001b[1m0s\u001b[0m 37ms/step\n"
          ]
        },
        {
          "name": "stderr",
          "output_type": "stream",
          "text": [
            "[*********************100%***********************]  1 of 1 completed"
          ]
        },
        {
          "name": "stdout",
          "output_type": "stream",
          "text": [
            "40\n"
          ]
        },
        {
          "name": "stderr",
          "output_type": "stream",
          "text": [
            "\n"
          ]
        },
        {
          "data": {
            "text/plain": [
              "<matplotlib.collections.PathCollection at 0x1a484431d60>"
            ]
          },
          "execution_count": 51,
          "metadata": {},
          "output_type": "execute_result"
        },
        {
          "data": {
            "image/png": "[encoded data removed]",
            "text/plain": [
              "<Figure size 640x480 with 1 Axes>"
            ]
          },
          "metadata": {},
          "output_type": "display_data"
        }
      ],
      "source": [
        "import pandas as pd\n",
        "answer = model.predict(X_test)\n",
        "answer = [ np.argmax(i) for i in answer]\n",
        "print(len(answer))\n",
        "C = pd.DataFrame()\n",
        "C['Close'] = yf.download(y_symbol, start = startdate,end = enddate)['Close']\n",
        "C['SIGNAL'] = 0\n",
        "C = C.tail(len(answer))\n",
        "C['SIGNAL'] = answer \n",
        "buy = C[C['SIGNAL']==1]['Close']\n",
        "sell = C[C['SIGNAL']==2]['Close']\n",
        "C['Close'].plot()\n",
        "plt.scatter(list(buy.index),list(buy.values),color='red',marker=\"^\")\n",
        "plt.scatter(list(sell.index),list(sell.values),color='black')"
      ]
    },
    {
      "cell_type": "markdown",
      "metadata": {
        "id": "fj0UOufddxL7"
      },
      "source": [
        "# 製作交易訊號表格"
      ]
    },
    {
      "cell_type": "code",
      "execution_count": 52,
      "metadata": {
        "colab": {
          "base_uri": "https://localhost:8080/",
          "height": 762
        },
        "id": "Mhqp36TP3GPc",
        "outputId": "3d451220-f6ee-43a2-a46a-862b75cf9ae8"
      },
      "outputs": [
        {
          "name": "stdout",
          "output_type": "stream",
          "text": [
            "\u001b[1m2/2\u001b[0m \u001b[32m━━━━━━━━━━━━━━━━━━━━\u001b[0m\u001b[37m\u001b[0m \u001b[1m0s\u001b[0m 40ms/step\n",
            "\u001b[1m2/2\u001b[0m \u001b[32m━━━━━━━━━━━━━━━━━━━━\u001b[0m\u001b[37m\u001b[0m \u001b[1m0s\u001b[0m 42ms/step\n",
            "\u001b[1m2/2\u001b[0m \u001b[32m━━━━━━━━━━━━━━━━━━━━\u001b[0m\u001b[37m\u001b[0m \u001b[1m0s\u001b[0m 34ms/step\n"
          ]
        },
        {
          "data": {
            "text/html": [
              "<div>\n",
              "<style scoped>\n",
              "    .dataframe tbody tr th:only-of-type {\n",
              "        vertical-align: middle;\n",
              "    }\n",
              "\n",
              "    .dataframe tbody tr th {\n",
              "        vertical-align: top;\n",
              "    }\n",
              "\n",
              "    .dataframe thead th {\n",
              "        text-align: right;\n",
              "    }\n",
              "</style>\n",
              "<table border=\"1\" class=\"dataframe\">\n",
              "  <thead>\n",
              "    <tr style=\"text-align: right;\">\n",
              "      <th></th>\n",
              "      <th>Close</th>\n",
              "      <th>HOLD%</th>\n",
              "      <th>BUY%</th>\n",
              "      <th>SELL%</th>\n",
              "    </tr>\n",
              "    <tr>\n",
              "      <th>Date</th>\n",
              "      <th></th>\n",
              "      <th></th>\n",
              "      <th></th>\n",
              "      <th></th>\n",
              "    </tr>\n",
              "  </thead>\n",
              "  <tbody>\n",
              "    <tr>\n",
              "      <th>2025-03-14</th>\n",
              "      <td>21968.0508</td>\n",
              "      <td>0.0473</td>\n",
              "      <td>0.0005</td>\n",
              "      <td>0.9521</td>\n",
              "    </tr>\n",
              "    <tr>\n",
              "      <th>2025-03-17</th>\n",
              "      <td>22118.6309</td>\n",
              "      <td>0.0208</td>\n",
              "      <td>0.0011</td>\n",
              "      <td>0.9781</td>\n",
              "    </tr>\n",
              "    <tr>\n",
              "      <th>2025-03-18</th>\n",
              "      <td>22271.6699</td>\n",
              "      <td>0.1241</td>\n",
              "      <td>0.0091</td>\n",
              "      <td>0.8668</td>\n",
              "    </tr>\n",
              "    <tr>\n",
              "      <th>2025-03-19</th>\n",
              "      <td>21960.8301</td>\n",
              "      <td>0.5646</td>\n",
              "      <td>0.0198</td>\n",
              "      <td>0.4156</td>\n",
              "    </tr>\n",
              "    <tr>\n",
              "      <th>2025-03-20</th>\n",
              "      <td>22377.2598</td>\n",
              "      <td>0.8827</td>\n",
              "      <td>0.0198</td>\n",
              "      <td>0.0975</td>\n",
              "    </tr>\n",
              "    <tr>\n",
              "      <th>2025-03-21</th>\n",
              "      <td>22209.0996</td>\n",
              "      <td>0.9813</td>\n",
              "      <td>0.0088</td>\n",
              "      <td>0.0098</td>\n",
              "    </tr>\n",
              "    <tr>\n",
              "      <th>2025-03-24</th>\n",
              "      <td>22106.6406</td>\n",
              "      <td>0.9966</td>\n",
              "      <td>0.0026</td>\n",
              "      <td>0.0007</td>\n",
              "    </tr>\n",
              "    <tr>\n",
              "      <th>2025-03-25</th>\n",
              "      <td>22273.1895</td>\n",
              "      <td>0.9990</td>\n",
              "      <td>0.0005</td>\n",
              "      <td>0.0006</td>\n",
              "    </tr>\n",
              "    <tr>\n",
              "      <th>2025-03-26</th>\n",
              "      <td>22260.2891</td>\n",
              "      <td>0.9885</td>\n",
              "      <td>0.0016</td>\n",
              "      <td>0.0099</td>\n",
              "    </tr>\n",
              "    <tr>\n",
              "      <th>2025-03-27</th>\n",
              "      <td>21951.7598</td>\n",
              "      <td>0.4342</td>\n",
              "      <td>0.0163</td>\n",
              "      <td>0.5495</td>\n",
              "    </tr>\n",
              "    <tr>\n",
              "      <th>2025-03-28</th>\n",
              "      <td>21602.8906</td>\n",
              "      <td>0.0497</td>\n",
              "      <td>0.0565</td>\n",
              "      <td>0.8938</td>\n",
              "    </tr>\n",
              "    <tr>\n",
              "      <th>2025-03-31</th>\n",
              "      <td>20695.9004</td>\n",
              "      <td>0.0859</td>\n",
              "      <td>0.1981</td>\n",
              "      <td>0.7160</td>\n",
              "    </tr>\n",
              "    <tr>\n",
              "      <th>2025-04-01</th>\n",
              "      <td>21280.1699</td>\n",
              "      <td>0.2677</td>\n",
              "      <td>0.4571</td>\n",
              "      <td>0.2753</td>\n",
              "    </tr>\n",
              "    <tr>\n",
              "      <th>2025-04-02</th>\n",
              "      <td>21298.2207</td>\n",
              "      <td>0.4762</td>\n",
              "      <td>0.3890</td>\n",
              "      <td>0.1348</td>\n",
              "    </tr>\n",
              "    <tr>\n",
              "      <th>2025-04-07</th>\n",
              "      <td>19232.3496</td>\n",
              "      <td>0.4387</td>\n",
              "      <td>0.0943</td>\n",
              "      <td>0.4670</td>\n",
              "    </tr>\n",
              "    <tr>\n",
              "      <th>2025-04-08</th>\n",
              "      <td>18459.9492</td>\n",
              "      <td>0.0932</td>\n",
              "      <td>0.0166</td>\n",
              "      <td>0.8902</td>\n",
              "    </tr>\n",
              "    <tr>\n",
              "      <th>2025-04-09</th>\n",
              "      <td>17391.7598</td>\n",
              "      <td>0.0258</td>\n",
              "      <td>0.0155</td>\n",
              "      <td>0.9588</td>\n",
              "    </tr>\n",
              "    <tr>\n",
              "      <th>2025-04-10</th>\n",
              "      <td>19000.0293</td>\n",
              "      <td>0.0172</td>\n",
              "      <td>0.0426</td>\n",
              "      <td>0.9402</td>\n",
              "    </tr>\n",
              "    <tr>\n",
              "      <th>2025-04-11</th>\n",
              "      <td>19528.7695</td>\n",
              "      <td>0.0132</td>\n",
              "      <td>0.0431</td>\n",
              "      <td>0.9437</td>\n",
              "    </tr>\n",
              "    <tr>\n",
              "      <th>2025-04-14</th>\n",
              "      <td>19513.0898</td>\n",
              "      <td>0.0277</td>\n",
              "      <td>0.0484</td>\n",
              "      <td>0.9239</td>\n",
              "    </tr>\n",
              "  </tbody>\n",
              "</table>\n",
              "</div>"
            ],
            "text/plain": [
              "                Close  HOLD%   BUY%  SELL%\n",
              "Date                                      \n",
              "2025-03-14 21968.0508 0.0473 0.0005 0.9521\n",
              "2025-03-17 22118.6309 0.0208 0.0011 0.9781\n",
              "2025-03-18 22271.6699 0.1241 0.0091 0.8668\n",
              "2025-03-19 21960.8301 0.5646 0.0198 0.4156\n",
              "2025-03-20 22377.2598 0.8827 0.0198 0.0975\n",
              "2025-03-21 22209.0996 0.9813 0.0088 0.0098\n",
              "2025-03-24 22106.6406 0.9966 0.0026 0.0007\n",
              "2025-03-25 22273.1895 0.9990 0.0005 0.0006\n",
              "2025-03-26 22260.2891 0.9885 0.0016 0.0099\n",
              "2025-03-27 21951.7598 0.4342 0.0163 0.5495\n",
              "2025-03-28 21602.8906 0.0497 0.0565 0.8938\n",
              "2025-03-31 20695.9004 0.0859 0.1981 0.7160\n",
              "2025-04-01 21280.1699 0.2677 0.4571 0.2753\n",
              "2025-04-02 21298.2207 0.4762 0.3890 0.1348\n",
              "2025-04-07 19232.3496 0.4387 0.0943 0.4670\n",
              "2025-04-08 18459.9492 0.0932 0.0166 0.8902\n",
              "2025-04-09 17391.7598 0.0258 0.0155 0.9588\n",
              "2025-04-10 19000.0293 0.0172 0.0426 0.9402\n",
              "2025-04-11 19528.7695 0.0132 0.0431 0.9437\n",
              "2025-04-14 19513.0898 0.0277 0.0484 0.9239"
            ]
          },
          "execution_count": 52,
          "metadata": {},
          "output_type": "execute_result"
        }
      ],
      "source": [
        "import pandas as pd\n",
        "# Set the float_format option to not use scientific notation\n",
        "pd.set_option('display.float_format', '{:.4f}'.format)\n",
        "np.set_printoptions(suppress=True)\n",
        "C['HOLD%'] = model.predict(X_test)[:,0]\n",
        "C['BUY%'] = model.predict(X_test)[:,1]\n",
        "C['SELL%'] = model.predict(X_test)[:,2]\n",
        "C.drop(['SIGNAL'],axis=1).tail(20)"
      ]
    },
    {
      "cell_type": "markdown",
      "metadata": {
        "id": "uzCeo-ctGg-o"
      },
      "source": [
        "# 保存模型"
      ]
    },
    {
      "cell_type": "code",
      "execution_count": 53,
      "metadata": {
        "colab": {
          "base_uri": "https://localhost:8080/"
        },
        "id": "M2fvxlPnBG7r",
        "outputId": "fb742186-2c87-4302-cd2b-d42e51f6cfde"
      },
      "outputs": [
        {
          "name": "stderr",
          "output_type": "stream",
          "text": [
            "WARNING:absl:You are saving your model as an HDF5 file via `model.save()` or `keras.saving.save_model(model)`. This file format is considered legacy. We recommend using instead the native Keras format, e.g. `model.save('my_model.keras')` or `keras.saving.save_model(model, 'my_model.keras')`. \n",
            "WARNING:absl:Compiled the loaded model, but the compiled metrics have yet to be built. `model.compile_metrics` will be empty until you train or evaluate the model.\n"
          ]
        },
        {
          "name": "stdout",
          "output_type": "stream",
          "text": [
            "\u001b[1m2/2\u001b[0m \u001b[32m━━━━━━━━━━━━━━━━━━━━\u001b[0m\u001b[37m\u001b[0m \u001b[1m0s\u001b[0m 111ms/step\n"
          ]
        },
        {
          "data": {
            "text/plain": [
              "array([[0.09318711, 0.01656417, 0.89024884],\n",
              "       [0.02579292, 0.01545568, 0.95875144],\n",
              "       [0.01724449, 0.04257869, 0.9401768 ],\n",
              "       [0.01322635, 0.04305643, 0.94371724],\n",
              "       [0.0277485 , 0.04836522, 0.92388624]], dtype=float32)"
            ]
          },
          "execution_count": 53,
          "metadata": {},
          "output_type": "execute_result"
        }
      ],
      "source": [
        "model.save('model.h5')\n",
        "del model\n",
        "from keras.models import load_model\n",
        "model = load_model('model.h5')\n",
        "predict = model.predict(X_test)\n",
        "predict[-5:]"
      ]
    },
    {
      "cell_type": "code",
      "execution_count": 53,
      "metadata": {
        "id": "e51I2mMLHKe1"
      },
      "outputs": [],
      "source": []
    }
  ],
  "metadata": {
    "accelerator": "GPU",
    "colab": {
      "provenance": []
    },
    "kernelspec": {
      "display_name": "Python 3",
      "language": "python",
      "name": "python3"
    },
    "language_info": {
      "codemirror_mode": {
        "name": "ipython",
        "version": 3
      },
      "file_extension": ".py",
      "mimetype": "text/x-python",
      "name": "python",
      "nbconvert_exporter": "python",
      "pygments_lexer": "ipython3",
      "version": "3.12.5"
    }
  },
  "nbformat": 4,
  "nbformat_minor": 0
}
